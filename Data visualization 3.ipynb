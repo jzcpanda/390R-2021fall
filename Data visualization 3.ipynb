{
 "cells": [
  {
   "cell_type": "markdown",
   "id": "340e92b5",
   "metadata": {},
   "source": [
    "# Statistical transformations\n",
    "\n",
    "Let's consider the difference between `geom_bar()` and `geom_point()`\n",
    "\n",
    "```r\n",
    "ggplot(mpg, aes(x = displ, y = hwy))+\n",
    "  geom_point()\n",
    "\n",
    "ggplot(mpg, aes(x = drv))+\n",
    "  geom_bar()\n",
    "```\n",
    "\n",
    "\n",
    "`geom_point()`: data ---> plot\n",
    "\n",
    "`geom_bar()`: data ---> counts ---> plot\n",
    "\n",
    "\n",
    "`geom_bar()` has one more step between data and plot. It uses the data to calcuate the counts and then draw the plot based on the counts.\n",
    "\n",
    "Many graphs, like scatterplots, plot the raw values of your dataset. Other graphs, like bar charts, calculate new values to plot.\n",
    "\n"
   ]
  },
  {
   "cell_type": "code",
   "execution_count": null,
   "id": "84e0b8d2",
   "metadata": {},
   "outputs": [],
   "source": []
  },
  {
   "cell_type": "markdown",
   "id": "929fc725",
   "metadata": {},
   "source": [
    "To illustrate this,\n",
    "we will use a new dataset `diamonds`.\n",
    "```r\n",
    "ggplot(data = diamonds) + \n",
    "  geom_bar(mapping = aes(x = cut))\n",
    "```\n",
    "\n",
    "<img src=\"./figures/visualization/stat_process.jpg\" alt=\"ds\" style=\"width: 1000px;\"/>"
   ]
  },
  {
   "cell_type": "code",
   "execution_count": null,
   "id": "64fbd351",
   "metadata": {},
   "outputs": [],
   "source": []
  },
  {
   "cell_type": "markdown",
   "id": "7926281c",
   "metadata": {},
   "source": [
    "On the x-axis, the chart displays `cut`, a variable from diamonds. On the y-axis, it displays `count`, which is calculated from the data. The algorithm used to calculate new values for a graph is called a `stat`, short for statistical transformation. \n",
    "\n",
    "You can learn which `stat` a geom uses by inspecting the default value for the `stat` argument. For example, `?geom_bar` shows that the default value for stat is `count`, which means that `geom_bar()` uses `stat_count()`. `stat_count()` is documented on the same page as `geom_bar()`, and if you scroll down you can find a section called \"Computed variables.\" That describes how it computes two new variables: `count` and `prop`.\n",
    "\n",
    "You can generally use `geoms` and `stats` interchangeably. For example, you can recreate the previous plot using `stat_count()` instead of `geom_bar()`\n",
    "\n",
    "```r\n",
    "ggplot(data = diamonds) + \n",
    "  stat_count(mapping = aes(x = cut))\n",
    "```\n",
    "\n",
    "This works because every geom has a default stat; and every stat has a default geom.\n",
    "\n",
    "We can override the default mapping from transformed variables to aesthetics. For example, you might want to display a bar chart of proportion, rather than count.\n",
    "\n",
    "\n",
    "```r\n",
    " ggplot(data = diamonds) + \n",
    "  geom_bar(mapping = aes(x = cut, y = ..prop.., group = 1))\n",
    "```\n",
    "\n",
    "Each stat creates additional variables to map aesthetics to. These variables use a common **..name..** syntax.\n",
    " \n",
    " `group=1` is a \"dummy\" grouping to override the default behavior, which  is to group by `cut` and in general is to group by the `x` variable. The default for `geom_bar` is to group by the `x` variable in order to separately count the number observations in each level of the `x` variable. For example, here, the default would be for `geom_bar()` to return the number of observations with cut equal to \"Fair\", \"Good\", etc.\n",
    "\n",
    "However, if we want proportions, then we need to consider all levels of cut together. Without  `group=1`, the proportion of Fair in Fair is 100%, as is the proportion of Good in Good, etc. `group=1` prevents this, so that the proportions of each level of `cut` will be relative to all levels of `cut`."
   ]
  },
  {
   "cell_type": "code",
   "execution_count": null,
   "id": "afec4df0",
   "metadata": {},
   "outputs": [],
   "source": []
  },
  {
   "cell_type": "markdown",
   "id": "2158713b",
   "metadata": {},
   "source": [
    "Boxplots also use data to calculate summary statistics and then draw the plots.\n",
    "```r\n",
    "ggplot(data = diamonds,mapping = aes(x = cut, y = depth))+\n",
    "  geom_boxplot()\n",
    "```\n"
   ]
  },
  {
   "cell_type": "code",
   "execution_count": null,
   "id": "db208544",
   "metadata": {},
   "outputs": [],
   "source": []
  },
  {
   "cell_type": "markdown",
   "id": "e09d792f",
   "metadata": {},
   "source": [
    "# Summary statistics\n",
    "In descriptive statistics, summary statistics are used to summarize a set of observations, in order to communicate the largest amount of information as simply as possible. For one variable, statisticians commonly try to describe the observations in\n",
    "\n",
    "* a measure of location, or central tendency, such as the mean and the median\n",
    "\n",
    "* a measure of statistical dispersion like the standard deviation, variance, range, interquantile range.\n",
    "\n",
    "## Mean\n",
    "\n",
    "Simply the mean or average when the context is clear, is the sum of a collection of numbers divided by the count of numbers in the collection.\n",
    "\n",
    "```r\n",
    "a <- c(1,1,2,2,3,3,3,3,3,4,5,6)\n",
    "b <- c(-3,2,4,2,5,-6,1,2,2,4,4,-2)\n",
    "mean(a)\n",
    "mean(b)\n",
    "```\n",
    "\n",
    "## Median and quantitle\n",
    "\n",
    "A median is a value separating the higher half from the lower half of a data sample\n",
    "\n",
    "```r\n",
    "median(a)\n",
    "median(b)\n",
    "```\n",
    "\n",
    "Quantiles are cut points dividing the sample into intervals with pre-specified proportions observations. \n",
    "Quartiles are the three cut points that will divide a dataset into four equal-sized groups. \n",
    "```r\n",
    "quantile(a,probs=c(0.25,0.5,0.75))\n",
    "quantile(b,probs=c(0.25,0.5,0.75))\n",
    "```\n"
   ]
  },
  {
   "cell_type": "code",
   "execution_count": null,
   "id": "34e63564",
   "metadata": {},
   "outputs": [],
   "source": []
  },
  {
   "cell_type": "markdown",
   "id": "ad0e57d0",
   "metadata": {},
   "source": [
    "## Range \n",
    "The range of a set of data is the difference between the largest and smallest values\n",
    "\n",
    "```r\n",
    "range(a)\n",
    "range(b)\n",
    "```\n",
    "\n",
    "## Interquartile range\n",
    "Interquartile range is the difference between the third  and the first quartiles.\n",
    "```r\n",
    "IQR(a)\n",
    "IQR(b)\n",
    "```\n",
    "\n",
    "\n",
    "##  Variance and standard deviation\n",
    "Variance is the expectation of the squared deviation of a random variable from its mean. Informally, it measures how far a set of numbers are spread out from their average value. \n",
    "\n",
    "```r\n",
    "var(a)\n",
    "var(b)\n",
    "sd(a)\n",
    "sd(b)\n",
    "```\n",
    "\n"
   ]
  },
  {
   "cell_type": "code",
   "execution_count": null,
   "id": "8fa680f6",
   "metadata": {},
   "outputs": [],
   "source": []
  },
  {
   "cell_type": "markdown",
   "id": "d51a5909",
   "metadata": {},
   "source": [
    "## `summary()`\n",
    "```{r}\n",
    "summary(a)\n",
    "summary(b)\n",
    "```\n",
    "## Your turn \n",
    "*  Obtain the summary statistics for the variables in `diamonds` dataset. Does the `summary()` calculate different summary statistics for different types of variables?\n",
    "\n",
    "*  Calculate the `mean`, `median`, `variance`, and `IQR` for the following two vector. Explain your findings.\n",
    "```r\n",
    "a <- 1:7\n",
    "b <- c(1:6, 10000)\n",
    "```\n",
    "\n"
   ]
  },
  {
   "cell_type": "code",
   "execution_count": null,
   "id": "68be4e5e",
   "metadata": {},
   "outputs": [],
   "source": []
  },
  {
   "cell_type": "markdown",
   "id": "6d6a7657",
   "metadata": {},
   "source": [
    "# Position adjustment\n",
    "Position adjustments are used to adjust the position of each geom. It contols how overlapping objects are arranged. There are five different adjustments\n",
    "\n",
    "1. \"identity\": default of most geoms\n",
    "2. \"jitter\": default of `geom_jitter()`\n",
    "3. \"dodge\" default of `geom_boxplot()`\n",
    "4. \"stack\" default of `geom_bar()` and `geom_histogram()`\n",
    "5. \"fill\": useful for `geom_bar()` and `geom_histogram()`\n",
    "\n",
    "\n",
    "In a boxplot, if you map the `fill` aesthetic to another variable, like `clarity`: the bars are automatically stacked. In the following plot, each colored rectangle represents a combination of `cut` and `clarity`\n",
    "```r\n",
    "ggplot(data = diamonds) + \n",
    "  geom_bar(mapping = aes(x = cut, fill = clarity))\n",
    "```\n",
    "\n",
    "The stacking is performed automatically by the position adjustment specified by the `position` argument. \n",
    "\n",
    "```r\n",
    "ggplot(data = diamonds) + \n",
    "  geom_bar(mapping = aes(x = cut, fill = clarity), position = \"fill\")\n",
    "ggplot(data = diamonds) + \n",
    "  geom_bar(mapping = aes(x = cut, fill = clarity), position = \"dodge\")\n",
    "```\n"
   ]
  },
  {
   "cell_type": "code",
   "execution_count": null,
   "id": "45b275f9",
   "metadata": {},
   "outputs": [],
   "source": []
  },
  {
   "cell_type": "markdown",
   "id": "dcdf2a3f",
   "metadata": {},
   "source": [
    "## Your turn\n",
    "\n",
    "* Create barplots for `color` of the `diamonds` dataset split by `cut`:  \n",
    "1. compare the number of different levels of `cut` within each value of `color`\n",
    "2. compare the proportions of different  levels of `cut` across different `color`\n",
    "\n",
    "* What’s the default position adjustment for `geom_boxplot()`? Create a visualization of the mpg dataset that demonstrates it."
   ]
  },
  {
   "cell_type": "code",
   "execution_count": null,
   "id": "713dcae2",
   "metadata": {},
   "outputs": [],
   "source": []
  },
  {
   "cell_type": "markdown",
   "id": "34a00434",
   "metadata": {},
   "source": [
    "# Coordinate systems\n",
    "\n",
    " The default coordinate system is the Cartesian coordinate system where the x and y positions act independently to determine the location of each point. There are a number of other coordinate systems that are occasionally helpful.\n",
    " \n",
    " `coord_flip()` switches the x and y axes. \n",
    " ```r\n",
    " ggplot(data = diamonds) + \n",
    "  geom_bar(mapping = aes(x = cut))+\n",
    "  coord_flip()\n",
    " ```"
   ]
  },
  {
   "cell_type": "code",
   "execution_count": null,
   "id": "33bc7119",
   "metadata": {},
   "outputs": [],
   "source": []
  },
  {
   "cell_type": "markdown",
   "id": "1237268a",
   "metadata": {},
   "source": [
    "`coord_polar()` uses polar coordinate system. It is a two-dimensional coordinate system in which each point on a plane is determined by a distance from a reference point and an angle from a reference direction.\n",
    "\n",
    "<img src=\"./figures/visualization/polar.jpg\" alt=\"ds\" style=\"width: 750px;\"/>\n",
    "\n",
    "```r\n",
    " bar <- ggplot(data = diamonds) + \n",
    "  geom_bar(\n",
    "    mapping = aes(x = cut, fill = cut), \n",
    "    show.legend = FALSE,\n",
    "    width = 1\n",
    "  ) + \n",
    "  labs(x = NULL, y = NULL)\n",
    "\n",
    "bar + coord_flip()\n",
    "bar + coord_polar()\n",
    " ```"
   ]
  },
  {
   "cell_type": "code",
   "execution_count": null,
   "id": "da8984b5",
   "metadata": {},
   "outputs": [],
   "source": []
  },
  {
   "cell_type": "markdown",
   "id": "d53eb1f5",
   "metadata": {},
   "source": [
    "## Your turn\n",
    "* Turn a stacked bar chart into a pie chart using `coord_polar()`.\n",
    "\n",
    "* What does the plot below tell you about the relationship between city and highway mpg? Why is `coord_fixed()` important? What does `geom_abline()` do?\n",
    "```r\n",
    "ggplot(data = mpg, mapping = aes(x = cty, y = hwy)) +\n",
    "  geom_point() + \n",
    "  geom_abline() +\n",
    "  coord_fixed()\n",
    "```"
   ]
  },
  {
   "cell_type": "code",
   "execution_count": null,
   "id": "09e09818",
   "metadata": {},
   "outputs": [],
   "source": []
  }
 ],
 "metadata": {
  "kernelspec": {
   "display_name": "R",
   "language": "R",
   "name": "ir"
  },
  "language_info": {
   "codemirror_mode": "r",
   "file_extension": ".r",
   "mimetype": "text/x-r-source",
   "name": "R",
   "pygments_lexer": "r",
   "version": "3.6.2"
  }
 },
 "nbformat": 4,
 "nbformat_minor": 5
}
