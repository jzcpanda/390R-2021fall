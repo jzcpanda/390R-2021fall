{
 "cells": [
  {
   "cell_type": "markdown",
   "id": "aaa72b9b",
   "metadata": {},
   "source": [
    "Visualization is an important tool for insight generation, but it is rare that you get the data in exactly the right form you need. You will often need to create some new variables or rename the variables or reorder the observations in order to make the data a little easier to work with.\n",
    "\n",
    "\n",
    "\n",
    "\n",
    "\n",
    "<!-- ```{r} -->\n",
    "<!-- babynames <- read_csv(\"/Users/Zhichao/Dropbox/courses/UMass/R\\ course/lectures/data\\ transformation/babynames.csv\") -->\n",
    "<!-- ``` -->\n",
    "\n",
    "# Data transformation\n",
    "\n",
    "`babynames` data from the `babynames` package include all baby names with at least 5 uses.\n",
    "**What geoms shoul be used for this graph?**\n",
    "\n",
    "<img src=\"./figures/transformation/propgarret.jpg\" alt=\"ds\" style=\"width: 750px;\"/>\n",
    "\n",
    "We will learn the five key `dplyr` functions that allow you to solve the vast majority of data transformation challenges:\n",
    "\n",
    "* Pick observations by their values (`filter()`).\n",
    "\n",
    "* Reorder the rows (`arrange()`).\n",
    "\n",
    "* Pick variables by their names (`select()`).\n",
    "\n",
    "* Create new variables with functions of existing variables (`mutate()`).\n",
    "\n",
    "* Collapse many values down to a single summary (`summarize()`).\n",
    "\n",
    "These can all be used in conjunction with `group_by()` which changes the scope of each function from operating on the entire dataset to operating on it group-by-group. These six functions provide the verbs for a language of data transformation.\n",
    "\n",
    "All verbs work similarly:\n",
    "\n",
    "1. The first argument is a data frame (tibble).\n",
    "\n",
    "2. The subsequent arguments describe what to do with the data frame, using the variable names (without quotes).\n",
    "\n",
    "3. The result is a new data frame.\n",
    "\n",
    "Together these properties make it easy to chain together multiple simple steps to achieve a complex result. \n",
    "\n",
    "## `select()`\n",
    "<img src=\"./figures/transformation/select.jpg\" alt=\"ds\" style=\"width: 750px;\"/>\n",
    "\n",
    "```r\n",
    "select(babynames,name,prop)\n",
    "```\n"
   ]
  },
  {
   "cell_type": "code",
   "execution_count": null,
   "id": "8718c039",
   "metadata": {},
   "outputs": [],
   "source": []
  },
  {
   "cell_type": "markdown",
   "id": "8c17de07",
   "metadata": {},
   "source": [
    "## Select helpers\n",
    "\n",
    "* use `:` to select range of columns\n",
    "```r\n",
    "select(babynames,name:prop)\n",
    "```\n",
    "\n",
    "* use `-` to select every column but\n",
    "```r\n",
    "select(babynames,-c(name,prop))\n",
    "```\n",
    "\n",
    "* use `starts_with()` to select columns start with\n",
    "```r\n",
    "select(babynames,starts_with(\"n\"))\n",
    "```\n",
    "\n",
    "* use `ends_with()` to select columns end with\n",
    "```r\n",
    "select(babynames,ends_with(\"e\"))\n",
    "```\n",
    "\n",
    "* use `contains()` to select columns contain\n",
    "```r\n",
    "select(babynames,contains(\"e\"))\n",
    "```\n",
    "\n",
    "* use `num_range()` to select named in prefix, number style\n",
    "```r\n",
    "select(xxxx,num_range(\"x\",1:5))\n",
    "```"
   ]
  },
  {
   "cell_type": "code",
   "execution_count": 22,
   "id": "516155bb",
   "metadata": {},
   "outputs": [
    {
     "data": {
      "text/html": [
       "<table class=\"dataframe\">\n",
       "<caption>A spec_tbl_df: 2 × 4</caption>\n",
       "<thead>\n",
       "\t<tr><th scope=col>X2</th><th scope=col>X3</th><th scope=col>X4</th><th scope=col>X5</th></tr>\n",
       "\t<tr><th scope=col>&lt;dbl&gt;</th><th scope=col>&lt;dbl&gt;</th><th scope=col>&lt;dbl&gt;</th><th scope=col>&lt;dbl&gt;</th></tr>\n",
       "</thead>\n",
       "<tbody>\n",
       "\t<tr><td>2</td><td>3</td><td>4</td><td> 5</td></tr>\n",
       "\t<tr><td>7</td><td>8</td><td>9</td><td>10</td></tr>\n",
       "</tbody>\n",
       "</table>\n"
      ],
      "text/latex": [
       "A spec\\_tbl\\_df: 2 × 4\n",
       "\\begin{tabular}{llll}\n",
       " X2 & X3 & X4 & X5\\\\\n",
       " <dbl> & <dbl> & <dbl> & <dbl>\\\\\n",
       "\\hline\n",
       "\t 2 & 3 & 4 &  5\\\\\n",
       "\t 7 & 8 & 9 & 10\\\\\n",
       "\\end{tabular}\n"
      ],
      "text/markdown": [
       "\n",
       "A spec_tbl_df: 2 × 4\n",
       "\n",
       "| X2 &lt;dbl&gt; | X3 &lt;dbl&gt; | X4 &lt;dbl&gt; | X5 &lt;dbl&gt; |\n",
       "|---|---|---|---|\n",
       "| 2 | 3 | 4 |  5 |\n",
       "| 7 | 8 | 9 | 10 |\n",
       "\n"
      ],
      "text/plain": [
       "  X2 X3 X4 X5\n",
       "1 2  3  4   5\n",
       "2 7  8  9  10"
      ]
     },
     "metadata": {},
     "output_type": "display_data"
    }
   ],
   "source": []
  },
  {
   "cell_type": "markdown",
   "id": "94180cda",
   "metadata": {},
   "source": [
    "## `$` and `select()`\n",
    "\n",
    "`$` extracts columnn contents as a vector. `select()` extracts column contents as a tibble.\n",
    "```r\n",
    "select(babynames, n)\n",
    "babynames$n\n",
    "```"
   ]
  },
  {
   "cell_type": "code",
   "execution_count": null,
   "id": "4845b207",
   "metadata": {},
   "outputs": [],
   "source": []
  },
  {
   "cell_type": "markdown",
   "id": "eedebddc",
   "metadata": {},
   "source": [
    "## `filter()`\n",
    "\n",
    "`filter()` allows you to subset observations based on their values. The first argument is the name of the data frame. The second and subsequent arguments are the expressions that filter the data frame. \n",
    "<img src=\"./figures/transformation/filter.jpg\" alt=\"ds\" style=\"width: 750px;\"/>\n",
    "\n",
    "\n",
    "<img src=\"./figures/transformation/logical.jpg\" alt=\"ds\" style=\"width: 750px;\"/>\n",
    "\n",
    "\n",
    "```r\n",
    "filter(babynames, name == \"Garret\")\n",
    "```\n"
   ]
  },
  {
   "cell_type": "code",
   "execution_count": null,
   "id": "ce6d99c1",
   "metadata": {},
   "outputs": [],
   "source": []
  },
  {
   "cell_type": "markdown",
   "id": "d4b7a4b5",
   "metadata": {},
   "source": [
    "`slice()` function chooses rows by their ordinal position indicating by a vector.\n",
    "\n",
    "```r\n",
    "slice(babynames, 2:4)\n",
    "```\n"
   ]
  },
  {
   "cell_type": "code",
   "execution_count": null,
   "id": "b1e76a9b",
   "metadata": {},
   "outputs": [],
   "source": []
  },
  {
   "cell_type": "markdown",
   "id": "cd30775a",
   "metadata": {},
   "source": [
    "### Missing values\n",
    "One important feature of R that can make comparison tricky are missing values, or `NA` (\"not availables\"). `NA` represents an unknown value so missing values are \"contagious\": almost any operation involving an unknown value will also be unknown.\n",
    "\n",
    "```r\n",
    "NA > 5\n",
    "NA + 10\n",
    "NA == NA\n",
    "\n",
    "NA | FALSE\n",
    "NA & FALSE\n",
    "NA*0\n",
    "Inf*0\n",
    "```"
   ]
  },
  {
   "cell_type": "code",
   "execution_count": 42,
   "id": "d1cc6ab4",
   "metadata": {},
   "outputs": [
    {
     "data": {
      "text/html": [
       "FALSE"
      ],
      "text/latex": [
       "FALSE"
      ],
      "text/markdown": [
       "FALSE"
      ],
      "text/plain": [
       "[1] FALSE"
      ]
     },
     "metadata": {},
     "output_type": "display_data"
    }
   ],
   "source": [
    "is.na(1)"
   ]
  },
  {
   "cell_type": "markdown",
   "id": "8e6e80de",
   "metadata": {},
   "source": [
    "To determine if a value is missing, use `is.na()`.\n",
    "`filter()` only includes rows where the condition is `TRUE`; it excludes both `FALSE` and `NA` values. If you want to preserve missing values, ask for them explicitly.\n",
    "```r\n",
    "df <- tibble(x = c(1, NA, 3))\n",
    "filter(df, x > 1)\n",
    "filter(df, is.na(x) | x > 1)\n",
    "```\n"
   ]
  },
  {
   "cell_type": "code",
   "execution_count": null,
   "id": "69d29b7c",
   "metadata": {},
   "outputs": [],
   "source": []
  },
  {
   "cell_type": "markdown",
   "id": "cb643026",
   "metadata": {},
   "source": [
    "### Your turn\n",
    "\n",
    "* Use filter, babynames, and the logical operators to find:\n",
    "\t+ All of the rows where prop is greater than or equal to 0.08\n",
    "\t+\tAll of the children named “Sea”\n",
    "\n"
   ]
  },
  {
   "cell_type": "code",
   "execution_count": null,
   "id": "d91c506a",
   "metadata": {},
   "outputs": [],
   "source": []
  },
  {
   "cell_type": "markdown",
   "id": "b670aed9",
   "metadata": {},
   "source": [
    "\n",
    "###  Boolean operators\n",
    "\n",
    "```r\n",
    "filter(babynames, name == \"Garrett\", year == 1880)\n",
    "```\n",
    "\n",
    "\n",
    "<!-- ![](fig/boolean.jpg) -->\n",
    "\n",
    "```r\n",
    "filter(babynames, name == \"Garrett\" & year == 1880)\n",
    "```"
   ]
  },
  {
   "cell_type": "code",
   "execution_count": null,
   "id": "7aa5b427",
   "metadata": {},
   "outputs": [],
   "source": []
  },
  {
   "cell_type": "markdown",
   "id": "02778c70",
   "metadata": {},
   "source": [
    "**common mistakes**\n",
    "\n",
    "Collapsing multiple tests into one\n",
    "```r\n",
    "filter(babynames, 10 < n < 20)\n",
    "filter(babynames, 10 < n, n < 20)\n",
    "```\n",
    "\n",
    "Stringing together many tests (when you could use %in%)\n",
    "\n",
    "```r\n",
    "filter(babynames, n == 5 | n == 6 | n == 7 | n == 8)\n",
    "filter(babynames, n %in% c(5, 6, 7, 8))\n",
    "```\n"
   ]
  },
  {
   "cell_type": "code",
   "execution_count": null,
   "id": "fd7650ba",
   "metadata": {},
   "outputs": [],
   "source": []
  },
  {
   "cell_type": "markdown",
   "id": "c3c20549",
   "metadata": {},
   "source": [
    "### Your turn\n",
    "* Use Boolean operators to find the rows that contain:\n",
    "\t+\tBoys named Sue\n",
    "\t+\tNames that were used by exactly 5 or 6 children in 1880\n",
    "\t+\tNames that are one of Acura, Lexus, or Yugo\n",
    "\n",
    "\n"
   ]
  },
  {
   "cell_type": "code",
   "execution_count": null,
   "id": "019ae220",
   "metadata": {},
   "outputs": [],
   "source": []
  },
  {
   "cell_type": "markdown",
   "id": "c80efb9f",
   "metadata": {},
   "source": [
    "When you run that line of code, dplyr executes the filtering operation and returns a new data frame. dplyr functions never modify their inputs, so if you want to save the result, you need to use the assignment operator. R either prints out the results, or saves them to a variable."
   ]
  },
  {
   "cell_type": "markdown",
   "id": "947cfc93",
   "metadata": {},
   "source": [
    "##  `arrange()`\n",
    "<img src=\"./figures/transformation/arrange.jpg\" alt=\"ds\" style=\"width: 750px;\"/>\n",
    "\n",
    "```r\n",
    "arrange(babynames,n)\n",
    "```\n",
    "Use `desc()` to re-order by a column in descending order.\n",
    "```r\n",
    "arrange(babynames,desc(n))\n",
    "```\n",
    "Missing values are always sorted at the end:\n",
    "\n",
    "```r\n",
    "df <- tibble(x = c(5, 2, NA))\n",
    "arrange(df, x)\n",
    "arrange(df, desc(x))\n",
    "```\n"
   ]
  },
  {
   "cell_type": "code",
   "execution_count": null,
   "id": "d1a9857c",
   "metadata": {},
   "outputs": [],
   "source": []
  },
  {
   "cell_type": "markdown",
   "id": "70d988bb",
   "metadata": {},
   "source": [
    "##  Combining multiple operations with the pipe `%>%`\n",
    "\n",
    "\n",
    "\n",
    "```r\n",
    "babynames %>% filter(n == 1000)\n",
    " filter(babynames,n == 1000)\n",
    "```\n",
    "\n",
    "<img src=\"./figures/transformation/shortcutpipe.jpg\" alt=\"ds\" style=\"width: 750px;\"/>"
   ]
  },
  {
   "cell_type": "code",
   "execution_count": null,
   "id": "2a5c95f3",
   "metadata": {},
   "outputs": [],
   "source": []
  },
  {
   "cell_type": "markdown",
   "id": "bf55a5c1",
   "metadata": {},
   "source": [
    "1.\t Filter `babynames` to just boys born in 2015\n",
    "\n",
    "2.\t Select the `name` and `n` columns from the result\n",
    "\n",
    "3.\t Arrange those columns so that the most popular names appear near the top.\n",
    "\n",
    "```r\n",
    "arrange(select(filter(babynames, year == 2015, \n",
    "  sex == \"M\"), name, n), desc(n))\n",
    "```\n"
   ]
  },
  {
   "cell_type": "code",
   "execution_count": null,
   "id": "ecd9bf8e",
   "metadata": {},
   "outputs": [],
   "source": []
  },
  {
   "cell_type": "markdown",
   "id": "1644aace",
   "metadata": {},
   "source": [
    "```r\n",
    "boys_2015 <- filter(babynames, year == 2015, sex == \"M\")\n",
    "boys_2015 <- select(boys_2015, name, n)\n",
    "boys_2015 <- arrange(boys_2015, desc(n))\n",
    "```\n"
   ]
  },
  {
   "cell_type": "code",
   "execution_count": null,
   "id": "2541faea",
   "metadata": {},
   "outputs": [],
   "source": []
  },
  {
   "cell_type": "markdown",
   "id": "a2f7eaf4",
   "metadata": {},
   "source": [
    "```r\n",
    "babynames %>%\n",
    "  filter(year == 2015, sex == \"M\") %>%\n",
    "  select(name, n) %>%\n",
    "  arrange(desc(n))\n",
    "```"
   ]
  },
  {
   "cell_type": "code",
   "execution_count": null,
   "id": "4ff166e6",
   "metadata": {},
   "outputs": [],
   "source": []
  },
  {
   "cell_type": "markdown",
   "id": "288f101d",
   "metadata": {},
   "source": [
    "For ggplot, you should use `+` instead of `%>%`\n",
    "\n",
    "```r\n",
    "babynames  %>%  \n",
    "  filter(sex == \"F\",name==\"Michael\") %>% \n",
    "  ggplot()+\n",
    "  geom_line(aes(x=year,y=prop))\n",
    "```\n",
    "### Ploting groups\n",
    "\n",
    "```r\n",
    "babynames %>% \n",
    "  filter(name == \"Michael\") %>%\n",
    "  ggplot() +\n",
    "    geom_point(mapping = aes(year, prop))\n",
    "```\n",
    "\n",
    "```r\n",
    "babynames %>% \n",
    "  filter(name == \"Michael\") %>%\n",
    "  ggplot() +\n",
    "    geom_line(mapping = aes(year, prop, group = sex))\n",
    "```\n",
    "\n",
    "```r\n",
    "babynames %>% filter(name == \"Michael\") %>%\n",
    "  ggplot() +\n",
    "    geom_line(mapping = aes(year, prop)) + \n",
    "    facet_wrap(~ sex, scales = \"free_y\")\n",
    "```\n"
   ]
  },
  {
   "cell_type": "code",
   "execution_count": null,
   "id": "b3d5d02e",
   "metadata": {},
   "outputs": [],
   "source": []
  },
  {
   "cell_type": "markdown",
   "id": "b3d943bb",
   "metadata": {},
   "source": [
    "### Your turn\n",
    "* Use %>% to write a sequence of functions that: \n",
    "  + Filters babynames to the girls that were born in 2017, then…\n",
    "  + Selects the `name` and `n` columns, then…\n",
    "  + Arranges the results so that the most popular names are near the top.\n",
    "\n",
    "<!-- ```{r eval=FALSE, echo=FALSE} -->\n",
    "<!--babynames %>%  -->\n",
    "<!--  filter(year == 2017, sex == \"F\") %>%  -->\n",
    "<!-- select(name, n) %>%  -->\n",
    "<!-- arrange(desc(n)) -->\n",
    "<!-- ``` -->\n",
    "\n",
    "\n",
    "\n",
    "* Use %>% to write a sequence of functions that: \n",
    "  + Trim babynames to just the rows that contain any `name` and `sex`\n",
    "  + Trim the result to just the columns that will appear in your graph (not strictly necessary, but useful practice)\n",
    "  + Plot the results as a line graph with `year` on the x axis and `prop` on the y axis\n",
    "\n",
    "\n",
    "<!--```{r eval = FALSE, echo = FALSE}-->\n",
    "<!--babynames %>% -->\n",
    "<!--  filter(name == \"Garrett\", sex == \"M\") %>%-->\n",
    "<!--  select(year, prop) %>%-->\n",
    "<!--  ggplot() +-->\n",
    "<!--    geom_line(mapping = aes(year, prop))-->\n",
    "<!--```-->"
   ]
  },
  {
   "cell_type": "code",
   "execution_count": null,
   "id": "b4efdfc4",
   "metadata": {},
   "outputs": [],
   "source": []
  },
  {
   "cell_type": "markdown",
   "id": "2958eb0d",
   "metadata": {},
   "source": [
    "## `summarize()`\n",
    "```r\n",
    "babynames %>% summarize(total = sum(n), max = max(n))\n",
    "```\n",
    "`summerize()` function\n",
    "creates one or more scalar variables summarizing the variables of a tibble.\n",
    "\n",
    " `n()` returns  the number of rows in a dataset\n",
    "\n",
    "`n_disinct()` returns the number of distinct values in a variable \n",
    "\n",
    "```r\n",
    "babynames %>% summarize(n = n(), nname = n_distinct(name))\n",
    "```"
   ]
  },
  {
   "cell_type": "code",
   "execution_count": null,
   "id": "3c827d79",
   "metadata": {},
   "outputs": [],
   "source": []
  },
  {
   "cell_type": "markdown",
   "id": "8f522c3d",
   "metadata": {},
   "source": [
    "### Your turn\n",
    "Extract the rows where `name == \"Khaleesi\"`. Then use `summarize()` and `sum()` and `min()` to find:\n",
    "\n",
    "1. The total number of children named Khaleesi\n",
    "2. The first year Khaleesi appeared in the data\n",
    "\n",
    "<!-- ```{r echo=FALSE, eval=FALSE}\n",
    "babynames %>% filter(name == \"Khaleesi\") %>% \n",
    "  summarize(total = sum(n), first = min(year))\n",
    "```-->\n",
    "\n"
   ]
  },
  {
   "cell_type": "code",
   "execution_count": null,
   "id": "aebe0a46",
   "metadata": {},
   "outputs": [],
   "source": []
  },
  {
   "cell_type": "markdown",
   "id": "0fd58268",
   "metadata": {},
   "source": [
    "## Grouping\n",
    "\n",
    "Can we do the things in the previous exercise for all names?\n",
    "\n",
    "Let's work on another dataset to learn `group_by()`\n",
    "\n",
    "```r\n",
    "pollution <- tribble(\n",
    "       ~city,   ~size, ~amount, \n",
    "  \"New York\", \"large\",      23,\n",
    "  \"New York\", \"small\",      14,\n",
    "    \"London\", \"large\",      22,\n",
    "    \"London\", \"small\",      16,\n",
    "   \"Beijing\", \"large\",      121,\n",
    "   \"Beijing\", \"small\",      56\n",
    ")\n",
    "```\n",
    "\n",
    "```r\n",
    "pollution %>% \n",
    " summarize(mean = mean(amount), sum = sum(amount), n = n())\n",
    "```\n",
    "\n",
    "<!-- <img src=\"./figures/transformation/groupby.jpg\" alt=\"ds\" style=\"width: 750px;\"/> -->\n",
    "\n",
    "\n",
    "```r\n",
    "pollution %>% \n",
    "  group_by(city) %>%\n",
    "  summarize(mean = mean(amount), sum = sum(amount), n = n())\n",
    "```\n",
    "\n",
    "<img src=\"./figures/transformation/groupsummarize.jpg\" alt=\"ds\" style=\"width: 750px;\"/>"
   ]
  },
  {
   "cell_type": "code",
   "execution_count": null,
   "id": "43a27fc0",
   "metadata": {},
   "outputs": [],
   "source": []
  },
  {
   "cell_type": "markdown",
   "id": "ae529c0b",
   "metadata": {},
   "source": [
    "```r\n",
    "pollution %>% \n",
    "  group_by(city, size) %>%\n",
    "  summarize(mean = mean(amount), sum = sum(amount), n = n())\n",
    "```"
   ]
  },
  {
   "cell_type": "code",
   "execution_count": null,
   "id": "2a169d59",
   "metadata": {},
   "outputs": [],
   "source": []
  },
  {
   "cell_type": "markdown",
   "id": "43d6695e",
   "metadata": {},
   "source": [
    "```r\n",
    " weather %>% \n",
    "  group_by(month) %>% \n",
    "  summarize(mean = mean(temp, na.rm = TRUE), \n",
    "            std_dev = sd(temp, na.rm = TRUE))\n",
    "```"
   ]
  },
  {
   "cell_type": "code",
   "execution_count": null,
   "id": "43a5c744",
   "metadata": {},
   "outputs": [],
   "source": []
  },
  {
   "cell_type": "markdown",
   "id": "018a2e02",
   "metadata": {},
   "source": [
    "```r\n",
    "diamonds %>% \n",
    "  group_by(cut) %>% \n",
    "  summarize(avg_price = mean(price))\n",
    "```\n",
    "\n",
    "```r\n",
    "babynames %>% \n",
    "  group_by(sex) %>%\n",
    "  summarize(total = sum(n))\n",
    "```\n"
   ]
  },
  {
   "cell_type": "code",
   "execution_count": null,
   "id": "5b67b8e7",
   "metadata": {},
   "outputs": [],
   "source": []
  },
  {
   "cell_type": "markdown",
   "id": "ebb4b874",
   "metadata": {},
   "source": [
    "Use `ungroup` to remove grouping criteria from a data frame.\n",
    "\n",
    "```r\n",
    "babynames %>% \n",
    "  group_by(sex) %>%\n",
    "  ungroup() %>%\n",
    "  summarize(total = sum(n))\n",
    "```"
   ]
  },
  {
   "cell_type": "code",
   "execution_count": null,
   "id": "1e02fdd4",
   "metadata": {},
   "outputs": [],
   "source": []
  },
  {
   "cell_type": "markdown",
   "id": "cb77f340",
   "metadata": {},
   "source": [
    "### Your turn \n",
    "\n",
    "* Display the ten most popular name and sex combinations. Compute popularity as the total number of children with a given name and sex.\n",
    "\n",
    "<!-- ```{r eval=FALSE,echo=FALSE}\n",
    "babynames %>% \n",
    "  group_by(name,sex) %>% \n",
    "  summarize(popularity = sum(n)) %>% \n",
    "  arrange(desc(popularity))\n",
    "```  -->\n",
    "\n",
    "\n",
    "*  Use `group_by()` to calculate the total number of children born for every year. \n",
    "Plot the results as a line graph: year vs. total.\n",
    "<!-- ```{r eval=FALSE,echo =FALSE}\n",
    "babynames %>% \n",
    "  group_by(year) %>% \n",
    "  summarize(total = sum(n)) %>% \n",
    "  ggplot() +\n",
    "  geom_line(aes(x=year,y=total))\n",
    "``` -->"
   ]
  },
  {
   "cell_type": "code",
   "execution_count": null,
   "id": "fd5b01c2",
   "metadata": {},
   "outputs": [],
   "source": []
  },
  {
   "cell_type": "markdown",
   "id": "cfe44792",
   "metadata": {},
   "source": [
    "##  `mutate()`\n",
    "\n",
    "**What was the top ranked name for each year?**\n",
    "\n",
    "\n",
    "We can obtain the rank using `min_rank()`\n",
    "```r\n",
    "babynames %>% \n",
    "  mutate(rank = min_rank(desc(prop)))\n",
    "```"
   ]
  },
  {
   "cell_type": "code",
   "execution_count": null,
   "id": "82875dcb",
   "metadata": {},
   "outputs": [],
   "source": []
  },
  {
   "cell_type": "markdown",
   "id": "befe688e",
   "metadata": {},
   "source": [
    "```r\n",
    "weather <- weather %>% \n",
    " mutate(temp_in_C = (temp - 32) / 1.8)\n",
    "\n",
    "weather %>% \n",
    "  group_by(month) %>% \n",
    "  summarize(mean_temp_in_F = mean(temp, na.rm = TRUE), \n",
    "            mean_temp_in_C = mean(temp_in_C, na.rm = TRUE))\n",
    "\n",
    "```\n",
    "\n",
    "If you only want to keep the new variables, use `transmute()`"
   ]
  },
  {
   "cell_type": "code",
   "execution_count": null,
   "id": "64252afa",
   "metadata": {},
   "outputs": [],
   "source": []
  },
  {
   "cell_type": "markdown",
   "id": "4ed7e0d8",
   "metadata": {},
   "source": [
    "\n",
    "### Your turn \n",
    "* Group babynames by `year` and then re-rank the data. Filter the results to just rows where `rank == 1`.\n",
    "\n",
    "<!-- ```{r echo=FALSE,eval=FALSE}\n",
    "babynames %>% \n",
    "  group_by(year) %>% \n",
    "  mutate(rank = min_rank(desc(prop))) %>% \n",
    "  filter(rank == 1)\n",
    "```  -->\n",
    "\n"
   ]
  },
  {
   "cell_type": "code",
   "execution_count": null,
   "id": "3ded6cc4",
   "metadata": {},
   "outputs": [],
   "source": []
  },
  {
   "cell_type": "markdown",
   "id": "0afddaaf",
   "metadata": {},
   "source": [
    "### Useful creation functions\n",
    "There are many functions for creating new variables that you can use with mutate(). The key property is that the function must be vectorised: it must take a vector of values as input, return a vector with the same number of values as output. Here is a selection of functions that are frequently useful\n",
    "\n",
    "* Arithmetic operators: `+`, `-`, `*`, `/`, `^`. These are all vectorised, using the so called \"recycling rules.\" If one parameter is shorter than the other, it will be automatically extended to be the same length. This is most useful when one of the arguments is a single number: `air_time / 60`, `hours * 60 + minute`, etc.\n",
    "\n",
    "* Modular arithmetic: `%/%` (integer division) and `%%` (remainder). Modular arithmetic is a handy tool because it allows you to break integers up into pieces. For example, in the flights dataset, you can compute hour and minute from `air_time` with\n",
    "```r\n",
    "transmute(flights,\n",
    "  air_time,\n",
    "  hour = air_time %/% 60,\n",
    "  minute = air_time %% 60\n",
    ")\n",
    "```\n",
    "\n",
    "* Offsets: `lead()` and `lag()` allow you to refer to leading or lagging values. This allows you to compute running differences (e.g. `x - lag(x)`) or find when values change (`x != lag(x)`). \n",
    "```r\n",
    "x <- 1:10\n",
    "lead(x)\n",
    "lag(x)\n",
    "```\n",
    "\n",
    "* Cumulative and rolling aggregates: R provides functions for running sums, products, mins and maxes: `cumsum()`, `cumprod()`, `cummin()`, `cummax()`; and dplyr provides `cummean()` for cumulative means. \n",
    "\n",
    "```r\n",
    "cumsum(x)\n",
    "```"
   ]
  },
  {
   "cell_type": "code",
   "execution_count": null,
   "id": "f9ac059d",
   "metadata": {},
   "outputs": [],
   "source": []
  },
  {
   "cell_type": "markdown",
   "id": "302a8e84",
   "metadata": {},
   "source": [
    "* Logical comparisons, `<`, `<=`, `>`, `>=`, `!=`, and `==`, which you learned about earlier. If you are doing a complex sequence of logical operations it is often a good idea to store the interim values in new variables so you can check that each step is working as expected.\n",
    "\n",
    "* Ranking: there are a number of ranking functions, but you should start with `min_rank()`. It does the most usual type of ranking (e.g. 1st, 2nd, 2nd, 4th). The default gives smallest values the small ranks; use `desc(x)` to give the largest values the smallest ranks."
   ]
  },
  {
   "cell_type": "markdown",
   "id": "59f653c7",
   "metadata": {},
   "source": [
    "<img src=\"./figures/transformation/summary.jpg\" alt=\"ds\" style=\"width: 750px;\"/>"
   ]
  }
 ],
 "metadata": {
  "kernelspec": {
   "display_name": "R",
   "language": "R",
   "name": "ir"
  },
  "language_info": {
   "codemirror_mode": "r",
   "file_extension": ".r",
   "mimetype": "text/x-r-source",
   "name": "R",
   "pygments_lexer": "r",
   "version": "3.6.2"
  }
 },
 "nbformat": 4,
 "nbformat_minor": 5
}
