{
 "cells": [
  {
   "cell_type": "markdown",
   "id": "ae30f520",
   "metadata": {},
   "source": [
    "## Health savings experiments\n",
    "\n",
    "<font size=\"3\">\n",
    "To understand why the poor are constrained in their ability to save for investments in preventative health products, two researchers designed a field experiment in rural Kenya in which they randomly varied access to four innovative saving technologies. By observing the impact of these various technologies on asset accumulation, and by examining which types of people benefit most from them, the researchers were able to identify the key barriers to saving.  This exercise is based on: \n",
    "\n",
    "Dupas, Pascaline and Jonathan Robinson. 2013. \"[Why Don't the Poor Save More? Evidence from Health Savings Experiments.](http://dx.doi.org/10.1257/aer.103.4.1138)\" *American Economic Review*, Vol. 103, No. 4, pp. 1138-1171.\n",
    "\n",
    "They worked with 113 ROSCAs (Rotating Savings and Credit Associations). A ROSCA is a group of individuals who come together and make regular cyclical contributions to a fund (called the “pot”), which is then given as a lump sum to one member in each cycle. In their experiment, Dupas and Robinson randomly assigned 113 ROSCAs to one of the five study arms. In this exercise, we will focus on three study arms (one control and two treatment arms). The data file, `rosca.csv` is extracted from their original data, excluding individuals who have received multiple treatments for the sake of simplicity.\n",
    "\n",
    "Individuals in all study arms were encouraged to save for health and were asked to set a health goal for themselves at the beginning of the study.  In the first treatment group (*Safe Box*), respondents were given a box locked with a padlock, and the key to the padlock was provided to the participants. They were asked to record what health product they were saving for and its cost. This treatment is designed to estimate the effect of having a safe and designated storage technology for preventative health savings.  \n",
    "\n",
    "In the second treatment group (*Locked Box*), respondents were given a locked box, but not the key to the padlock. The respondents were instructed to call the program officer once they had reached their saving goal, and the program officer would then meet the participant and open the *Locked Box* at the shop where the product is purchased. Compared to the safe box, the locked box offered stronger commitment through earmarking (the money saved could only be used for the prespecified purpose). \n",
    "\n",
    "Participants are interviewed again 6 months and 12 months later. In this exercise, our outcome of interest is the amount (in Kenyan shilling) spent on preventative health products after 12 months.\n",
    "\n",
    "Descriptions of the relevant variables in the data file `rosca.csv` are:\n",
    "</font> \n",
    "\n",
    "--------------------------------------------------------------------------------------------\n",
    " Name                             Description\n",
    " -------------------------------- ----------------------------------------------------------\n",
    " `bg_female`                      `1` if female, and `0` otherwise\n",
    " \n",
    " `bg_married`                     `1` if married, and `0` otherwise\n",
    " \n",
    " `bg_b1_age`                      age at baseline\n",
    " \n",
    " `encouragement`                  `1` if encouragement only (control group), and `0` otherwise \n",
    " \n",
    " `safe_box`                       `1` if safe box treatment, and `0` otherwise\n",
    " \n",
    " `locked_box`                     `1` if lock box treatment, and `0` otherwise\n",
    " \n",
    " `fol2_amtinvest`                 Amount invested in health products         \n",
    " \n",
    " `has_followup2`                  `1` if appears in 2nd followup (after 12 months), and `0` otherwise\n",
    "--------------------------------------------------------------------------------------------\n"
   ]
  },
  {
   "cell_type": "markdown",
   "id": "2f2b247d",
   "metadata": {},
   "source": [
    "First, we need to load the data in R. The data is in the form of a csv file. We can use the following code to read the data."
   ]
  },
  {
   "cell_type": "code",
   "execution_count": 3,
   "id": "f41b9552",
   "metadata": {},
   "outputs": [
    {
     "name": "stderr",
     "output_type": "stream",
     "text": [
      "Warning message:\n",
      "“Missing column names filled in: 'X1' [1]”\n",
      "Parsed with column specification:\n",
      "cols(\n",
      "  X1 = \u001b[32mcol_double()\u001b[39m,\n",
      "  bg_female = \u001b[32mcol_double()\u001b[39m,\n",
      "  bg_married = \u001b[32mcol_double()\u001b[39m,\n",
      "  bg_b1_age = \u001b[32mcol_double()\u001b[39m,\n",
      "  encouragement = \u001b[32mcol_double()\u001b[39m,\n",
      "  safe_box = \u001b[32mcol_double()\u001b[39m,\n",
      "  locked_box = \u001b[32mcol_double()\u001b[39m,\n",
      "  fol2_amtinvest = \u001b[32mcol_double()\u001b[39m,\n",
      "  has_followup2 = \u001b[32mcol_double()\u001b[39m\n",
      ")\n",
      "\n"
     ]
    }
   ],
   "source": [
    "library(tidyverse)\n",
    "rosca <-  read_csv('./data/rosca.csv')"
   ]
  },
  {
   "cell_type": "markdown",
   "id": "43cd14dd",
   "metadata": {},
   "source": [
    "In the `read.csv` function above, you need  to enter the diretory of the data file on your own computor. For MAC users, you can drag the file to the terminal to get the directory; for Windows users, go to the folder that contains the file,click at the end of the box that has the directory like \"user> name> xxx> xxxx>\". This highlights the full path to the folder.\n",
    "\n",
    "We need to make some changes to  have the data ready for plots"
   ]
  },
  {
   "cell_type": "code",
   "execution_count": 5,
   "id": "082eb5d0",
   "metadata": {},
   "outputs": [],
   "source": [
    "rosca$treatment <- NA\n",
    "rosca$treatment[rosca$encouragement == 1] <- \"control\"\n",
    "rosca$treatment[rosca$safe_box == 1] <- \"safebox\"\n",
    "rosca$treatment[rosca$locked_box == 1] <- \"lockbox\"\n",
    "rosca$treatment <- as.factor(rosca$treatment)\n",
    "rosca <-  rosca[rosca$has_followup2 == 1, ]\n",
    "rosca$bg_female <-  factor(rosca$bg_female )\n",
    "rosca$bg_married <-  factor(rosca$bg_married)"
   ]
  },
  {
   "cell_type": "markdown",
   "id": "9beabb1a",
   "metadata": {},
   "source": [
    "In the above code, we create a variable to indicate the treatment and subset the data so that it contains only participants who were interviewed in 12 months during the second followup.\n",
    "\n",
    "\n",
    "\n",
    "# Analyzing the data\n",
    "\n",
    "We will use our data visualization techniques to do an analysis for this dataset step by step.\n",
    "\n",
    "You may find that some tasks require something you have not learned before. This happens a lot when you are doing a real data analysis. Use the help page, google, stackoverflow, etc. to find out a solution. In some sense, this is the key ability you need to acquire from the course.\n",
    "\n",
    "## Task 1\n",
    "How many obervations and variables are in the data. What are the meanings of `bg_female`, `bg_married`, `treatment`,`fol2_amtinvest`? Get some summary statistics of these variables.\n",
    "\n",
    "\n",
    "## Task 2\n",
    "\n",
    "Draw two bar charts to show the number and the proportion of individuals under each of the three treatment conditions. \n",
    "```r\n",
    "ggplot(data = rosca)+\n",
    "  geom_bar(mapping = aes(x=treatment))\n",
    "```\n",
    "\n",
    "```r\n",
    "ggplot(data = rosca)+\n",
    "  geom_bar(mapping = aes(x=treatment,y=..prop.., group=1))\n",
    "```"
   ]
  },
  {
   "cell_type": "code",
   "execution_count": null,
   "id": "9b1b9294",
   "metadata": {},
   "outputs": [],
   "source": []
  },
  {
   "cell_type": "markdown",
   "id": "6b7ec2ff",
   "metadata": {},
   "source": [
    "## Task 3\n",
    "\n",
    "Use a bar chart to show the gender distribution  within each treatment condition\n",
    "\n",
    "* use `fill` aesthetic to separate the gender within each bar. Try different position adjustment. Which treatment condition has the highest female proportion?\n",
    "```r\n",
    "rosca.bar <-  ggplot(data = rosca)+\n",
    "  geom_bar(mapping = aes(x=treatment,fill = bg_female),position = 'fill')\n",
    "rosca.bar\n",
    "```"
   ]
  },
  {
   "cell_type": "code",
   "execution_count": null,
   "id": "1a1ccf0e",
   "metadata": {},
   "outputs": [],
   "source": []
  },
  {
   "cell_type": "markdown",
   "id": "671eac44",
   "metadata": {},
   "source": [
    "* add a  title  for the graph and remove the labels of `x`-axis `y`-axis\n",
    "```r\n",
    "rosca.bar + labs(title = \"Gender distribution\",x=NULL, y=NULL)\n",
    "```\n",
    "\n",
    "* How to center the title? A naive way is to mannualy add spaces. Try to use google to find a solution.\n",
    "```r\n",
    "rosca.bar + labs(title = \"Gender distribution\",x=NULL, y=NULL)+\n",
    "  theme(plot.title = element_text(hjust = 0.5))\n",
    "```\n",
    "\n",
    "Themes are a powerful way to customize the non-data components of your plots: i.e. titles, labels, fonts, background, gridlines, and legends. Themes can be used to give plots a consistent customized look.\n",
    "Can you use the theme to make the title in bold? \n",
    "```r\n",
    "rosca.bar + labs(title = 'Gender distribution',x=NULL, y=NULL)+\n",
    "  theme(plot.title = element_text(hjust = 0.5,face ='bold'))\n",
    "```\n",
    "\n"
   ]
  },
  {
   "cell_type": "code",
   "execution_count": null,
   "id": "405367fc",
   "metadata": {},
   "outputs": [],
   "source": []
  },
  {
   "cell_type": "markdown",
   "id": "d9532b95",
   "metadata": {},
   "source": [
    "\n",
    "- We can do one more thing to improve the graph. The legends are not intuitive enough. We can chang the legend title to `gender` and the labels to `male` and `female`. Use google to find a solution. (You could search \"change legend title in ggplot\" and \"rename legend labels in ggplot\")\n",
    "\n",
    "\n",
    "There are multiple ways to do this. Let's use the `scale_aesthetic_manual()` function. The new legend labels are supplied as a character vector to the labels argument. If you want to change the color of the categories, it can be assigned to the `values` argument. Because the legend is created by `fill`. We can use `scale_aesthetic_manual()`\n",
    "```r\n",
    "rosca.bar + labs(title = 'Gender distribution',x=NULL, y=NULL)+\n",
    "  theme(plot.title = element_text(hjust = 0.5,face ='bold'))+\n",
    "  scale_fill_manual(name='gender',labels=c('male','female'),values=c('0'='red','1'='blue'))\n",
    "```"
   ]
  },
  {
   "cell_type": "code",
   "execution_count": null,
   "id": "6c058eac",
   "metadata": {},
   "outputs": [],
   "source": []
  },
  {
   "cell_type": "markdown",
   "id": "58cee681",
   "metadata": {},
   "source": [
    "Another way to do this is to change the name and levels of the `bg_female` variable in the orginal data.\n",
    "```r\n",
    "rosca2 <- rosca\n",
    "colnames(rosca2)[2] <- \"gender\"\n",
    "levels(rosca2$gender) <- c('male','female')\n",
    "ggplot(data = rosca2)+\n",
    "  geom_bar(mapping = aes(x=treatment,fill = gender),position = 'dodge')+\n",
    "  labs(title = 'Gender distribution',x=NULL, y=NULL)+\n",
    "  theme(plot.title = element_text(hjust = 0.5,face ='bold'))\n",
    "```"
   ]
  },
  {
   "cell_type": "code",
   "execution_count": null,
   "id": "bfb1caea",
   "metadata": {},
   "outputs": [],
   "source": []
  },
  {
   "cell_type": "markdown",
   "id": "d548dce0",
   "metadata": {},
   "source": [
    "## Task 4\n",
    "Try a similar analysis using  the `bg_married` variable"
   ]
  },
  {
   "cell_type": "code",
   "execution_count": null,
   "id": "c7ea06ed",
   "metadata": {},
   "outputs": [],
   "source": []
  },
  {
   "cell_type": "markdown",
   "id": "22ad6eca",
   "metadata": {},
   "source": [
    "##  Task 5\n",
    "Does receiving a safe box or lockbox increase the amount invested in health products? We focus on the outcome measured 12 months from baseline during the second follow-up `fol2_amtinvest`. Use boxplot to summarize the `y` values for each treatment condition.\n",
    "```r\n",
    "ggplot(data = rosca) + \n",
    "  geom_boxplot(\n",
    "    mapping = aes(x = treatment, y = fol2_amtinvest)\n",
    "  )\n",
    "```"
   ]
  },
  {
   "cell_type": "code",
   "execution_count": null,
   "id": "c12dc6b1",
   "metadata": {},
   "outputs": [],
   "source": []
  },
  {
   "cell_type": "markdown",
   "id": "f4854c70",
   "metadata": {},
   "source": [
    "In this graph, there are some extreme values which make it hard to compare the different treatment conditions. Zoom in to make the three boxplots easier for comparison.\n",
    "\n",
    "```r\n",
    "ggplot(data = rosca) + \n",
    "  geom_boxplot(\n",
    "    mapping = aes(x = treatment, y = fol2_amtinvest)\n",
    "  )+\n",
    "  coord_cartesian(ylim=c(0,750))\n",
    "```"
   ]
  },
  {
   "cell_type": "code",
   "execution_count": null,
   "id": "da521df0",
   "metadata": {},
   "outputs": [],
   "source": []
  },
  {
   "cell_type": "markdown",
   "id": "c71061fd",
   "metadata": {},
   "source": [
    "* Are the results similar for different groups of people (e.g., married versus unmarried, male versus female)? Use faceted graphs to get the answer.\n",
    "```r\n",
    "ggplot(data = rosca) + \n",
    "  geom_boxplot(mapping = aes(x = treatment, y = fol2_amtinvest))+\n",
    "  labs(x=NULL,y= 'Investment')+\n",
    "  coord_cartesian(ylim=c(0,1000))+\n",
    "  facet_grid(bg_female~bg_married)\n",
    "```"
   ]
  },
  {
   "cell_type": "code",
   "execution_count": null,
   "id": "18f2f37f",
   "metadata": {},
   "outputs": [],
   "source": []
  },
  {
   "cell_type": "markdown",
   "id": "15403248",
   "metadata": {},
   "source": [
    "The problem of this graph is the labels for facets are not clear. Google how to change  the labels in `facet_grid`\n",
    "\n",
    "```r\n",
    "name_female <-  c('0'= 'male', '1' = 'female' )\n",
    "name_married <-  c('0'= 'unmarried', '1' = 'married' )\n",
    "\n",
    "ggplot(data = rosca) + \n",
    "  geom_boxplot(\n",
    "    mapping = aes(x = treatment, y = fol2_amtinvest)\n",
    "  )+\n",
    "  labs(x=NULL,y= 'Investment')+\n",
    "  coord_cartesian(ylim=c(0,1000))+\n",
    "  facet_grid(bg_female ~ bg_married,\n",
    "             labeller = labeller(bg_female= name_female, bg_married=name_married) )\n",
    "```\n"
   ]
  },
  {
   "cell_type": "code",
   "execution_count": null,
   "id": "d1497f4d",
   "metadata": {},
   "outputs": [],
   "source": []
  },
  {
   "cell_type": "markdown",
   "id": "1ccb3e81",
   "metadata": {},
   "source": [
    "## Task 6\n",
    "* What is the relationship between age and  the amount of investment in hospital products？Use `geom_smooth` to show the relationship between `age` and `fol2_amtinvest` for each of the three treatment groups.\n",
    "```{r}\n",
    "ggplot(data = rosca,mapping = aes(x=bg_b1_age, y = fol2_amtinvest))+\n",
    "  geom_point()+\n",
    "  geom_smooth()+\n",
    "  labs(x='age',y='investment')+\n",
    "  scale_y_continuous(limits =c(0,2000))+\n",
    "  facet_wrap(~treatment)\n",
    "```\n",
    "\n",
    "The fitted lines are problematic because of too many zeros.  Need to use other statistical methods to fit the lines."
   ]
  },
  {
   "cell_type": "code",
   "execution_count": null,
   "id": "21c5ff79",
   "metadata": {},
   "outputs": [],
   "source": []
  },
  {
   "cell_type": "markdown",
   "id": "576ce944",
   "metadata": {},
   "source": [
    "* Compare setting the limits of the y-axis using `scale_y_continuous` and `coord_cartesian`\n",
    "```r\n",
    "ggplot(data = rosca,mapping = aes(x=bg_b1_age, y = fol2_amtinvest))+\n",
    "  geom_point()+\n",
    "  geom_smooth()+\n",
    "  labs(x='age',y='investment')+\n",
    "  coord_cartesian(ylim =c(0,2000))+\n",
    "  facet_wrap(~treatment)\n",
    "```\n",
    "\n"
   ]
  }
 ],
 "metadata": {
  "kernelspec": {
   "display_name": "R",
   "language": "R",
   "name": "ir"
  },
  "language_info": {
   "codemirror_mode": "r",
   "file_extension": ".r",
   "mimetype": "text/x-r-source",
   "name": "R",
   "pygments_lexer": "r",
   "version": "3.6.2"
  }
 },
 "nbformat": 4,
 "nbformat_minor": 5
}
