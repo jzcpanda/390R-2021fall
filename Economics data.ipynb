{
 "cells": [
  {
   "cell_type": "markdown",
   "id": "f957580a",
   "metadata": {},
   "source": [
    "`economics` dataset was produced from US economic time series data available from <http://research.stlouisfed.org/fred2>.\n",
    "`presidential` dataset contains the names of each president, the start and end date of their term, and their party of 11 U.S. presidents from Eisenhower to Obama.\n",
    "\n",
    "We  start with a time series plotting U.S. unemployment over time:\n",
    "\n",
    "```r\n",
    "ggplot(economics, aes(date, unemploy)) + \n",
    "  geom_line()\n",
    "```"
   ]
  },
  {
   "cell_type": "code",
   "execution_count": null,
   "id": "85f1713a",
   "metadata": {},
   "outputs": [],
   "source": []
  },
  {
   "cell_type": "markdown",
   "id": "cec8859a",
   "metadata": {},
   "source": [
    "One useful way to annotate this plot is to use shading to indicate which president was in power at the time. To do this, we use `geom_rect()` to introduce shading.\n",
    "\n",
    "```r\n",
    "econ <- ggplot(economics) + \n",
    "  geom_rect(\n",
    "    aes(xmin = start, xmax = end, fill = party), \n",
    "    ymin = -Inf, ymax = Inf, alpha = 0.2, \n",
    "    data = presidential\n",
    "  )\n",
    "\n",
    "```\n",
    " "
   ]
  },
  {
   "cell_type": "code",
   "execution_count": null,
   "id": "00e0607a",
   "metadata": {},
   "outputs": [],
   "source": []
  },
  {
   "cell_type": "markdown",
   "id": "18220c1a",
   "metadata": {},
   "source": [
    "Then we use `geom_vline()` to introduce separators.\n",
    "\n",
    "```r\n",
    "econ <- econ+geom_vline(\n",
    "    aes(xintercept = as.numeric(start)), \n",
    "    data = presidential,\n",
    "    colour = \"grey50\", alpha = 0.5\n",
    "  )\n",
    "```\n",
    "\n"
   ]
  },
  {
   "cell_type": "code",
   "execution_count": null,
   "id": "1ff147fe",
   "metadata": {},
   "outputs": [],
   "source": []
  },
  {
   "cell_type": "markdown",
   "id": "e708dadf",
   "metadata": {},
   "source": [
    "Then we use `geom_text()` to add labels.\n",
    "\n",
    "```r\n",
    "econ <- econ+geom_text(\n",
    "    aes(x = start, y = 2500, label = name), \n",
    "    data = presidential, \n",
    "    size = 3, vjust = 0, hjust = 0, nudge_x = 50\n",
    "  ) \n",
    "```"
   ]
  },
  {
   "cell_type": "code",
   "execution_count": null,
   "id": "cce0e602",
   "metadata": {},
   "outputs": [],
   "source": []
  },
  {
   "cell_type": "markdown",
   "id": "d40643b8",
   "metadata": {},
   "source": [
    "then use `geom_line()` to overlay the data on top of these background elements.\n",
    "\n",
    "```r\n",
    "econ <- econ + scale_fill_manual(values = c(\"blue\", \"red\")) +\n",
    "  xlab(\"date\") + \n",
    "  ylab(\"unemployment\")\n",
    "```"
   ]
  },
  {
   "cell_type": "code",
   "execution_count": null,
   "id": "0422a1bf",
   "metadata": {},
   "outputs": [],
   "source": []
  }
 ],
 "metadata": {
  "kernelspec": {
   "display_name": "R",
   "language": "R",
   "name": "ir"
  },
  "language_info": {
   "codemirror_mode": "r",
   "file_extension": ".r",
   "mimetype": "text/x-r-source",
   "name": "R",
   "pygments_lexer": "r",
   "version": "3.6.2"
  }
 },
 "nbformat": 4,
 "nbformat_minor": 5
}
