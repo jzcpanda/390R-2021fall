{
 "cells": [
  {
   "cell_type": "markdown",
   "id": "d180f68d",
   "metadata": {},
   "source": [
    "# Strings\n",
    "\n",
    "\n",
    "## `str_sub()`\n",
    "<img src=\"./figures/transformation/strsub.jpg\" alt=\"ds\" style=\"width: 750px;\"/>\n",
    "\n",
    "```r\n",
    "str_sub(\"Garrett\", 1, 2)\n",
    "str_sub(\"Garrett\", 3)\n",
    "str_sub(\"Garrett\", -2)\n",
    "```\n",
    "\n",
    "```r\n",
    "g <- \"Garrett\"\n",
    "str_sub(g, -3) <- \"eth\"\n",
    "g\n",
    "```\n",
    "\n",
    "***\n",
    "\n",
    "You can type `help(package = stringr)` to open the file directory of stringr"
   ]
  },
  {
   "cell_type": "code",
   "execution_count": null,
   "id": "051e1d1f",
   "metadata": {},
   "outputs": [],
   "source": []
  },
  {
   "cell_type": "markdown",
   "id": "f4e370ad",
   "metadata": {},
   "source": [
    "### Your turn\n",
    "We would like to know the trend of the proportions of babynames end in a vowel.\n",
    "Use `babynames` data:  \n",
    "1. Isolate the last letter of every name   \n",
    "2. create a logical variable `vowel` that displays whether the last letter is one of \"a\", \"e\", \"i\", \"o\", or \"u\".   \n",
    "3. Use the weighted mean function `weighted.mean(vowel, n)` to calculate the proportion of children whose name ends in a vowel (by year and sex)   \n",
    "4. and then display the results as a line plot.\n",
    "\n",
    "<!-- ```{r echo=FALSE,eval=FALSE}\n",
    "babynames %>% \n",
    "  mutate(last = str_sub(name,-1),\n",
    "         vowel = last %in% c(\"a\",\"e\",\"i\",\"o\",\"u\")) %>% \n",
    "  group_by(year,sex) %>% \n",
    "  summarize(p_vowel = weighted.mean(vowel,n)) %>% \n",
    "  ggplot() +\n",
    "    geom_line(mapping = aes(year, p_vowel, color = sex))\n",
    "\n",
    "``` -->"
   ]
  },
  {
   "cell_type": "code",
   "execution_count": null,
   "id": "61b171c1",
   "metadata": {},
   "outputs": [],
   "source": []
  },
  {
   "cell_type": "markdown",
   "id": "d6c59fc7",
   "metadata": {},
   "source": [
    "## `str_detect`\n",
    "<img src=\"./figures/transformation/strdetect.jpg\" alt=\"ds\" style=\"width: 750px;\"/>\n",
    "\n",
    "```r\n",
    "strings <- c(\"Apple\", \"Orange\")\n",
    "str_detect(strings, \"pp\")\n",
    "```\n",
    "\n",
    "```r\n",
    "strings <- c(\"Apple\", \"Pineapple\")\n",
    "str_detect(strings, \"apple\")\n",
    "```\n"
   ]
  },
  {
   "cell_type": "code",
   "execution_count": null,
   "id": "09e10909",
   "metadata": {},
   "outputs": [],
   "source": []
  },
  {
   "cell_type": "markdown",
   "id": "f552a50d",
   "metadata": {},
   "source": [
    "## Special  characters\n",
    "Type `\"A\\B\"` in the console and see what happens.\n",
    "\n",
    "Special characters: a backslash followed by one or more characters which stand for a special type of character.\n",
    "Use `writeLines()` to see the characters represented by a string.\n",
    "\n",
    "```r\n",
    "writeLines(\"\\\"\")\n",
    "writeLines(\"\\\\\")\n",
    "```\n"
   ]
  },
  {
   "cell_type": "code",
   "execution_count": null,
   "id": "90800dc5",
   "metadata": {},
   "outputs": [],
   "source": []
  },
  {
   "cell_type": "markdown",
   "id": "a57ba6ca",
   "metadata": {},
   "source": [
    "# Atomic types and classes\n",
    "R recognizes six elemental data types.\n",
    "<img src=\"./figures/transformation/type.jpg\" alt=\"ds\" style=\"width: 750px;\"/>\n",
    "You can use atomic types to build new classes.\n",
    "# Factors\n",
    "\n",
    "R use Factors to represent categorical variables. \n",
    "Factor Consists of:  \n",
    "1. A set of values  \n",
    "2. A set of valid levels\n",
    "\n",
    "Factors are stored as an integer vector with a levels attribute\n",
    "```r\n",
    "a <- c(1,1,3,2,3,1)\n",
    "factor(a)\n",
    "factor(a,labels=c(\"blue\",\"brown\",\"green\"))\n",
    "```\n",
    "\n",
    "\n",
    "```r\n",
    "eyes <- factor(x = c(\"blue\", \"green\", \"green\"), \n",
    "          levels = c(\"blue\", \"brown\", \"green\"))\n",
    "\n",
    "```\n",
    "\n",
    "Question 2 in homework 3: plot the histograms for temperature in 12 months based on the `weather` data\n",
    "\n",
    "```r\n",
    "ggplot(data = weather)+\n",
    "  geom_histogram(mapping = aes(x = temp),color= \"white\",binwidth = 5)+\n",
    "  facet_wrap(~month,nrow=4)\n",
    "```\n"
   ]
  },
  {
   "cell_type": "code",
   "execution_count": 16,
   "id": "dbe07a4f",
   "metadata": {},
   "outputs": [
    {
     "data": {
      "text/html": [
       "<style>\n",
       ".list-inline {list-style: none; margin:0; padding: 0}\n",
       ".list-inline>li {display: inline-block}\n",
       ".list-inline>li:not(:last-child)::after {content: \"\\00b7\"; padding: 0 .5ex}\n",
       "</style>\n",
       "<ol class=list-inline><li>blue</li><li>blue</li><li>green</li><li>brown</li><li>green</li><li>blue</li></ol>\n",
       "\n",
       "<details>\n",
       "\t<summary style=display:list-item;cursor:pointer>\n",
       "\t\t<strong>Levels</strong>:\n",
       "\t</summary>\n",
       "\t<style>\n",
       "\t.list-inline {list-style: none; margin:0; padding: 0}\n",
       "\t.list-inline>li {display: inline-block}\n",
       "\t.list-inline>li:not(:last-child)::after {content: \"\\00b7\"; padding: 0 .5ex}\n",
       "\t</style>\n",
       "\t<ol class=list-inline><li>'blue'</li><li>'brown'</li><li>'green'</li></ol>\n",
       "</details>"
      ],
      "text/latex": [
       "\\begin{enumerate*}\n",
       "\\item blue\n",
       "\\item blue\n",
       "\\item green\n",
       "\\item brown\n",
       "\\item green\n",
       "\\item blue\n",
       "\\end{enumerate*}\n",
       "\n",
       "\\emph{Levels}: \\begin{enumerate*}\n",
       "\\item 'blue'\n",
       "\\item 'brown'\n",
       "\\item 'green'\n",
       "\\end{enumerate*}\n"
      ],
      "text/markdown": [
       "1. blue\n",
       "2. blue\n",
       "3. green\n",
       "4. brown\n",
       "5. green\n",
       "6. blue\n",
       "\n",
       "\n",
       "\n",
       "**Levels**: 1. 'blue'\n",
       "2. 'brown'\n",
       "3. 'green'\n",
       "\n",
       "\n"
      ],
      "text/plain": [
       "[1] blue  blue  green brown green blue \n",
       "Levels: blue < brown < green"
      ]
     },
     "metadata": {},
     "output_type": "display_data"
    }
   ],
   "source": []
  },
  {
   "cell_type": "markdown",
   "id": "0a892226",
   "metadata": {},
   "source": [
    "```r\n",
    "gss_cat\n",
    "```\n",
    "\n",
    "**Which religions watch the least TV?**\n",
    "```r\n",
    "gss_cat %>%\n",
    "  filter(!is.na(tvhours)) %>%\n",
    "  group_by(relig) %>%\n",
    "  summarize(tvhours = mean(tvhours)) %>%\n",
    "  ggplot(aes(tvhours, relig)) +\n",
    "    geom_point()\n",
    "```\n",
    "\n",
    "```r\n",
    "levels(gss_cat$relig)\n",
    "```"
   ]
  },
  {
   "cell_type": "code",
   "execution_count": null,
   "id": "7c6cf4e6",
   "metadata": {},
   "outputs": [],
   "source": []
  },
  {
   "cell_type": "markdown",
   "id": "7f9b0877",
   "metadata": {},
   "source": [
    "## `fct_reorder`\n",
    "Reorders the levels of a factor based on the result of fun(x) applied to each group of cases (grouped by level).\n",
    "<img src=\"./figures/transformation/fctreorder.jpg\" alt=\"ds\" style=\"width: 750px;\"/>\n",
    "\n",
    "```r\n",
    "gss_cat %>%\n",
    "  filter(!is.na(tvhours)) %>%\n",
    "  group_by(relig) %>%\n",
    "  summarize(tvhours = mean(tvhours)) %>%\n",
    "  ggplot(aes(tvhours, fct_reorder(relig, tvhours))) +\n",
    "    geom_point()\n",
    "```"
   ]
  },
  {
   "cell_type": "code",
   "execution_count": null,
   "id": "1b8b1e2a",
   "metadata": {},
   "outputs": [],
   "source": []
  },
  {
   "cell_type": "markdown",
   "id": "d02dcf47",
   "metadata": {},
   "source": [
    "### Your turn\n",
    "Make a sensible graph of average TV consumption by marital status.\n",
    "\n",
    "<!--```{r eval=FALSE, echo =FALSE}\n",
    "gss_cat %>%\n",
    "  filter(!is.na(tvhours)) %>%\n",
    "  group_by(marital) %>%\n",
    "  summarize(tvhours = mean(tvhours)) %>%\n",
    "  ggplot(aes(tvhours, fct_reorder(marital, tvhours,.fun=mean))) +\n",
    "    geom_point()\n",
    "```-->\n"
   ]
  },
  {
   "cell_type": "code",
   "execution_count": null,
   "id": "3aa8a75d",
   "metadata": {},
   "outputs": [],
   "source": []
  },
  {
   "cell_type": "markdown",
   "id": "9ee2494c",
   "metadata": {},
   "source": [
    "### Other reodering functions\n",
    "```r\n",
    "gss_cat %>%\n",
    "  ggplot(aes(marital)) + geom_bar()\n",
    "```\n",
    "```r\n",
    "gss_cat %>%\n",
    "  ggplot(aes(fct_infreq(marital))) + geom_bar()\n",
    "```\n",
    "\n",
    "```r\n",
    "gss_cat %>%\n",
    "  ggplot(aes(fct_rev(fct_infreq(marital)))) + geom_bar()\n",
    "```\n"
   ]
  },
  {
   "cell_type": "code",
   "execution_count": null,
   "id": "cea564e6",
   "metadata": {},
   "outputs": [],
   "source": []
  },
  {
   "cell_type": "markdown",
   "id": "a5042234",
   "metadata": {},
   "source": [
    "## `fct_recode()`\n",
    "**Compute average tv hours by party ID and then plot the results**\n",
    "\n",
    "```r\n",
    "gss_cat %>%\n",
    "   filter(!is.na(tvhours)) %>%\n",
    "   group_by(partyid) %>%\n",
    "   summarise(tvhours = mean(tvhours)) %>%\n",
    "   ggplot(aes(tvhours, fct_reorder(partyid, tvhours))) +\n",
    "     geom_point() +\n",
    "     labs(y = \"partyid\")\n",
    "```\n"
   ]
  },
  {
   "cell_type": "code",
   "execution_count": null,
   "id": "6032fd9b",
   "metadata": {},
   "outputs": [],
   "source": []
  },
  {
   "cell_type": "markdown",
   "id": "527a17b7",
   "metadata": {},
   "source": [
    "<img src=\"./figures/transformation/fctrecode.jpg\" alt=\"ds\" style=\"width: 750px;\"/>\n",
    "\n",
    "```r\n",
    "gss_cat %>%\n",
    "   filter(!is.na(tvhours)) %>%\n",
    "    mutate(partyid = fct_recode(partyid,\n",
    "    \"Republican, strong\"    = \"Strong republican\",\n",
    "    \"Republican, weak\"      = \"Not str republican\",\n",
    "    \"Independent, near rep\" = \"Ind,near rep\",\n",
    "    \"Independent, near dem\" = \"Ind,near dem\",\n",
    "    \"Democrat, weak\"        = \"Not str democrat\",\n",
    "    \"Democrat, strong\"      = \"Strong democrat\")) %>% \n",
    "   group_by(partyid) %>%\n",
    "   summarize(tvhours = mean(tvhours)) %>%\n",
    "   ggplot(aes(tvhours, fct_reorder(partyid, tvhours))) +\n",
    "     geom_point() + labs(y = \"partyid\")\n",
    "```"
   ]
  },
  {
   "cell_type": "code",
   "execution_count": null,
   "id": "b7bd4193",
   "metadata": {},
   "outputs": [],
   "source": []
  },
  {
   "cell_type": "markdown",
   "id": "7085560c",
   "metadata": {},
   "source": [
    "## `fct_collapse()`\n",
    "\n",
    "```r\n",
    "gss_cat %>%\n",
    "   filter(!is.na(tvhours)) %>%\n",
    "    mutate(partyid = fct_collapse(partyid,\n",
    "      \"conservative\" = c(\"Strong republican\", \n",
    "                       \"Not str republican\", \n",
    "                       \"Ind,near rep\"),\n",
    "      \"liberal\" = c(\"Strong democrat\", \n",
    "                  \"Not str democrat\", \n",
    "                  \"Ind,near dem\"))) %>% \n",
    "   group_by(partyid) %>%\n",
    "   summarize(tvhours = mean(tvhours)) %>%\n",
    "   ggplot(aes(tvhours, fct_reorder(partyid, tvhours))) +\n",
    "     geom_point() + labs(y = \"partyid\")\n",
    "```"
   ]
  },
  {
   "cell_type": "code",
   "execution_count": null,
   "id": "9e9377b2",
   "metadata": {},
   "outputs": [],
   "source": []
  },
  {
   "cell_type": "markdown",
   "id": "40f27c02",
   "metadata": {},
   "source": [
    "# Date times\n",
    "\n",
    "**What is the best time of day to fly? **\n",
    "```r\n",
    "flights %>% \n",
    "  group_by(sched_dep_time) %>% \n",
    "  summarize(arr_delay_avg = mean(arr_delay,na.rm=TRUE)) %>% \n",
    "  ggplot(mapping = aes(x = sched_dep_time, y = arr_delay_avg)) + \n",
    "    geom_point(alpha = 0.2) + geom_smooth()\n",
    "```"
   ]
  },
  {
   "cell_type": "code",
   "execution_count": null,
   "id": "1c00f305",
   "metadata": {},
   "outputs": [],
   "source": []
  },
  {
   "cell_type": "markdown",
   "id": "f8b6def0",
   "metadata": {},
   "source": [
    "R's class for time:   \n",
    "1. POSIXct. Stored as the number of seconds since 1970-01-01 00:00:00  \n",
    "2. Dates. Stored as the number of days since 1970-01-01\n",
    "```r\n",
    "Sys.time()\n",
    "unclass(Sys.time())\n",
    "```\n",
    "```r\n",
    "Sys.Date()\n",
    "unclass(Sys.Date())\n",
    "```\n",
    "\n",
    "Load the packcage `library(hms)`"
   ]
  },
  {
   "cell_type": "code",
   "execution_count": null,
   "id": "dce0a06e",
   "metadata": {},
   "outputs": [],
   "source": []
  },
  {
   "cell_type": "markdown",
   "id": "23e39d1c",
   "metadata": {},
   "source": [
    "<img src=\"./figures/transformation/time.jpg\" alt=\"ds\" style=\"width: 750px;\"/>\n",
    "\n",
    "```r\n",
    "hms::hms(seconds = 56, min = 34, hour = 12)\n",
    "```"
   ]
  },
  {
   "cell_type": "code",
   "execution_count": null,
   "id": "ac5a05e6",
   "metadata": {},
   "outputs": [],
   "source": []
  },
  {
   "cell_type": "markdown",
   "id": "5f2e585d",
   "metadata": {},
   "source": [
    "## Your turn\n",
    "* Use the hour and minute variables in flights to make a new variable that shows the time of each flight as an `hms`. \n",
    "Then use a smooth line to plot the relationship between time of day and `arr_delay` to show the best time of a day to fly.\n",
    "\n",
    "<!--```{r eval=FALSE,echo =FALSE}\n",
    "flights %>% \n",
    "  mutate(time = hms::hms(hour = hour, minute = minute)) %>% \n",
    "  group_by(time) %>% \n",
    "  summarize(arr_delay_avg = mean(arr_delay,na.rm=TRUE)) %>% \n",
    "  ggplot(aes(time, arr_delay_avg)) + \n",
    "    geom_point(alpha = 0.2) + geom_smooth()\n",
    "``` -->\n",
    "\n",
    "* Modify your code to make the graph below. You will need to:\n",
    "1. Create the `time` variable using `hms`\n",
    "2. Caculate average departure and arrival delays for each value of `time`\n",
    "3. Gather the average `arr_delay` and `dep_delay` columns into a key:value column pair names type and delay\n",
    "4. Recode the levels of `type` column to be \"Departure\" and \"Arrival\"\n",
    "5. Create the smooth line for each type of delays\n",
    "\n",
    "<!--```{r echo=FALSE, eval=TRUE,cache=TRUE}\n",
    "flights %>% \n",
    "  mutate(time = hms::hms(hour = hour, minute = minute)) %>% \n",
    "  group_by(time) %>% \n",
    "  mutate(arr_delay_avg = mean(arr_delay,na.rm=TRUE),\n",
    "         dep_delay_avg = mean(dep_delay,na.rm=TRUE)) %>% \n",
    "  select(time, arr_delay_avg, dep_delay_avg) %>%\n",
    "  gather(\"type\", \"delay\", 2:3) %>%\n",
    "  mutate(type = fct_recode(type, \n",
    "    \"Arrival\" = \"arr_delay_avg\", \"Departure\" = \"dep_delay_avg\")) %>% \n",
    "  ggplot(aes(time, delay, color = type)) + geom_smooth()\n",
    "```-->\n",
    "\n"
   ]
  },
  {
   "cell_type": "code",
   "execution_count": null,
   "id": "b3182ca0",
   "metadata": {},
   "outputs": [],
   "source": []
  },
  {
   "cell_type": "markdown",
   "id": "c42782b7",
   "metadata": {},
   "source": [
    "**What is the best day of the week to fly?**\n",
    "\n",
    "Load the package `library(lubridate)`\n",
    "\n",
    "To parse strings as dates, use the function whose name is y, m, d, h, m, s in the correct order.\n",
    "\n",
    "```r\n",
    "ymd(\"2012/01/11\")\n",
    "mdy(\"January 11 2012\")\n",
    "ymd_hms(\"2012-01-11  01:30:55\")\n",
    "```"
   ]
  },
  {
   "cell_type": "code",
   "execution_count": null,
   "id": "af630f54",
   "metadata": {},
   "outputs": [],
   "source": []
  },
  {
   "cell_type": "markdown",
   "id": "530c4edc",
   "metadata": {},
   "source": [
    "Extract components by name with a singular name\n",
    "\n",
    "```r\n",
    "date <- ymd(\"2019-01-11\")\n",
    "year(date)\n",
    "year(date) <- 1999\n",
    "date\n",
    "```\n",
    "<img src=\"./figures/transformation/timeextract.jpg\" alt=\"ds\" style=\"width: 750px;\"/>\n",
    "```r\n",
    "wday(ymd(\"2019-01-11\"))\n",
    "wday(ymd(\"2019-01-11\"), label = TRUE)\n",
    "wday(ymd(\"2019-01-11\"), label = TRUE, abbr = FALSE)\n",
    "```"
   ]
  },
  {
   "cell_type": "code",
   "execution_count": null,
   "id": "95411373",
   "metadata": {},
   "outputs": [],
   "source": []
  },
  {
   "cell_type": "markdown",
   "id": "24c400f7",
   "metadata": {},
   "source": [
    "## Your turn\n",
    "* Extract the day of the week of each flight (as a full name) from `time_hour`. \n",
    "Plot the average arrival delay by day as a column chart (bar chart).\n",
    "<!--```{r eval=FALSE,echo =FALSE}\n",
    "flights %>% \n",
    "  mutate(weekday = wday(time_hour, label = TRUE, abbr = FALSE)) %>% \n",
    "  group_by(weekday) %>% \n",
    "  filter(!is.na(arr_delay)) %>% \n",
    "  summarize(avg_delay = mean(arr_delay)) %>% \n",
    "  ggplot() +\n",
    "    geom_col(mapping = aes(x = weekday, y = avg_delay))\n",
    "```-->\n"
   ]
  }
 ],
 "metadata": {
  "kernelspec": {
   "display_name": "R",
   "language": "R",
   "name": "ir"
  },
  "language_info": {
   "codemirror_mode": "r",
   "file_extension": ".r",
   "mimetype": "text/x-r-source",
   "name": "R",
   "pygments_lexer": "r",
   "version": "3.6.2"
  }
 },
 "nbformat": 4,
 "nbformat_minor": 5
}
