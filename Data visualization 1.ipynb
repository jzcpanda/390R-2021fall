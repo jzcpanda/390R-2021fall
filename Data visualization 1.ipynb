{
 "cells": [
  {
   "cell_type": "markdown",
   "id": "1019115a",
   "metadata": {},
   "source": [
    "# R packages\n",
    "\n",
    "<img src=\"./figures/visualization/package2.jpg\" alt=\"ds\" style=\"width: 750px;\"/>\n",
    "\n",
    "***\n",
    "\n",
    "<img src=\"./figures/visualization/package3.jpg\" alt=\"ds\" style=\"width: 750px;\"/>\n",
    "\n",
    "***\n",
    "\n",
    "R packages extend the functionality of R by providing additional functions, data, and documentation. They are written by a worldwide community of R users and can be downloaded for free from the internet.\n",
    "\n",
    "\n",
    "## Tidyverse\n",
    "<img src=\"./figures/visualization/tidyverse.jpg\" alt=\"ds\" style=\"width: 750px;\"/>\n",
    "\n",
    "\n",
    "## ggplot2 package\n",
    "We will focus on ggplot2.  It allow for the user to concentrate on the visualisations instead of creating the underlying code.\n",
    "\n",
    "On top of this central philosophy ggplot2 has:\n",
    "\n",
    "* Increased flexible over many plotting systems.\n",
    "* An advanced theme system for professional/publication level graphics.\n",
    "* Large developer base – Many libraries extending its flexibility.\n",
    "* Large user base – Great documentation and active mailing list.\n",
    "\n",
    "\n",
    "ggplot2 links data with graphics. You provide the data, tell ggplot2 how to map variables to aesthetics,\n",
    "what graphical primitives to use, and it takes care of the details.\n",
    "\n",
    "\n",
    "## Package installationn\n",
    "There are two ways to install an R package.\n",
    "\n",
    "<img src=\"./figures/visualization/install.jpg\" alt=\"ds\" style=\"width: 750px;\"/>\n",
    "\n",
    "An alternative  way to install a package is by typing `install.packages(\"ggplot2\")` in the console pane of RStudio and pressing Return/Enter on your keyboard. Note you must include the quotation marks around the name of the package.\n",
    "\n",
    "\n",
    "\n",
    "\n",
    "## Load ggplot2\n",
    "\n",
    "To access the datasets, help pages, and functions of ggplot2, we need to load the package, which is a collection of R packages designed for data science.\n",
    "\n",
    "```r\n",
    "library(tidyverse)\n",
    "```\n",
    "That one line of code loads the core tidyverse; packages which you will use in almost every data analysis. It also tells you which functions from the tidyverse conflict with functions in base R (or from other packages you might have loaded).\n",
    "\n",
    "If you run this code and get the error message 'there is no package called tidyverse,' you will need to first install it  \n",
    "```r\n",
    "install.packages(\"tidyverse\")\n",
    "library(tidyverse)\n",
    "```\n",
    "\n",
    "You only need to install a package once, but you need to reload it every time you start a new session.\n",
    "\n",
    "\n",
    "## Your turn\n",
    "* install `tidyverse` and `nycflights13` and load them.\n",
    "\n"
   ]
  },
  {
   "cell_type": "code",
   "execution_count": null,
   "id": "42ecb0f3",
   "metadata": {},
   "outputs": [],
   "source": []
  },
  {
   "cell_type": "markdown",
   "id": "7dcea9d7",
   "metadata": {},
   "source": [
    "# Data mpg\n",
    "\n",
    "You now have access to the data, help pages and functions in ggplot2. Let's look at data `mpg`\n",
    "```{r}\n",
    "mpg\n",
    "```\n",
    "\n",
    "To make the discussion easier, we need to get familiar with some terms:\n",
    "\n",
    "* A **variable** is a quantity, quality, or property that you can measure.\n",
    "\n",
    "* A **value** is the state of a variable when you measure it. The value of a variable may change from measurement to measurement.\n",
    "\n",
    "* An **observation** is a set of measurements made under similar conditions. An observation will contain several values, each associated with a different variable. I’ll sometimes refer to an observation as a data point.\n",
    "\n",
    "<!-- To see the whole dataset, you can run `View(mpg)` which will open the dataset in the RStudio viewer. It prints differently because it is a tibble. Tibbles are data frames, but slightly tweaked to work better in the tidyverse.\n",
    "  \n",
    "tribble(\n",
    "  ~colA, ~colB,\n",
    "  \"a\",   1,\n",
    "  \"b\",   2,\n",
    "  \"c\",   3\n",
    ")\n",
    "-->\n",
    "\n",
    "Let's unpack the output:\n",
    "\n",
    "* `A tibble`  is a specific kind of data frame in R. This particular data frame has \n",
    "   + 234 rows corresponding to different observations. Here, each observation is model which had a new release every year between 1999 and 2008 \n",
    "   + 11  columns corresponding to 11 variables describing each observation\n",
    "   \n",
    "* `displ`, `year`, `cyl`, `hwy` are the different columns, in other words, the different variables of this dataset. To know the meaning of the varaibles, type `? mpg`  \n",
    "\n",
    "* We  have a preview of the first 10 rows of observations corresponding to the first 10 models. R is only showing the first 10 rows, because if it showed all  rows, it would overwhelm your screen.\n",
    "\n",
    "\n",
    "## Exploring the data\n",
    "There are some usefull functions to get more information from the data.\n",
    "\n",
    "**1. `view()`**\n",
    "\n",
    "`view()` brings up RStudio’s built-in data viewer\n",
    "\n",
    "Run `view(mpg)` in your console in RStudio. Explore this data frame in the resulting pop up viewer. You should get into the habit of viewing any data frames you encounter.  \n",
    "We can explore the different variables listed in the columns. \n",
    "If you look in the leftmost column of the output, you will see a column of numbers. These are the row numbers of the dataset.\n"
   ]
  },
  {
   "cell_type": "code",
   "execution_count": null,
   "id": "854f33a5",
   "metadata": {},
   "outputs": [],
   "source": []
  },
  {
   "cell_type": "markdown",
   "id": "11440568",
   "metadata": {},
   "source": [
    "**2. `glimpse()`**\n",
    "\n",
    "```{r cache=TRUE}\n",
    "glimpse(mpg)\n",
    "```\n",
    "\n",
    "`glimpse()` will give you the first few entries of each variable in a row after the variable name. In addition, the data type of the variable is given immediately after each variable’s name.\n",
    "\n"
   ]
  },
  {
   "cell_type": "markdown",
   "id": "db96dde2",
   "metadata": {},
   "source": [
    "* `int` stands for integers.\n",
    "\n",
    "* `dbl` stands for doubles, or real numbers.\n",
    "\n",
    "* `chr` stands for character vectors, or strings.\n",
    "\n",
    "* `lgl` stands for logical, vectors that contain only `TRUE` or `FALSE`.\n",
    "\n",
    "* `fctr` stands for factors, which R uses to represent categorical variables with fixed possible values.\n",
    "\n",
    "* `dttm` stands for date-times (a date + a time).\n",
    "\n",
    "* `date` stands for dates."
   ]
  },
  {
   "cell_type": "code",
   "execution_count": null,
   "id": "aa49c47b",
   "metadata": {
    "scrolled": true
   },
   "outputs": [],
   "source": []
  },
  {
   "cell_type": "markdown",
   "id": "d3815068",
   "metadata": {},
   "source": [
    "**3. `kable()`**\n",
    "\n",
    "You need to load  `knitr` package before usinng `kable()`. `kable()` helps you draw a table using Rmarkdown.\n",
    "\n",
    "\n",
    "**4. `$` operator**\n",
    "\n",
    "the `$` operator allows us to extract and then explore a single variable within a data frame\n",
    "\n",
    "\n"
   ]
  },
  {
   "cell_type": "code",
   "execution_count": 9,
   "id": "8b1812dc",
   "metadata": {},
   "outputs": [
    {
     "data": {
      "text/html": [
       "<style>\n",
       ".list-inline {list-style: none; margin:0; padding: 0}\n",
       ".list-inline>li {display: inline-block}\n",
       ".list-inline>li:not(:last-child)::after {content: \"\\00b7\"; padding: 0 .5ex}\n",
       "</style>\n",
       "<ol class=list-inline><li>'manufacturer'</li><li>'model'</li><li>'displ'</li><li>'year'</li><li>'cyl'</li><li>'trans'</li><li>'drv'</li><li>'cty'</li><li>'hwy'</li><li>'fl'</li><li>'class'</li></ol>\n"
      ],
      "text/latex": [
       "\\begin{enumerate*}\n",
       "\\item 'manufacturer'\n",
       "\\item 'model'\n",
       "\\item 'displ'\n",
       "\\item 'year'\n",
       "\\item 'cyl'\n",
       "\\item 'trans'\n",
       "\\item 'drv'\n",
       "\\item 'cty'\n",
       "\\item 'hwy'\n",
       "\\item 'fl'\n",
       "\\item 'class'\n",
       "\\end{enumerate*}\n"
      ],
      "text/markdown": [
       "1. 'manufacturer'\n",
       "2. 'model'\n",
       "3. 'displ'\n",
       "4. 'year'\n",
       "5. 'cyl'\n",
       "6. 'trans'\n",
       "7. 'drv'\n",
       "8. 'cty'\n",
       "9. 'hwy'\n",
       "10. 'fl'\n",
       "11. 'class'\n",
       "\n",
       "\n"
      ],
      "text/plain": [
       " [1] \"manufacturer\" \"model\"        \"displ\"        \"year\"         \"cyl\"         \n",
       " [6] \"trans\"        \"drv\"          \"cty\"          \"hwy\"          \"fl\"          \n",
       "[11] \"class\"       "
      ]
     },
     "metadata": {},
     "output_type": "display_data"
    }
   ],
   "source": []
  },
  {
   "cell_type": "markdown",
   "id": "746ac459",
   "metadata": {},
   "source": [
    "## Your turn\n",
    "* Explore the `flights` dataset in `nycflights13` package.\n",
    "    1. how many observations and variables are in the dataset\n",
    "    2. what do the variables represent, what is the meaninng of their values\n",
    "    3. what does each observation represent\n",
    "\n"
   ]
  },
  {
   "cell_type": "code",
   "execution_count": null,
   "id": "96b0f55b",
   "metadata": {},
   "outputs": [],
   "source": []
  },
  {
   "cell_type": "markdown",
   "id": "e1acbc67",
   "metadata": {},
   "source": [
    "# Data visualization using ggplot2\n",
    "\n",
    "Graphics/plots/charts provide a nice way to explore the patterns in data, such as the presence of outliers, distributions of individual variables, and relationships between groups of variables.\n",
    "\n",
    "Graphics are designed to emphasize the findings and insights you want your audience to understand. This  requires a balancing act. On the one hand, you want to highlight as many interesting findings as possible. On the other hand, you don’t want to include so much information that it overwhelms your audience.\n",
    "\n",
    "## A simple plot \n",
    "\n",
    ">  A statistical graphic is a mapping of data variables to aesthetic attributes of geometric objects.\n",
    "\n",
    "\n",
    "Question: What relationship do you expect to see between engine size (displ) and gas  mileage (hwy)?\n",
    "\n",
    "\n",
    "Let's plot two variables in the mpg data.\n",
    "\n",
    "```\n",
    "ggplot(data = mpg) +\n",
    "  geom_point(mapping = aes(x = displ, y = hwy))\n",
    "```"
   ]
  },
  {
   "cell_type": "code",
   "execution_count": 16,
   "id": "61272e45",
   "metadata": {},
   "outputs": [
    {
     "data": {
      "image/png": "[encoded data removed]",
      "text/plain": [
       "plot without title"
      ]
     },
     "metadata": {
      "image/png": {
       "height": 420,
       "width": 420
      }
     },
     "output_type": "display_data"
    }
   ],
   "source": [
    "ggplot(data=mpg)+\n",
    "    geom_point(mapping = aes(x = displ, y = hwy ) )"
   ]
  },
  {
   "cell_type": "markdown",
   "id": "d576cbdf",
   "metadata": {},
   "source": [
    "Three essential components:\n",
    "\n",
    "1. `data`: the dataset containing the variables of interest.\n",
    "2. `geom`: the geometric object in question. This refers to the type of object we can observe in a plot. For example: points, lines, and bars.\n",
    "3. `aes`: aesthetic attributes of the geometric object. For example, x/y position, color, shape, and size. Aesthetic attributes are mapped to variables in the dataset.\n",
    "\n",
    "<img src=\"./figures/visualization/ggplot_point.jpg\" alt=\"ds\" style=\"width: 750px;\"/>\n",
    "\n",
    "ggplot2 draws graphs by adding layers one by one. We can break the above code into two parts.  \n",
    "\n",
    "1. `ggplot()` creates a coordinate system that you can add layers to. The argument `(data = mpg)` links the data `mpg` to the graph. Running the first only will create a empty graph.\n",
    "\n",
    "\n",
    "2. geom functions  add layers to the coordinate system created from the `ggplot()` function. \n",
    "The `geom_point()` adds a layer of scatterplot. Each geom function in ggplot2 takes a mapping argument. This defines how variables in your dataset are mapped to visual properties. The mapping argument is always paired with `aes()` \n",
    "   + `displ` gets mapped to the `x`-position `aes`thetic of the points\n",
    "   + `hwy` gets mapped to the `y`-position `aes`thetic of the points\n",
    "\n",
    "An **aesthetic** is a visual property of the objects in your plot. Aesthetics include things like the `x`-position, the `y`-position, the size, the shape, or the color of your points. \n",
    "You can convey information about your data by mapping the aesthetics in your plot to the variables in your dataset. \n",
    "\n",
    "For each aesthetic, you use `aes()` to associate the name of the aesthetic with a variable to display. The `aes()` function gathers together each of the aesthetic mappings used by a layer and passes them to the layer’s mapping argument. \n",
    "\n",
    "\n",
    "You can save the layers in an object.\n",
    "```r\n",
    "a <-  ggplot(data =mpg)\n",
    "a <-  a + geom_point(mapping = aes(x = displ, y = hwy))\n",
    "a\n",
    "```"
   ]
  },
  {
   "cell_type": "code",
   "execution_count": null,
   "id": "f2f10192",
   "metadata": {},
   "outputs": [],
   "source": []
  },
  {
   "cell_type": "markdown",
   "id": "b1b6d797",
   "metadata": {},
   "source": [
    "## Your turn\n",
    "* Make a scatterplot of `hwy` vs `cyl`\n",
    "\n",
    "\n",
    "\n",
    "<!-- * Make a scatterplot of `class` vs `drv` -->\n",
    "\n",
    "<!-- ```{r echo=FALSE, eval=FALSE} -->\n",
    "<!-- ggplot(data = mpg) + -->\n",
    "<!--   geom_point(mapping = aes(x = class, y = drv)) -->\n",
    "<!-- ``` -->\n",
    "\n",
    "* What happens if you use a constant for `x` or `y`   (e.g., `x=1`)\n"
   ]
  },
  {
   "cell_type": "code",
   "execution_count": null,
   "id": "f224550e",
   "metadata": {},
   "outputs": [],
   "source": [
    "\n"
   ]
  },
  {
   "cell_type": "markdown",
   "id": "d8d743c3",
   "metadata": {},
   "source": [
    "##  Aesthetic mappings\n",
    "Each geom function understands different aesthetics. Type `? geom_point` to see what aesthetics can be used in `geom_point()`\n",
    "\n",
    "Can we separate different types of cars with different colors?\n",
    "The `class` variable of the mpg dataset classifies cars into groups such as compact, midsize, and SUV. You can add a third variable, like `class`, to a two dimensional scatterplot by mapping it to an aesthetic.\n",
    "```{r}\n",
    "ggplot(data = mpg) +\n",
    "  geom_point(mapping = aes(x = displ, y = hwy,color = class))\n",
    "```"
   ]
  },
  {
   "cell_type": "code",
   "execution_count": null,
   "id": "68200665",
   "metadata": {},
   "outputs": [],
   "source": []
  },
  {
   "cell_type": "markdown",
   "id": "511880ca",
   "metadata": {},
   "source": [
    "<img src=\"./figures/visualization/color_mapping.jpg\" alt=\"ds\" style=\"width: 750px;\"/>\n",
    "We can try other aesthetics: `size`, `alpha`, and `shape`.\n",
    "\n",
    "```r\n",
    "ggplot(data = mpg) +\n",
    "  geom_point(mapping = aes(x = displ, y = hwy,size = class))\n",
    "```\n",
    "\n",
    "Warnings appear because we use an unordered variable for an ordered aesthetic\n",
    "```r\n",
    "ggplot(data = mpg) +\n",
    "  geom_point(mapping = aes(x = displ, y = hwy,alpha = class))\n",
    "```\n",
    "\n",
    "Warnings appear because we use a nonminal variable for a ordinal aesthetic\n",
    "```r\n",
    "ggplot(data = mpg) +\n",
    "  geom_point(mapping = aes(x = displ, y = hwy,shape = class))\n",
    "```\n",
    "\n",
    "ggplot2 will only use six shapes at a time. By default, additional groups will go unplotted when you use the `shape` aesthetic.\n",
    "\n",
    "<img src=\"./figures/visualization/aes.jpg\" alt=\"ds\" style=\"width: 750px;\"/>"
   ]
  },
  {
   "cell_type": "code",
   "execution_count": null,
   "id": "d528d4c2",
   "metadata": {},
   "outputs": [],
   "source": []
  },
  {
   "cell_type": "markdown",
   "id": "5ac9be1a",
   "metadata": {},
   "source": [
    "## Your turn\n",
    "*  What happens if you map the same (different) variable to multiple aesthetics? \n",
    "\n",
    "* What happens if you map an aesthetic to something other than a variable name. Try the following code, explain what you get.\n",
    "```{r eval = FALSE}\n",
    "ggplot(data = mpg) +\n",
    "  geom_point(mapping = aes(x = displ, y = hwy, color=displ < 5))\n",
    "```\n",
    "\n",
    "\n"
   ]
  },
  {
   "cell_type": "code",
   "execution_count": null,
   "id": "87593b39",
   "metadata": {},
   "outputs": [],
   "source": []
  },
  {
   "cell_type": "markdown",
   "id": "6443780b",
   "metadata": {},
   "source": [
    "## Categorical and numerical variables\n",
    "\n",
    "We talked about integer, double, logicals before. This classification is for values and is from the computer coding perspective.\n",
    "In statistics, people  classify the variables into categorical and numerical variables. This classification is about what operations can be performed on the variables\n",
    "\n",
    "* **Categorical** (qualitative) variables contain a finite number of categories or distinct groups.\n",
    "  1. *nominal* variables have no intrinsic ordering to its categories, e.g., gender\n",
    "  2. *ordinal* variables have intrinsic ordering to its categories, e.g., education level (high school, BS, MS, PhD)\n",
    "\n",
    "* **Numerical** (quantitative) variables  is expressed in terms of numbers rather than natural language descriptions.    \n",
    "  1. *Discrete* variables are numeric variables that have a countable number of values, e.g., age, number of students in a class  \n",
    "  2. *Continuous* variables are numeric variables that have an infinite number of values between any two values, e.g., height, weight\n",
    "\n",
    "\n",
    "<!-- ![](fig/typeofvar.jpg) -->\n",
    "\n",
    "## Your turn\n",
    "\n",
    "\n",
    "* What are the types of `displ`, `drv`, `hwy`, `class`?\n",
    "\n",
    "* Map a numerical variable to `color`, `size`, and `shape`. How do these aesthetics behave differently for categorical vs. continuous variables?\n",
    "\n",
    "<!--```{r echo=FALSE,eval = FALSE}\n",
    "ggplot(data = mpg) +\n",
    "  geom_point(mapping = aes(x = displ, y = hwy,color=displ))\n",
    "```-->\n"
   ]
  },
  {
   "cell_type": "code",
   "execution_count": null,
   "id": "7cdefe50",
   "metadata": {},
   "outputs": [],
   "source": []
  },
  {
   "cell_type": "markdown",
   "id": "3865e3dd",
   "metadata": {},
   "source": [
    "## Aesthetics vs. arugments\n",
    "\n",
    "\n",
    "\n",
    "You can also set the aesthetic properties of your geom manually. For example, we can make all of the points in our plot red:\n",
    "```{r}\n",
    "ggplot(data = mpg) +\n",
    "  geom_point(mapping = aes(x = displ, y = hwy), color = \"red\")\n",
    "```\n",
    "\n",
    "In the above code, `red` is the argument of the `geom` function, not of the `aes()`, because we do not need to associate `color` with a variable in the `mpg` data.\n",
    "\n",
    "To set an aesthetic manually, set the aesthetic by name as an argument of your geom function; i.e. it goes outside of aes(). You’ll need to pick a level that makes sense for that aesthetic:\n",
    "\n",
    "* The name of a color as a character string\n",
    "* The size of a point in mm\n",
    "* The shape of a point as a number\n",
    "\n",
    "<!-- ```{r pressure, echo=FALSE, fig.cap=\"R has 25 built in shapes that are identified by numbers\",out.width = '100%'} -->\n",
    "<!-- knitr::include_graphics(\"fig/shape.png\") -->\n",
    "<!-- ``` -->\n",
    "\n",
    "<!-- ![R has 25 built in shapes that are identified by numbers](fig/shape.png) -->\n",
    "\n",
    "\n",
    "\n",
    "## Your turn\n",
    "* Why are the points not blue? Can you change the code to make the points blue?\n",
    "```{r eval=FALSE}\n",
    "ggplot(data = mpg) +\n",
    "  geom_point(mapping = aes(x = displ, y = hwy, color = \"blue\"))\n",
    "```\n",
    "\n"
   ]
  },
  {
   "cell_type": "code",
   "execution_count": null,
   "id": "a128c860",
   "metadata": {},
   "outputs": [],
   "source": []
  },
  {
   "cell_type": "markdown",
   "id": "8820be41",
   "metadata": {},
   "source": [
    "## Common problems and some tips\n",
    "R is extremely picky, and a misplaced character can make all the difference.\n",
    "As you start to run R code, you are likely to run into problems. Don’t worry — it happens to everyone. \n",
    "\n",
    "-  Make sure that every `(` is matched with a `)` and every `\"` is paired with another `\"`\n",
    "\n",
    "- for ggplot2 graphics, `+`  has to come at the end of the line, not the start. \n",
    "\n",
    "- If you are still stuck, try the help. You can get help about any R function by running `? function_name` in the console\n",
    "\n",
    "- Read the error message. If you cannot understand it, google it. \n",
    "\n",
    "\n",
    "\n",
    "Some tipes to make your code reproducible\n",
    "\n",
    "1. Packages should be loaded at the top of the script, so it’s easy to see which ones the example needs. This is a good time to check that you’re using the latest version of each package\n",
    "\n",
    "2. Spend a little bit of time ensuring that your code is easy for others to read:\n",
    "   + Make sure you’ve used spaces and your variable names are concise, yet informative.\n",
    "   + Use comments to indicate where your problem lies.\n",
    "   + Do your best to remove everything that is not related to the problem.\n",
    "The shorter your code is, the easier it is to understand, and the easier it is to fix.\n",
    "\n"
   ]
  }
 ],
 "metadata": {
  "kernelspec": {
   "display_name": "R",
   "language": "R",
   "name": "ir"
  },
  "language_info": {
   "codemirror_mode": "r",
   "file_extension": ".r",
   "mimetype": "text/x-r-source",
   "name": "R",
   "pygments_lexer": "r",
   "version": "3.6.2"
  }
 },
 "nbformat": 4,
 "nbformat_minor": 5
}
