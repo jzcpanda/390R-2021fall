{
 "cells": [
  {
   "cell_type": "markdown",
   "id": "ce07b725",
   "metadata": {},
   "source": [
    "We will work on the `flights`  dataset for the exercise.\n",
    "\n",
    "\n",
    "* Select all flights on January 1st\n",
    "\n",
    "```r\n",
    "jan1 <- filter(flights,month == 1, day == 1)\n",
    "```"
   ]
  },
  {
   "cell_type": "code",
   "execution_count": null,
   "id": "a33245f5",
   "metadata": {},
   "outputs": [],
   "source": []
  },
  {
   "cell_type": "markdown",
   "id": "a6a3eace",
   "metadata": {},
   "source": [
    "* Find flights that weren’t delayed (on arrival or departure) by more than two hours\n",
    "```r\n",
    "filter(flights, !(arr_delay > 120 | dep_delay > 120))\n",
    "filter(flights, arr_delay <= 120, dep_delay <= 120)\n",
    "```\n",
    "\n"
   ]
  },
  {
   "cell_type": "code",
   "execution_count": null,
   "id": "92a84355",
   "metadata": {},
   "outputs": [],
   "source": []
  },
  {
   "cell_type": "markdown",
   "id": "8d413c72",
   "metadata": {},
   "source": [
    "* How many flights have a missing `dep_time`?  What might these rows represent?\n",
    "\n",
    "```r\n",
    "# cancelled flights\n",
    "filter(flights, is.na(dep_time))\n",
    "```\n",
    "\n",
    "\n",
    "\n",
    "```r\n",
    "summary(flights)\n",
    "filter(flights, !is.na(dep_time),is.na(arr_time))\n",
    "```\n"
   ]
  },
  {
   "cell_type": "code",
   "execution_count": null,
   "id": "3c300c8c",
   "metadata": {},
   "outputs": [],
   "source": []
  },
  {
   "cell_type": "markdown",
   "id": "ef691430",
   "metadata": {},
   "source": [
    "* How does `arrange()` work with missing values? How could you use `arrange()` to sort all missing values to the start?\n",
    "\n",
    "```r\n",
    "arrange(flights, dep_time) %>% tail()\n",
    "arrange(flights, desc(dep_time))\n",
    "arrange(flights, desc(is.na(dep_time)),dep_time)\n",
    "\n",
    "```\n"
   ]
  },
  {
   "cell_type": "code",
   "execution_count": null,
   "id": "9a2fbc2f",
   "metadata": {},
   "outputs": [],
   "source": []
  },
  {
   "cell_type": "markdown",
   "id": "72576dce",
   "metadata": {},
   "source": [
    "* Sort flights to find the most delayed flights. \n",
    "\n",
    "```r\n",
    "arrange(flights,desc(dep_delay))\n",
    "```\n"
   ]
  },
  {
   "cell_type": "code",
   "execution_count": null,
   "id": "cfef95d7",
   "metadata": {},
   "outputs": [],
   "source": []
  },
  {
   "cell_type": "markdown",
   "id": "4609b17d",
   "metadata": {},
   "source": [
    "* Sort flights to find the fastest flights.(in terms of flight time and speed)\n",
    "```r\n",
    "arrange(flights,air_time)\n",
    "arrange(flights, desc(distance/air_time))\n",
    "flights %>% mutate(speed = distance/air_time) %>%\n",
    "  select(-ends_with(\"delay\"),-contains(\"time\")) %>% \n",
    "  arrange(desc(speed))\n",
    "```"
   ]
  },
  {
   "cell_type": "code",
   "execution_count": null,
   "id": "9cae781e",
   "metadata": {},
   "outputs": [],
   "source": []
  },
  {
   "cell_type": "markdown",
   "id": "222bbdf6",
   "metadata": {},
   "source": [
    "* Currently `dep_time` and `sched_dep_time` are convenient to look at, but hard to compute with because they’re not really continuous numbers. Convert them to a more convenient representation of number of minutes since midnight.\n",
    "\n",
    "```r\n",
    " flights %>% \n",
    "    mutate(dep_time_mins = (dep_time %/% 100 * 60 + dep_time %% 100) %% 1440,\n",
    "  sched_dep_time_mins = (sched_dep_time %/% 100 * 60 +sched_dep_time %% 100) %% 1440\n",
    ")  %>% \n",
    "select( dep_time, dep_time_mins, sched_dep_time,\n",
    "  sched_dep_time_mins\n",
    ")\n",
    "```"
   ]
  },
  {
   "cell_type": "code",
   "execution_count": null,
   "id": "6182e47a",
   "metadata": {},
   "outputs": [],
   "source": []
  },
  {
   "cell_type": "markdown",
   "id": "8d96eece",
   "metadata": {},
   "source": [
    "* Compare `air_time` with `arr_time - dep_time`. What do you expect to see? What do you see? What do you need to do to fix it?\n",
    "\n",
    "```r\n",
    "flights_airtime <-\n",
    "  mutate(flights,\n",
    "    dep_time = (dep_time %/% 100 * 60 + dep_time %% 100) %% 1440,\n",
    "    arr_time = (arr_time %/% 100 * 60 + arr_time %% 100) %% 1440,\n",
    "    air_time_diff = air_time - arr_time + dep_time\n",
    "  )\n",
    "\n",
    "nrow(filter(flights_airtime, air_time_diff != 0))\n",
    "```\n",
    "\n",
    "<!-- The flight passes midnight, so arr_time < dep_time. In these cases, the difference in airtime should be by 24 hours (1,440 minutes). -->\n",
    "\n",
    "<!-- The flight crosses time zones, and the total air time will be off by hours (multiples of 60).  -->\n",
    "\n",
    "```{r}\n",
    "ggplot(flights_airtime, aes(x = air_time_diff)) +\n",
    "  geom_histogram(binwidth = 1)\n",
    "\n",
    "```\n",
    "\n",
    "```{r}\n",
    "ggplot(filter(flights_airtime, dest == \"LAX\"), aes(x = air_time_diff)) +\n",
    "  geom_histogram(binwidth = 1)\n",
    "\n",
    "```"
   ]
  },
  {
   "cell_type": "code",
   "execution_count": null,
   "id": "18f59e2b",
   "metadata": {},
   "outputs": [],
   "source": []
  },
  {
   "cell_type": "markdown",
   "id": "ec6556ed",
   "metadata": {},
   "source": [
    "* Compare `dep_time`, `sched_dep_time`, and `dep_delay`. How would you expect those three numbers to be related?\n",
    "\n",
    "```r\n",
    "flights_deptime <-\n",
    "  mutate(flights,\n",
    "    dep_time_min = (dep_time %/% 100 * 60 + dep_time %% 100) %% 1440,\n",
    "    sched_dep_time_min = (sched_dep_time %/% 100 * 60 +\n",
    "      sched_dep_time %% 100) %% 1440,\n",
    "    dep_delay_diff = dep_delay - dep_time_min + sched_dep_time_min\n",
    "  )\n",
    "\n",
    "filter(flights_deptime, dep_delay_diff != 0)\n",
    "\n",
    "```\n",
    "\n",
    "```r\n",
    "ggplot(\n",
    "  filter(flights_deptime, dep_delay_diff > 0),\n",
    "  aes(y = sched_dep_time_min, x = dep_delay_diff)\n",
    ") +\n",
    "  geom_point()\n",
    "```"
   ]
  },
  {
   "cell_type": "code",
   "execution_count": null,
   "id": "f9831a6c",
   "metadata": {},
   "outputs": [],
   "source": []
  },
  {
   "cell_type": "markdown",
   "id": "92d9386f",
   "metadata": {},
   "source": [
    "* Use the `summarize()` function to get the mean of `dep_delay` for each day.\n",
    "\n",
    "```r\n",
    "flights %>% \n",
    "  group_by(year, month, day) %>% \n",
    "  summarize(mean = mean(dep_delay,na.rm = TRUE))\n",
    "```\n"
   ]
  },
  {
   "cell_type": "code",
   "execution_count": null,
   "id": "f7925d6b",
   "metadata": {},
   "outputs": [],
   "source": []
  },
  {
   "cell_type": "markdown",
   "id": "9dc9de33",
   "metadata": {},
   "source": [
    "* Obtain the average delays of the planes (identified by their tail number). Which one has the  highest delay? Plot a histogram for the average delays.\n",
    "```r\n",
    "delays <- flights %>% \n",
    "  group_by(tailnum) %>% \n",
    "  summarize(\n",
    "    delay = mean(arr_delay, na.rm=TRUE),\n",
    "    n = n()\n",
    "  ) \n",
    "arrange(delays,desc(delay))\n",
    "\n",
    " ggplot(data = delays, mapping = aes(x = delay)) + \n",
    "  geom_histogram(binwidth = 10)\n",
    "\n",
    " tail(arrange(delays,desc(delay)))\n",
    "flights %>% filter(tailnum == \"N768SK\")\n",
    "\n",
    " ggplot(data = filter(delays,!is.na(delay)), mapping = aes(x = delay)) + \n",
    "  geom_histogram(binwidth = 10)\n",
    "```"
   ]
  },
  {
   "cell_type": "code",
   "execution_count": null,
   "id": "70fe4721",
   "metadata": {},
   "outputs": [],
   "source": []
  },
  {
   "cell_type": "markdown",
   "id": "cd27372f",
   "metadata": {},
   "source": [
    "*   When do the first and last flight leave each day?\n",
    "\n",
    "```{r}\n",
    "not_cancelled <- flights %>% \n",
    "  filter(!is.na(arr_delay),!is.na(dep_delay))\n",
    "```\n",
    "\n",
    "\n",
    "```{r}\n",
    "not_cancelled %>% \n",
    "  group_by(year, month, day) %>% \n",
    "  summarize(\n",
    "    first = min(dep_time),\n",
    "    last = max(dep_time)\n",
    "  )\n",
    "```\n",
    "\n",
    "\n",
    "\n",
    "```{r}\n",
    "not_cancelled %>% ggplot(aes(x = dep_time)) +\n",
    "  geom_histogram(binwidth = 10)\n",
    "\n",
    "not_cancelled %>% \n",
    "  group_by(year, month, day) %>% \n",
    "  summarize(\n",
    "    first = min(sched_dep_time),\n",
    "    last = max(sched_dep_time)\n",
    "  )\n",
    "```\n"
   ]
  },
  {
   "cell_type": "code",
   "execution_count": null,
   "id": "83bff294",
   "metadata": {},
   "outputs": [],
   "source": []
  },
  {
   "cell_type": "markdown",
   "id": "53ef48aa",
   "metadata": {},
   "source": [
    "* Which destinations have the most carriers?\n",
    "```r\n",
    "not_cancelled %>% \n",
    "  group_by(dest) %>% \n",
    "  summarize(carriers = n_distinct(carrier)) %>% \n",
    "  arrange(desc(carriers))\n",
    "\n",
    " filter(airports, faa %in% c(\"ATL\",\"BOS\",\"CLT\"))\n",
    "```\n"
   ]
  },
  {
   "cell_type": "code",
   "execution_count": null,
   "id": "7363fb42",
   "metadata": {},
   "outputs": [],
   "source": []
  },
  {
   "cell_type": "markdown",
   "id": "520112e3",
   "metadata": {},
   "source": [
    "*  What proportion of flights are delayed by more than an hour each day?\n",
    "```r\n",
    "not_cancelled %>% \n",
    "  group_by(year, month, day) %>% \n",
    "  summarize(hour_prop = mean(arr_delay > 60)) %>% \n",
    "  arrange(desc(hour_prop))\n",
    "```\n",
    "\n",
    "```r\n",
    "weather %>% \n",
    "  filter(month==3,day==8) %>% \n",
    "  select(-c(origin,year)) %>% \n",
    "  print(n=100)\n",
    "\n",
    "ggplot(weather)+\n",
    " geom_bar(aes(x = visib))\n",
    "\n",
    "ggplot(weather)+\n",
    " geom_histogram(aes(x = wind_speed))+\n",
    "  scale_x_continuous(limits=c(0,50))\n",
    "\n",
    "```"
   ]
  },
  {
   "cell_type": "code",
   "execution_count": null,
   "id": "8fc24960",
   "metadata": {},
   "outputs": [],
   "source": []
  },
  {
   "cell_type": "markdown",
   "id": "e28155a1",
   "metadata": {},
   "source": [
    "*  Which carrier has the worst delays? \n",
    "```r\n",
    "not_cancelled %>%\n",
    "  group_by(carrier) %>%\n",
    "  summarize(arr_delay = mean(arr_delay, na.rm = TRUE)) %>%\n",
    "  arrange(desc(arr_delay))\n",
    "\n",
    " airlines %>% filter(carrier == \"F9\")\n",
    "```\n"
   ]
  },
  {
   "cell_type": "code",
   "execution_count": null,
   "id": "f3772574",
   "metadata": {},
   "outputs": [],
   "source": []
  },
  {
   "cell_type": "markdown",
   "id": "eeabaeba",
   "metadata": {},
   "source": [
    "* What time of a day should you fly if you want to avoid delays as much as possible?\n",
    "\n",
    "```r\n",
    "not_cancelled %>%\n",
    "  group_by(hour) %>%\n",
    "  summarize(arr_delay = mean(arr_delay, na.rm = TRUE)) %>%\n",
    "  arrange(arr_delay)\n",
    "\n",
    "```\n"
   ]
  },
  {
   "cell_type": "code",
   "execution_count": null,
   "id": "6eee99bc",
   "metadata": {},
   "outputs": [],
   "source": []
  },
  {
   "cell_type": "markdown",
   "id": "ef1f3450",
   "metadata": {},
   "source": [
    "*  Look at the number of cancelled flights per day. Is there a pattern? Is the proportion of cancelled flights related to the average delay?\n",
    "\n",
    "```r\n",
    "cancelled_per_day <- \n",
    "  flights %>%\n",
    "  mutate(cancelled = (is.na(arr_delay) & is.na(dep_delay))) %>%\n",
    "  group_by(year, month, day) %>%\n",
    "  summarize(\n",
    "    cancelled_num = sum(cancelled),\n",
    "    flights_num = n(),\n",
    "  )\n",
    "\n",
    "\n",
    "ggplot(cancelled_per_day) +\n",
    "  geom_point(aes(x = flights_num, y = cancelled_num)) \n",
    "```"
   ]
  },
  {
   "cell_type": "code",
   "execution_count": null,
   "id": "b2917aad",
   "metadata": {},
   "outputs": [],
   "source": []
  },
  {
   "cell_type": "markdown",
   "id": "b657c9e0",
   "metadata": {},
   "source": [
    "```r\n",
    "cancelled_and_delays <- \n",
    "  flights %>%\n",
    "  mutate(cancelled = (is.na(arr_delay) & is.na(dep_delay))) %>%\n",
    "  group_by(year, month, day) %>%\n",
    "  summarize(\n",
    "    cancelled_prop = mean(cancelled),\n",
    "    avg_dep_delay = mean(dep_delay, na.rm = TRUE),\n",
    "    avg_arr_delay = mean(arr_delay, na.rm = TRUE)\n",
    "  )\n",
    "\n",
    "\n",
    "ggplot(cancelled_and_delays) +\n",
    "  geom_point(aes(x = avg_dep_delay, y = cancelled_prop))\n",
    "```\n"
   ]
  },
  {
   "cell_type": "code",
   "execution_count": null,
   "id": "92f2012c",
   "metadata": {},
   "outputs": [],
   "source": []
  },
  {
   "cell_type": "markdown",
   "id": "6d1a5c85",
   "metadata": {},
   "source": [
    "* Find all destinations that are flown by at least two carriers. Use that information to rank the carriers.\n",
    "\n",
    "```r\n",
    "flights %>% summarize(n_distinct(dest))\n",
    "\n",
    "flights %>%\n",
    "   # find all airports with > 1 carrier\n",
    "   group_by(dest) %>%\n",
    "   mutate(n_carriers = n_distinct(carrier)) %>%\n",
    "   filter(n_carriers > 1) %>%\n",
    "   # rank carriers by numer of destinations\n",
    "   group_by(carrier) %>%\n",
    "   summarize(n_dest = n_distinct(dest)) %>%\n",
    "   arrange(desc(n_dest))\n",
    "\n",
    "\n",
    "flights %>%\n",
    "  # rank carriers by numer of destinations\n",
    "  group_by(carrier) %>%\n",
    "  summarize(n_dest = n_distinct(dest)) %>%\n",
    "  arrange(desc(n_dest))\n",
    "\n",
    "airlines %>% filter(carrier %in% c(\"EV\",\"9E\",\"UA\"))\n",
    "\n",
    "```"
   ]
  },
  {
   "cell_type": "code",
   "execution_count": null,
   "id": "40d26d22",
   "metadata": {},
   "outputs": [],
   "source": []
  }
 ],
 "metadata": {
  "kernelspec": {
   "display_name": "R",
   "language": "R",
   "name": "ir"
  },
  "language_info": {
   "codemirror_mode": "r",
   "file_extension": ".r",
   "mimetype": "text/x-r-source",
   "name": "R",
   "pygments_lexer": "r",
   "version": "3.6.2"
  }
 },
 "nbformat": 4,
 "nbformat_minor": 5
}
