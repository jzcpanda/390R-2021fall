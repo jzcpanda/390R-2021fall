{
 "cells": [
  {
   "cell_type": "markdown",
   "id": "f31b75ef",
   "metadata": {},
   "source": [
    "<img src=\"./figures/modeling/modelintro.jpg\" alt=\"ds\" style=\"width: 750px;\"/>\n",
    "<img src=\"./figures/modeling/ex1.jpg\" alt=\"ds\" style=\"width: 750px;\"/>\n",
    "<img src=\"./figures/modeling/ex2.jpg\" alt=\"ds\" style=\"width: 750px;\"/>\n",
    "<img src=\"./figures/modeling/lm_compare.jpg\" alt=\"ds\" style=\"width: 750px;\"/>\n",
    "<img src=\"./figures/modeling/modellist.jpg\" alt=\"ds\" style=\"width: 750px;\"/>"
   ]
  },
  {
   "cell_type": "markdown",
   "id": "793fa5db",
   "metadata": {},
   "source": [
    "We will use the `wages` data posted on moodle. Import it using `read_excel()`in `readxl` package"
   ]
  },
  {
   "cell_type": "code",
   "execution_count": 5,
   "id": "6f06eecb",
   "metadata": {},
   "outputs": [
    {
     "data": {
      "text/html": [
       "<table class=\"dataframe\">\n",
       "<caption>A tibble: 6 × 8</caption>\n",
       "<thead>\n",
       "\t<tr><th scope=col>income</th><th scope=col>height</th><th scope=col>weight</th><th scope=col>age</th><th scope=col>marital</th><th scope=col>sex</th><th scope=col>education</th><th scope=col>afqt</th></tr>\n",
       "\t<tr><th scope=col>&lt;dbl&gt;</th><th scope=col>&lt;dbl&gt;</th><th scope=col>&lt;dbl&gt;</th><th scope=col>&lt;dbl&gt;</th><th scope=col>&lt;chr&gt;</th><th scope=col>&lt;chr&gt;</th><th scope=col>&lt;dbl&gt;</th><th scope=col>&lt;dbl&gt;</th></tr>\n",
       "</thead>\n",
       "<tbody>\n",
       "\t<tr><td> 19000</td><td>60</td><td>155</td><td>53</td><td>married </td><td>female</td><td>13</td><td> 6.841</td></tr>\n",
       "\t<tr><td> 35000</td><td>70</td><td>156</td><td>51</td><td>married </td><td>female</td><td>10</td><td>49.444</td></tr>\n",
       "\t<tr><td>105000</td><td>65</td><td>195</td><td>52</td><td>married </td><td>male  </td><td>16</td><td>99.393</td></tr>\n",
       "\t<tr><td> 40000</td><td>63</td><td>197</td><td>54</td><td>married </td><td>female</td><td>14</td><td>44.022</td></tr>\n",
       "\t<tr><td> 75000</td><td>66</td><td>190</td><td>49</td><td>married </td><td>male  </td><td>14</td><td>59.683</td></tr>\n",
       "\t<tr><td>102000</td><td>68</td><td>200</td><td>49</td><td>divorced</td><td>female</td><td>18</td><td>98.798</td></tr>\n",
       "</tbody>\n",
       "</table>\n"
      ],
      "text/latex": [
       "A tibble: 6 × 8\n",
       "\\begin{tabular}{llllllll}\n",
       " income & height & weight & age & marital & sex & education & afqt\\\\\n",
       " <dbl> & <dbl> & <dbl> & <dbl> & <chr> & <chr> & <dbl> & <dbl>\\\\\n",
       "\\hline\n",
       "\t  19000 & 60 & 155 & 53 & married  & female & 13 &  6.841\\\\\n",
       "\t  35000 & 70 & 156 & 51 & married  & female & 10 & 49.444\\\\\n",
       "\t 105000 & 65 & 195 & 52 & married  & male   & 16 & 99.393\\\\\n",
       "\t  40000 & 63 & 197 & 54 & married  & female & 14 & 44.022\\\\\n",
       "\t  75000 & 66 & 190 & 49 & married  & male   & 14 & 59.683\\\\\n",
       "\t 102000 & 68 & 200 & 49 & divorced & female & 18 & 98.798\\\\\n",
       "\\end{tabular}\n"
      ],
      "text/markdown": [
       "\n",
       "A tibble: 6 × 8\n",
       "\n",
       "| income &lt;dbl&gt; | height &lt;dbl&gt; | weight &lt;dbl&gt; | age &lt;dbl&gt; | marital &lt;chr&gt; | sex &lt;chr&gt; | education &lt;dbl&gt; | afqt &lt;dbl&gt; |\n",
       "|---|---|---|---|---|---|---|---|\n",
       "|  19000 | 60 | 155 | 53 | married  | female | 13 |  6.841 |\n",
       "|  35000 | 70 | 156 | 51 | married  | female | 10 | 49.444 |\n",
       "| 105000 | 65 | 195 | 52 | married  | male   | 16 | 99.393 |\n",
       "|  40000 | 63 | 197 | 54 | married  | female | 14 | 44.022 |\n",
       "|  75000 | 66 | 190 | 49 | married  | male   | 14 | 59.683 |\n",
       "| 102000 | 68 | 200 | 49 | divorced | female | 18 | 98.798 |\n",
       "\n"
      ],
      "text/plain": [
       "  income height weight age marital  sex    education afqt  \n",
       "1  19000 60     155    53  married  female 13         6.841\n",
       "2  35000 70     156    51  married  female 10        49.444\n",
       "3 105000 65     195    52  married  male   16        99.393\n",
       "4  40000 63     197    54  married  female 14        44.022\n",
       "5  75000 66     190    49  married  male   14        59.683\n",
       "6 102000 68     200    49  divorced female 18        98.798"
      ]
     },
     "metadata": {},
     "output_type": "display_data"
    }
   ],
   "source": [
    "library(readxl)\n",
    "wages <- read_excel(\"./data/wages.xlsx\",na=\"NA\")\n",
    "head(wages)"
   ]
  },
  {
   "cell_type": "markdown",
   "id": "6881c819",
   "metadata": {},
   "source": [
    "```{r}\n",
    "wages %>% \n",
    "  ggplot(aes(log(income))) + geom_histogram(binwidth = 0.25)\n",
    "```"
   ]
  },
  {
   "cell_type": "code",
   "execution_count": null,
   "id": "bc6cd578",
   "metadata": {},
   "outputs": [],
   "source": []
  },
  {
   "cell_type": "markdown",
   "id": "3f538055",
   "metadata": {},
   "source": [
    "# Linear regression \n",
    "\n",
    "When people are carrying out linear regression, they are looking to better understand the relationship between two variables (dependent variable `y` and independent variable `x`). When looking at this relationship, analysts are specifically asking “What is the association between these two variables?” Association between variables describes the trend in the relationship (positive, neutral, or negative) and the strength of that relationship (how correlated the two variables are).\n",
    "\n",
    "\n",
    "\n",
    "##  Estimation\n",
    "Before running linear regression, it is always good to plot a scatterplot see whether the two variables have a linear relationship.\n",
    "<img src=\"./figures/modeling/lm_linearity.jpg\" alt=\"ds\" style=\"width: 750px;\"/>\n",
    "\n",
    "We use ordinary least squares to estimate the slope and the intercept of the best-fit line. The estimates minimize the sum of the residuals for all the observed data points.\n",
    "\n",
    "<img src=\"./figures/modeling/lm_residual.jpg\" alt=\"ds\" style=\"width: 750px;\"/>\n",
    "<img src=\"./figures/modeling/ex4.jpg\" alt=\"ds\" style=\"width: 750px;\"/>\n",
    "\n",
    "You can use `lm()` to run a linear regression in R.\n",
    "\n",
    "<img src=\"./figures/modeling/lm.jpg\" alt=\"ds\" style=\"width: 750px;\"/>\n",
    "\n",
    "\n",
    "Formula only needs to include the response (variable on the y axis) and predictors (variable on the x-axis).\n",
    "<img src=\"./figures/modeling/formula.jpg\" alt=\"ds\" style=\"width: 750px;\"/>\n",
    "<img src=\"./figures/modeling/lmoutput.jpg\" alt=\"ds\" style=\"width: 750px;\"/>\n",
    "```r\n",
    "mod_e <- wages %>% lm(log(income)~ education, data=.)\n",
    "```"
   ]
  },
  {
   "cell_type": "code",
   "execution_count": null,
   "id": "c7553251",
   "metadata": {},
   "outputs": [],
   "source": []
  },
  {
   "cell_type": "markdown",
   "id": "b895b4eb",
   "metadata": {},
   "source": [
    "The slope determines the direction and strength of the relationship between the two variables. It is the change in the number of units of the dependent variable associated with an increase of 1 unit of the independent variable.\n",
    "\n",
    "A slope of zero suggests there is no association between the two variables. However, if the slope value is positive, then the relationship is positive. If the slope is negative, then the relationship is negative. \n",
    "\n",
    "## Model diagnostics\n",
    "\n",
    "After fitting a model, it’s necessary to check the model to see if the model  fits the data well.\n",
    "You can use the functions in `broom` package  to assess your model. \n",
    "\n",
    "\n",
    "\n",
    "\n",
    "\n",
    "The standard error determines how uncertain the  estimates are. The larger the standard error, the more uncertain we are in the estimate. \n",
    "Standard errors characterize how well the best-fitting line models the data. The closer the points are to the line, the lower the standard error will be, reflecting our decreased uncertainty. \n",
    "\n",
    "<img src=\"./figures/modeling/lm_strong.jpg\" alt=\"ds\" style=\"width: 750px;\"/>\n",
    "\n",
    "The p-value is a single number that takes into account both the estimate and the uncertainty in that estimate. \n",
    "The general interpretation of a p-value is “the probability of getting the observed results (or results more extreme) by chance alone.”  For example, a p-value of 0.05, means that 5 percent of the time (or 1 in 20), you’d observe results this extreme simply by chance.\n",
    "The lower a p-value. the more significant the association is between two variables. However, while it is a simple value, it doesn’t tell you nearly as much information as reporting the estimates and standard errors directly. Thus, if you’re reporting p-values, it’s best to also include the estimate and standard errors as well.\n",
    "\n",
    "When carrying out inferential data analysis, you will always want to report an estimate and a measure of uncertainty. For linear regression, this will be the slope estimate and the corresponding standard error.\n",
    "\n",
    "\n",
    " `tidy()` returns model coefficients standard errors and the p-values for each parameter. It tells you what uncertainty is associated with each parameter in the model (intercept and slop)?  \n",
    "\n",
    "\n",
    "```r\n",
    "mod_e %>% tidy()\n",
    "```"
   ]
  },
  {
   "cell_type": "code",
   "execution_count": null,
   "id": "6598f5ec",
   "metadata": {},
   "outputs": [],
   "source": []
  },
  {
   "cell_type": "markdown",
   "id": "f0c53e5d",
   "metadata": {},
   "source": [
    "`glance()`  returns model diagnostics. It tells you whether linear model is good for descrbing the relationship between the two variables.\n",
    "\n",
    "\n",
    "```r\n",
    "mod_e %>% glance()\n",
    "\n",
    "```"
   ]
  },
  {
   "cell_type": "code",
   "execution_count": null,
   "id": "9d5f1c20",
   "metadata": {},
   "outputs": [],
   "source": []
  },
  {
   "cell_type": "markdown",
   "id": "1a0b29d8",
   "metadata": {},
   "source": [
    "`augment()` returns predictions, residuals, and other raw values  \n",
    "```r\n",
    "mod_e %>% augment()\n",
    "```\n"
   ]
  },
  {
   "cell_type": "code",
   "execution_count": null,
   "id": "a3d3017c",
   "metadata": {},
   "outputs": [],
   "source": []
  },
  {
   "cell_type": "markdown",
   "id": "deb2182b",
   "metadata": {},
   "source": [
    "##  Association is not causation\n",
    "The regression only gives the association between the variables. Always keep this in mind that never draw causal claims when all you have are associations.\n",
    "\n",
    "Here is an example.\n",
    "We are interested in understanding the relationship between shoe size and literacy.\n",
    "We can  look at this for the kids and adults. Kids wear small shoes and are not literate and  adults  wear big shoes and is literate. We will find a strong positive relationship between the shoe size and literacy. But this is not causal relationship; we cannot say that if we increase one's shoe size, they will become literate. \n",
    "Based on our knowledge, there shouldn't be any causal relationship between the two variables. Their association comes from `age`, which is positively associated with both shoe size and literacy.\n",
    "Such variables are called confounders.\n",
    "\n",
    "Any time you have a variable that affects both your dependent and independent variables, it’s a confounder. Ignoring confounders is not appropriate when you want to know the causal relationship between two variables. There is a recently very hot field, causal inference, focusing on how to draw causal inference from associations.\n",
    "<img src=\"./figures/modeling/confounding.jpg\" alt=\"ds\" style=\"width: 750px;\"/>"
   ]
  },
  {
   "cell_type": "markdown",
   "id": "db5559db",
   "metadata": {},
   "source": [
    "# Multivariate regression\n",
    "\n",
    "The multivariate regression is similar to linear regression, except that it accommodates for multiple independent variables.  It finds the relationship between the dependent variable and each independent variable, while controlling for all other variables.\n",
    "\n",
    "```r\n",
    "mod_eh <- wages %>% \n",
    "  lm(log(income) ~ education + height, data = .)\n",
    "mod_eh %>% tidy()\n",
    "```\n",
    "The coefficient is the change in the number of units of the dependent variable associated with an increase of 1 unit of the independent variable, controlling for the other independent variables."
   ]
  },
  {
   "cell_type": "code",
   "execution_count": null,
   "id": "2e311e93",
   "metadata": {},
   "outputs": [],
   "source": []
  },
  {
   "cell_type": "markdown",
   "id": "d4ba4337",
   "metadata": {},
   "source": [
    "## Your turn\n",
    "* Model log(income) on education, height, and sex. Can you interpret the coefficients?\n",
    "<!--```{r echo=FALSE,eval=FALSE}\n",
    "mod_ehs <- wages %>% \n",
    "  lm(log(income) ~ education + height+sex, data = .)\n",
    "mod_ehs %>% tidy()\n",
    "```-->\n"
   ]
  },
  {
   "cell_type": "code",
   "execution_count": null,
   "id": "1c4b5a5d",
   "metadata": {},
   "outputs": [],
   "source": []
  },
  {
   "cell_type": "markdown",
   "id": "25749d56",
   "metadata": {},
   "source": [
    "<img src=\"./figures/modeling/lmfactorsex.jpg\" alt=\"ds\" style=\"width: 750px;\"/>"
   ]
  },
  {
   "cell_type": "markdown",
   "id": "0131966b",
   "metadata": {},
   "source": [
    "# Model visualization\n",
    "<img src=\"./figures/modeling/smooth.jpg\" alt=\"ds\" style=\"width: 750px;\"/>\n",
    "\n",
    "\n",
    "```r\n",
    "wages %>%\n",
    "  ggplot(aes(x = height, y = log(income))) +\n",
    "    geom_point(alpha = 0.1) +\n",
    "    geom_smooth(method = lm)\n",
    "\n",
    "wages %>%\n",
    "  ggplot(aes(x = height, y = log(income))) +\n",
    "    geom_point(alpha = 0.1) +\n",
    "    geom_smooth(method = loess)\n",
    "```"
   ]
  },
  {
   "cell_type": "code",
   "execution_count": null,
   "id": "22a780e2",
   "metadata": {},
   "outputs": [],
   "source": []
  }
 ],
 "metadata": {
  "kernelspec": {
   "display_name": "R",
   "language": "R",
   "name": "ir"
  },
  "language_info": {
   "codemirror_mode": "r",
   "file_extension": ".r",
   "mimetype": "text/x-r-source",
   "name": "R",
   "pygments_lexer": "r",
   "version": "3.6.2"
  }
 },
 "nbformat": 4,
 "nbformat_minor": 5
}
