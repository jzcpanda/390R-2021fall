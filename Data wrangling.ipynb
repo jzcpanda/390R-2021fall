{
 "cells": [
  {
   "cell_type": "markdown",
   "id": "92287003",
   "metadata": {},
   "source": [
    "Typically you have many tables of data, and you need to combine them to answer the questions that you’re interested in. Collectively, multiple tables of data are called relational data because it is the relations, not just the individual datasets, that are important.\n",
    "\n",
    "Relations are always defined between a pair of tables. The relations of three or more tables are always a property of the relations between each pair. The figure below shows the relations among the five datasets in `nycflights13` package.\n",
    "\n",
    "<img src=\"./figures/transformation/flight_structure.jpg\" alt=\"ds\" style=\"width: 750px;\"/>\n",
    "To work with relational data you need verbs that work with pairs of tables. There are three families of verbs designed to work with relational data:\n",
    "\n",
    "* **Mutating joins**, which add new variables to one data frame from matching observations in another.\n",
    "\n",
    "* **Filtering joins**, which filter observations from one data frame based on whether or not they match an observation in the other table.\n",
    "\n",
    "* **Set operations**, which treat observations as if they were set elements.\n",
    "\n",
    "\n",
    "\n",
    "\n",
    "\n",
    "\n",
    "\n",
    "# Toy example\n",
    "\n",
    "\n",
    "```r\n",
    "band <- tribble(\n",
    "   ~name,   ~band,  \n",
    "  \"Mick\", \"Stones\",\n",
    "  \"John\", \"Beetles\",\n",
    "  \"Paul\", \"Beetles\"\n",
    ")\n",
    "\n",
    "instrument <- tribble(\n",
    "  ~name, ~plays,\n",
    "  \"John\", \"guitar\",\n",
    "  \"Paul\", \"bass\",\n",
    "  \"Keith\", \"guitar\"\n",
    ")\n",
    "```\n",
    "\n",
    "<img src=\"./figures/transformation/toy1.jpg\" alt=\"ds\" style=\"width: 750px;\"/>\n"
   ]
  },
  {
   "cell_type": "code",
   "execution_count": null,
   "id": "ddae0253",
   "metadata": {},
   "outputs": [],
   "source": []
  },
  {
   "cell_type": "markdown",
   "id": "da9aa463",
   "metadata": {},
   "source": [
    "# Join\n",
    "\n",
    "## Mutating join\n",
    "\n",
    "```r\n",
    "left_join(band,instrument, by =\"name\")\n",
    "right_join(band,instrument, by =\"name\")\n",
    "inner_join(band,instrument, by =\"name\")\n",
    "full_join(band,instrument, by =\"name\")\n",
    "```\n"
   ]
  },
  {
   "cell_type": "code",
   "execution_count": null,
   "id": "8435ed25",
   "metadata": {},
   "outputs": [],
   "source": []
  },
  {
   "cell_type": "markdown",
   "id": "1d7aab91",
   "metadata": {},
   "source": [
    "## Your turn\n",
    "* Which airlines had the largest arrival delays (on average)?\n",
    "\n",
    "<!-- ```{r echo=FALSE,eval=FALSE}\n",
    "flights %>% \n",
    "  filter(!is.na(arr_delay)) %>%\n",
    "  left_join(airlines, by = \"carrier\") %>%\n",
    "  group_by(name) %>%\n",
    "  summarize(delay = mean(arr_delay)) %>%\n",
    "  arrange(desc(delay))\n",
    "\n",
    "\n",
    "# alternative way\n",
    "flights %>% \n",
    "  filter(!is.na(arr_delay)) %>% \n",
    "  group_by(carrier) %>% \n",
    "  summarize(delay = mean(arr_delay)) %>% \n",
    "  left_join(airlines, by=\"carrier\") %>% \n",
    "    arrange(desc(delay))\n",
    "``` -->\n",
    "\n",
    "\n",
    "## Different variable names\n",
    "```r\n",
    "band <- tribble(\n",
    "   ~name,   ~band,  \n",
    "  \"Mick\", \"Stones\",\n",
    "  \"John\", \"Beetles\",\n",
    "  \"Paul\", \"Beetles\"\n",
    ")\n",
    "\n",
    "instrument2 <- tribble(\n",
    "  ~artist, ~plays,\n",
    "  \"John\", \"guitar\",\n",
    "  \"Paul\", \"bass\",\n",
    "  \"Keith\", \"guitar\"\n",
    ")\n",
    "```\n",
    "\n",
    "```r\n",
    "left_join(band,instrument2, by = c(\"name\" = \"artist\" ))\n",
    "```"
   ]
  },
  {
   "cell_type": "code",
   "execution_count": null,
   "id": "817c463a",
   "metadata": {},
   "outputs": [],
   "source": []
  },
  {
   "cell_type": "markdown",
   "id": "2ecf4169",
   "metadata": {},
   "source": [
    "## Your turn\n",
    "* We can investigate the relationship between distance and the delay.\n",
    "Join `flights` and `airports` by `dest` and `faa`. \n",
    "Then for each name, compute the distance from NYC and the average arr_delay. (use `first()` to get the first value of distance.)\n",
    "Order by average delay, worst to best.\n",
    "\n",
    "<!--```{r echo=FALSE,eval=FALSE}\n",
    "flights %>% \n",
    "  filter(!is.na(arr_delay)) %>%\n",
    "  left_join(airports, by = c(\"dest\" = \"faa\")) %>%\n",
    "  group_by(name) %>%\n",
    "  summarize(distance = first(distance), delay = mean(arr_delay)) %>%\n",
    "  arrange(desc(delay))\n",
    "```-->\n",
    "\n",
    "\n",
    "\n",
    "<!-- ```{r echo=FALSE,eval=FALSE}\n",
    "flights %>% \n",
    "  filter(!is.na(arr_delay)) %>%\n",
    "  left_join(airports, by = c(\"dest\" = \"faa\")) %>%\n",
    "  group_by(name,origin) %>%\n",
    "  summarize(distance = first(distance), delay = mean(arr_delay)) %>%\n",
    "  arrange(desc(delay)) %>% \n",
    "  filter(name == \"Columbia Metropolitan\")\n",
    "```  -->\n"
   ]
  },
  {
   "cell_type": "code",
   "execution_count": null,
   "id": "1aace733",
   "metadata": {},
   "outputs": [],
   "source": []
  },
  {
   "cell_type": "markdown",
   "id": "e607dc0d",
   "metadata": {},
   "source": [
    "## Filtering joins\n",
    "\n",
    "```r\n",
    "semi_join(band,instrument, by =\"name\")\n",
    "anti_join(band,instrument, by =\"name\")\n",
    "```"
   ]
  },
  {
   "cell_type": "code",
   "execution_count": null,
   "id": "4af4429e",
   "metadata": {},
   "outputs": [],
   "source": []
  },
  {
   "cell_type": "markdown",
   "id": "325338e3",
   "metadata": {},
   "source": [
    "## Your turn\n",
    "*  How many airports can you fly to direct from New York?\n",
    "Notice that the column to filter on is named `faa` in the airports dataset and `dest` in the flights dataset.)\n",
    "\n",
    "<!--```{r echo=FALSE,eval=FALSE}\n",
    "airports %>%\n",
    "  semi_join(flights, by = c(\"faa\" = \"dest\")) %>%\n",
    "  select(faa,name)\n",
    "```-->"
   ]
  },
  {
   "cell_type": "code",
   "execution_count": null,
   "id": "55788329",
   "metadata": {},
   "outputs": [],
   "source": []
  },
  {
   "cell_type": "markdown",
   "id": "cfd02f26",
   "metadata": {},
   "source": [
    "<img src=\"./figures/transformation/summary_join.jpg\" alt=\"ds\" style=\"width: 750px;\"/>"
   ]
  },
  {
   "cell_type": "markdown",
   "id": "1ed8bd56",
   "metadata": {},
   "source": [
    "# Tidy data\n",
    "\n",
    "\n",
    "```r\n",
    "table1\n",
    "table2\n",
    "table3\n",
    "table4a\n",
    "table4b\n",
    "table5\n",
    "```\n",
    "\n",
    "## `gather()`\n",
    "\n",
    "```r\n",
    "cases <- tribble(\n",
    "  ~country, ~\"2011\", ~\"2012\",~\"2013\",\n",
    "  \"FR\",  7000, 6900, 7000,\n",
    "  \"DE\",  5800, 6000, 6200,\n",
    "  \"US\", 15000,14000,13000\n",
    ")\n",
    "```\n",
    "\n",
    "<img src=\"./figures/transformation/gather1.jpg\" alt=\"ds\" style=\"width: 750px;\"/>\n",
    "\n",
    "```r\n",
    "cases %>% gather(key = \"year\", value = \"n\", 2:4)\n",
    "```\n",
    "\n",
    "<img src=\"./figures/transformation/gather2.jpg\" alt=\"ds\" style=\"width: 750px;\"/>\n",
    "\n",
    "We can use a simlar syntax for selecting the columns.\n",
    "```r\n",
    "cases %>% gather(key = \"year\", value = \"n\", \"2011\",\"2012\",\"2013\")\n",
    "cases %>% gather(key = \"year\", value = \"n\", -1)\n",
    "cases %>% gather(key = \"year\", value = \"n\", -country)\n",
    "cases %>% gather(key = \"year\", value = \"n\", starts_with(\"2\"))\n",
    "```"
   ]
  },
  {
   "cell_type": "code",
   "execution_count": null,
   "id": "4e133076",
   "metadata": {},
   "outputs": [],
   "source": []
  },
  {
   "cell_type": "markdown",
   "id": "ab5dbbd2",
   "metadata": {},
   "source": [
    "## Your turn\n",
    "* Use `gather()` to reorganize table4a into three columns: `country`, `year`, and `cases`.\n",
    "<!-- ```{r echo=FALSE,eval=FALSE}\n",
    "table4a %>% gather(key = \"year\", value = \"cases\",2,3, convert= TRUE)\n",
    "``` -->\n"
   ]
  },
  {
   "cell_type": "code",
   "execution_count": null,
   "id": "e5bddccc",
   "metadata": {},
   "outputs": [],
   "source": []
  },
  {
   "cell_type": "markdown",
   "id": "ec6f1651",
   "metadata": {},
   "source": [
    "## `spread()`\n",
    "\n",
    "```r\n",
    "pollution <- tribble(\n",
    "  ~city,   ~size, ~amount, \n",
    "  \"New York\", \"large\",     23,\n",
    "  \"New York\", \"small\",     14,\n",
    "  \"London\", \"large\",       22,\n",
    "  \"London\", \"small\",       16,\n",
    "  \"Beijing\", \"large\",      121,\n",
    "  \"Beijing\", \"small\",      56\n",
    ")\n",
    "```\n",
    "\n",
    "<img src=\"./figures/transformation/spread1.jpg\" alt=\"ds\" style=\"width: 750px;\"/>\n",
    "\n",
    "```r\n",
    "pollution %>% spread(key = size, value = amount)\n",
    "```\n",
    "\n",
    "<img src=\"./figures/transformation/spread2.jpg\" alt=\"ds\" style=\"width: 750px;\"/>"
   ]
  },
  {
   "cell_type": "code",
   "execution_count": null,
   "id": "4c5e1a88",
   "metadata": {},
   "outputs": [],
   "source": []
  },
  {
   "cell_type": "markdown",
   "id": "f403aa9c",
   "metadata": {},
   "source": [
    "## Your turn\n",
    "* Use `spread()` to reorganize table2 into four columns: `country`, `year`, `cases`, and `population`.\n",
    "<!--```{r echo=FALSE,eval=FALSE}\n",
    "table2 %>% spread(key = type, value = count)\n",
    "```   -->\n"
   ]
  },
  {
   "cell_type": "code",
   "execution_count": null,
   "id": "b1646d27",
   "metadata": {},
   "outputs": [],
   "source": []
  },
  {
   "cell_type": "markdown",
   "id": "64f9133e",
   "metadata": {},
   "source": [
    "## `who` data\n",
    "The data contain\n",
    "tuberculosis (TB) cases broken down by year, country, age, gender, and diagnosis method from the 2014 World Health Organization Global Tuberculosis Report\n",
    "\n",
    "`country`, `iso2`, `iso3` - country identifiers\n",
    "\n",
    "`year` - year\n",
    "\n",
    "other columns names - encode type of TB case, sex, and age\n",
    "\n",
    "<img src=\"./figures/transformation/whocode.jpg\" alt=\"ds\" style=\"width: 750px;\"/>\n",
    "\n",
    "```r\n",
    "# To avoid a distracting detail during class\n",
    "names(who) <- str_replace(names(who), \"newrel\", \"new_rel\")\n",
    "```"
   ]
  },
  {
   "cell_type": "code",
   "execution_count": null,
   "id": "238021bd",
   "metadata": {},
   "outputs": [],
   "source": []
  },
  {
   "cell_type": "markdown",
   "id": "faa77d99",
   "metadata": {},
   "source": [
    "### Your turn\n",
    "* Confirm that iso2 and iso3 were redundant with country (Hint: if `iso2` and `iso3` are redundant with country, then, within each country, there should only be one distinct combination of `iso2` and `iso3` values.)\n",
    "\n",
    "<!--```{r echo=FALSE,eval=FALSE}\n",
    "who %>% \n",
    "  group_by(country) %>% \n",
    "  summarize(n_iso = n_distinct(iso2,iso3) ) %>% \n",
    "  filter( n_iso !=1 )\n",
    "``` -->\n",
    "\n",
    "\n",
    "* Gather the 5th through 60th columns of who into a pair of `key:value` columns named codes and n.\n",
    "Then select just the `country`, `year`, `codes` and `n` variables.\n",
    "\n",
    "<!--```{r echo=FALSE,eval=FALSE}\n",
    "who %>% gather(codes,n, 5:60) %>% \n",
    "  select(-iso2,-iso3)\n",
    "```-->\n"
   ]
  },
  {
   "cell_type": "code",
   "execution_count": null,
   "id": "73fdbf93",
   "metadata": {},
   "outputs": [],
   "source": []
  },
  {
   "cell_type": "markdown",
   "id": "cdb408d9",
   "metadata": {},
   "source": [
    "## `separate`\n",
    "\n",
    "```r\n",
    "who %>% gather(codes,n, 5:60) %>% \n",
    "  select(-iso2,-iso3) %>% \n",
    "  separate(codes,into = c(\"new\", \"type\", \"sexage\"), sep = \"_\")\n",
    "```\n"
   ]
  },
  {
   "cell_type": "code",
   "execution_count": null,
   "id": "c615c0ec",
   "metadata": {},
   "outputs": [],
   "source": []
  },
  {
   "cell_type": "markdown",
   "id": "844fd869",
   "metadata": {},
   "source": [
    "### Your turn\n",
    "* Separate the sexage column into sex and age columns.\n",
    "<!--```{r echo=FALSE,eval=FALSE}\n",
    "who %>% gather(codes,n, 5:60) %>% \n",
    "  select(-iso2,-iso3) %>% \n",
    "  separate(codes,into = c(\"new\", \"type\", \"sexage\"), sep = \"_\") %>% \n",
    "  select(-new) %>% \n",
    "  separate(sexage,into = c(\"sex\",\"age\"), sep = 1,convert = TRUE)\n",
    "```-->\n",
    "\n",
    "\n",
    "* Calculate rate (in numeric) in `table3`\n",
    "\n",
    "<!--```{r echo=FALSE,eval=FALSE}\n",
    "table3 %>% \n",
    "  separate(rate,into = c(\"case\",\"population\"),sep=\"/\",convert=TRUE) %>% \n",
    "  mutate(rate = case/population)\n",
    "```-->\n"
   ]
  },
  {
   "cell_type": "code",
   "execution_count": null,
   "id": "8fba26f9",
   "metadata": {},
   "outputs": [],
   "source": []
  },
  {
   "cell_type": "markdown",
   "id": "5f04a318",
   "metadata": {},
   "source": [
    "## `unite()`\n",
    "Unites columns into single column by combining cells.\n",
    "<img src=\"./figures/transformation/unite.jpg\" alt=\"ds\" style=\"width: 750px;\"/>\n",
    "\n",
    "```r\n",
    "who %>%\n",
    "  gather(\"codes\", \"n\", 5:60) %>%\n",
    "  select(-iso2, -iso3) %>%\n",
    "  separate(codes, c(\"new\", \"type\", \"sexage\"), sep = \"_\") %>%\n",
    "  select(-new) %>%\n",
    "  separate(sexage, into = c(\"sex\", \"age\"), sep = 1,convert=TRUE) %>%\n",
    "  unite(\"sexage2\", sex, age, sep = \"-\")\n",
    "```\n",
    "\n"
   ]
  },
  {
   "cell_type": "code",
   "execution_count": null,
   "id": "03bdc646",
   "metadata": {},
   "outputs": [],
   "source": []
  },
  {
   "cell_type": "markdown",
   "id": "bd0dbe3c",
   "metadata": {},
   "source": [
    "## Reshaping\n",
    "Can we calculate the yearly percent of boys (or girls), i.e., male/(male+female)*100?\n",
    "\n",
    "```r\n",
    "babynames %>%\n",
    "  group_by(year, sex) %>% \n",
    "  summarize(n = sum(n))\n",
    "```"
   ]
  },
  {
   "cell_type": "code",
   "execution_count": null,
   "id": "21952788",
   "metadata": {},
   "outputs": [],
   "source": []
  },
  {
   "cell_type": "markdown",
   "id": "49b544e3",
   "metadata": {},
   "source": [
    "### Your turn\n",
    "\n",
    "* Extend this code to reshape the data. Calculate the percent of male (or female) children by year. Then plot the percent over time.\n",
    "<!--```{r eval=FALSE}\n",
    "babynames %>%\n",
    "  group_by(year, sex) %>% \n",
    "  summarize(n = sum(n))\n",
    "```-->\n",
    "\n",
    "<!--```{r echo=FALSE,eval=FALSE}\n",
    "babynames %>%\n",
    "  group_by(year, sex) %>% \n",
    "  summarize(n = sum(n)) %>% \n",
    "  spread(key = sex, value = n) %>% \n",
    "  mutate(percent = M/(F+M)*100) %>% \n",
    "  ggplot()+\n",
    "  geom_line(aes(x = year, y = percent))\n",
    "```-->\n"
   ]
  },
  {
   "cell_type": "code",
   "execution_count": null,
   "id": "a3bf2c8f",
   "metadata": {},
   "outputs": [],
   "source": []
  }
 ],
 "metadata": {
  "kernelspec": {
   "display_name": "R",
   "language": "R",
   "name": "ir"
  },
  "language_info": {
   "codemirror_mode": "r",
   "file_extension": ".r",
   "mimetype": "text/x-r-source",
   "name": "R",
   "pygments_lexer": "r",
   "version": "3.6.2"
  }
 },
 "nbformat": 4,
 "nbformat_minor": 5
}
