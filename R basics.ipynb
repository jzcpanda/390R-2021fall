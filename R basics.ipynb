{
 "cells": [
  {
   "cell_type": "markdown",
   "id": "d07b9919",
   "metadata": {},
   "source": [
    "# R and Rstudio\n",
    "\n",
    "To download R, go to CRAN, the comprehensive R archive network. Use the cloud mirror, <https://cloud.r-project.org>, which automatically figures it out for you.\n",
    "\n",
    "RStudio is an integrated development environment, or IDE, for R programming. Download and install it from <http://www.rstudio.com/download>. \n",
    "\n",
    "When you start RStudio, you will see three panes in the interface:\n",
    "<img src=\"./figures/rstudio.jpg\" alt=\"ds\" style=\"width: 750px;\"/>\n",
    "\n",
    "# R Basics\n",
    "\n",
    "* *Console pane*: where you enter your commands\n",
    "* *Running code*: the act of telling R to perform an act by giving it commands in the console\n",
    "* *Objects*: where values are saved in R. \n",
    "\n",
    "## Data types\n",
    "\n",
    "* integers: values like $-1,2,1024$ \n",
    "* doubles: a larger set of values containing both the integers but also fractions and decimal values like $-0.8, 20.15$\n",
    "* logicals: either `TRUE` or `FALSE`\n",
    "* characters/strings： text such as \"cabbage\", “UMass”, \"I am coding in R.\" Characters are often denoted with the quotation marks around them\n",
    "\n",
    "Both integers and doubles are called numerics.\n",
    "You can use `typeof()` to investigate the type of a value.\n",
    "* Factors: categorical data are commonly represented in R as factors. \n",
    "Categorical data can also be represented as strings. For example, \"male\", \"female\"\n",
    "\n",
    "\n",
    "### Your turn\n",
    "* What are the types of \n",
    "```\n",
    "\"1\"  \"one\"   one 1\n",
    "```"
   ]
  },
  {
   "cell_type": "code",
   "execution_count": null,
   "id": "9f97af81",
   "metadata": {},
   "outputs": [],
   "source": []
  },
  {
   "cell_type": "markdown",
   "id": "988395a2",
   "metadata": {},
   "source": [
    " ## Objects\n",
    "Object is where values are saved in R.\n",
    "You can create new objects with `<- `\n",
    "```{r}\n",
    "x <- 3\n",
    "```\n",
    "\n",
    "All R statements where you create objects, assignment statements, have the same form\n",
    "```{r eval=FALSE}\n",
    "object_name <- value\n",
    "```\n",
    "\n",
    "There is a general preference among the R community for using `<-` for assigning values instead of `=`.\n",
    "In R’s syntax the symbol `=` has two distinct meanings that get routinely conflated:\n",
    "\n",
    "1. the first meaning is an assignment operator. This is the same as `<-`\n",
    "\n",
    "2. the second meaning is a syntax token that signals named argument passing in a function call\n",
    "\n",
    "In most cases, `=` will work, but it will cause confusion sometimes. \n",
    "So I recommend using `<-`. You can use RStudio’s shortcut: Alt + - (the minus sign)\n",
    "\n",
    "\n",
    "Object names must start with a letter, and can only contain letters, numbers, `_` and `.`\n",
    "You want your object names to be descriptive, so you need a convention for multiple words. \n",
    "```{r eval=FALSE}\n",
    "some.people.use.dots\n",
    "someUseCamelCase\n",
    "```\n",
    "\n",
    "You can inspect an object by typing its name:\n",
    "```r\n",
    "x\n",
    "```"
   ]
  },
  {
   "cell_type": "code",
   "execution_count": null,
   "id": "fb8bdab4",
   "metadata": {},
   "outputs": [],
   "source": []
  },
  {
   "cell_type": "markdown",
   "id": "2805ab8b",
   "metadata": {},
   "source": [
    " ## Objects\n",
    "Object is where values are saved in R.\n",
    "You can create new objects with `<- `\n",
    "```r\n",
    "x <- 3\n",
    "```\n",
    "\n",
    "All R statements where you create objects, assignment statements, have the same form\n",
    "```r\n",
    "object_name <- value\n",
    "```\n",
    "\n",
    "There is a general preference among the R community for using `<-` for assigning values instead of `=`.\n",
    "In R’s syntax the symbol `=` has two distinct meanings that get routinely conflated:\n",
    "\n",
    "1. the first meaning is an assignment operator. This is the same as `<-`\n",
    "\n",
    "2. the second meaning is a syntax token that signals named argument passing in a function call\n",
    "\n",
    "In most cases, `=` will work, but it will cause confusion sometimes. \n",
    "So I recommend using `<-`. You can use RStudio’s shortcut: Alt + - (the minus sign)\n",
    "\n",
    "\n",
    "Object names must start with a letter, and can only contain letters, numbers, `_` and `.`\n",
    "You want your object names to be descriptive, so you need a convention for multiple words. \n",
    "```{r eval=FALSE}\n",
    "some.people.use.dots\n",
    "someUseCamelCase\n",
    "```\n",
    "\n",
    "You can inspect an object by typing its name:\n",
    "```{r}\n",
    "x\n",
    "```\n",
    "\n",
    "Make another assignment\n",
    "```r\n",
    "this_is_a_long_name <- 2.5\n",
    "```\n",
    "\n",
    "To inspect this object, try out RStudio’s completion facility: type \"this,\" press TAB, add characters until you have a unique prefix, then press return.\n",
    "\n",
    "## Using R as a calculator\n",
    "You can use R as a calculator.\n",
    "```r\n",
    "1/100*20\n",
    "1+2+4\n",
    "pi^2\n",
    "```\n",
    "\n",
    "There are some other operators that are usefull\n",
    "\n",
    "```r\n",
    "100 %/% 30\n",
    "100 %% 30\n",
    "```\n",
    "\n",
    "This is useful for extracting hours and minutes from a time data.\n",
    "```r\n",
    "1350 %/% 100\n",
    "1350 %% 100\n",
    "```\n",
    "### Your turn\n",
    "* Consider the format `hhmm` for the time.\n",
    "How many minutes elasped from `240` to `1530`? ( hint: first calculate the total minutes of `240` and `1530` counted from midnight  )\n"
   ]
  },
  {
   "cell_type": "code",
   "execution_count": null,
   "id": "89e10090",
   "metadata": {},
   "outputs": [],
   "source": []
  },
  {
   "cell_type": "markdown",
   "id": "63e91ab1",
   "metadata": {},
   "source": [
    "## Relational operators\n",
    "\n",
    "Relational operators are used to compare between values.\n",
    "\n",
    "```r\n",
    "1 <  1 \n",
    "1 <= 1\n",
    "1 == 1\n",
    "1 != 1\n",
    "```"
   ]
  },
  {
   "cell_type": "code",
   "execution_count": null,
   "id": "2eac21eb",
   "metadata": {},
   "outputs": [],
   "source": []
  },
  {
   "cell_type": "markdown",
   "id": "1d2015f1",
   "metadata": {},
   "source": [
    "## Logical operators\n",
    "Logical operators are used to carry out Boolean operations like `AND`, `OR`, etc.\n",
    "Zero is considered `FALSE` and non-zero numbers are taken as `TRUE`.\n",
    "\n",
    "```r\n",
    "! 3>2\n",
    "2>1  &  3<2 \n",
    "2>1  |  3<2 \n",
    "```"
   ]
  },
  {
   "cell_type": "code",
   "execution_count": null,
   "id": "830a5487",
   "metadata": {},
   "outputs": [],
   "source": []
  },
  {
   "cell_type": "markdown",
   "id": "e5e4defb",
   "metadata": {},
   "source": [
    "### Your turn\n",
    "* Try the following code. Are you surprised by the result? Think about why.\n",
    "```r\n",
    "sqrt(4)^2 == 4\n",
    "sqrt(2)^2 == 2\n",
    "```"
   ]
  },
  {
   "cell_type": "code",
   "execution_count": null,
   "id": "327f1ea9",
   "metadata": {},
   "outputs": [],
   "source": []
  },
  {
   "cell_type": "markdown",
   "id": "e09c151c",
   "metadata": {},
   "source": [
    "##  Vector\n",
    "* Vectors: a series of values. These are created using the `c()`, where `c()` stands for “combine” or “concatenate.” For example, `c(6, 11, 13, 31, 90, 92)` creates a six element series of integer values.\n",
    "\n",
    "R is very good at dealing with vectors. The arithmetic operators introduced before can all be used for vectors.\n",
    "\n",
    "```r\n",
    "x <- c(1,2,3,4,5)\n",
    "x/2\n",
    "x^2\n",
    "x %% 2\n",
    "2/x\n",
    "```\n",
    "```r\n",
    "y <- c(6,7,8,9,10)\n",
    "x/y\n",
    "x^y\n",
    "```\n",
    "```r\n",
    "c(1,2,3) < c(3,2,1)\n",
    "```"
   ]
  },
  {
   "cell_type": "code",
   "execution_count": null,
   "id": "b56a75f9",
   "metadata": {},
   "outputs": [],
   "source": []
  },
  {
   "cell_type": "markdown",
   "id": "dc89a73c",
   "metadata": {},
   "source": [
    "### Your turn\n",
    "\n",
    "* Run the following code and explain the result. Do some experimentation to verify your thought.\n",
    "\n",
    "```{r eval=FALSE}\n",
    "x <- c(2,4,6,8)\n",
    "y <- c(1,2)\n",
    "x/y\n",
    "```"
   ]
  },
  {
   "cell_type": "code",
   "execution_count": null,
   "id": "dbe93821",
   "metadata": {},
   "outputs": [],
   "source": []
  },
  {
   "cell_type": "markdown",
   "id": "9b67301e",
   "metadata": {},
   "source": [
    "## Subsetting a vector\n",
    "**Positive integers** return elements at the specified positions:\n",
    "```r\n",
    "letters\n",
    "letters[2]\n",
    "letters[c(3,1,5)]\n",
    "```"
   ]
  },
  {
   "cell_type": "code",
   "execution_count": null,
   "id": "29a3bf5d",
   "metadata": {},
   "outputs": [],
   "source": []
  },
  {
   "cell_type": "markdown",
   "id": "4823659f",
   "metadata": {},
   "source": [
    "**Negative integers** omit elements at the specified positions\n",
    "```{r}\n",
    "letters[-1]\n",
    "letters[-c(1,3)]\n",
    "```"
   ]
  },
  {
   "cell_type": "code",
   "execution_count": null,
   "id": "f117f97f",
   "metadata": {},
   "outputs": [],
   "source": []
  },
  {
   "cell_type": "markdown",
   "id": "f701020c",
   "metadata": {},
   "source": [
    "\n",
    "**Logical vectors** select elements where the corresponding logical value is `TRUE`\n",
    "\n",
    "```{r}\n",
    "a <- 1:4\n",
    "a[c(TRUE,FALSE,TRUE,FALSE)]\n",
    "a[a > 2]\n",
    "```\n"
   ]
  },
  {
   "cell_type": "code",
   "execution_count": null,
   "id": "4916d0e3",
   "metadata": {},
   "outputs": [],
   "source": []
  },
  {
   "cell_type": "markdown",
   "id": "d74250c3",
   "metadata": {},
   "source": [
    "### Your turn\n",
    "* Use subsetting to creat a vector with the 5th, 10th, 15th, 20th, and 25th letters."
   ]
  },
  {
   "cell_type": "code",
   "execution_count": null,
   "id": "27575cff",
   "metadata": {},
   "outputs": [],
   "source": []
  },
  {
   "cell_type": "markdown",
   "id": "6333cb79",
   "metadata": {},
   "source": [
    "## List and Data frame\n",
    "List is the object which contains elements of different types – strings, numbers, vectors and another list inside it.\n",
    "\n",
    "\n",
    "```{r}\n",
    "list1 <-  list(name=\"Mike\", gender=\"M\", company=\"A\")\n",
    "list(x = c(1,2,3), gender=\"M\", company=\"A\")\n",
    "list1$name\n",
    "```"
   ]
  },
  {
   "cell_type": "code",
   "execution_count": null,
   "id": "c132832a",
   "metadata": {},
   "outputs": [],
   "source": []
  },
  {
   "cell_type": "markdown",
   "id": "8a490b38",
   "metadata": {},
   "source": [
    "Data frames: rectangular spreadsheets. They are representations of datasets in R where the rows correspond to observations and the columns correspond to variables that describe the observations. \n",
    "They are lists of vectors of equal length.\n",
    "\n",
    "```{r}\n",
    "name <- c(\"Mike\", \"Lucy\", \"John\") \n",
    "age <- c(20, 25, 30) \n",
    "student <- c(TRUE, FALSE, TRUE) \n",
    "df <-  data.frame(name, age, student)  \n",
    "```"
   ]
  },
  {
   "cell_type": "code",
   "execution_count": null,
   "id": "1d468266",
   "metadata": {},
   "outputs": [],
   "source": []
  },
  {
   "cell_type": "markdown",
   "id": "2bf01754",
   "metadata": {},
   "source": [
    "You can subset a data frame similar to a vector. But for data frame, you have two dimensions.\n",
    "```{r}\n",
    "df[2,2]\n",
    "df[,2]\n",
    "df[2,]\n",
    "\n",
    "df[ df$age<25,]\n",
    "```"
   ]
  },
  {
   "cell_type": "code",
   "execution_count": null,
   "id": "15c01499",
   "metadata": {},
   "outputs": [],
   "source": []
  },
  {
   "cell_type": "markdown",
   "id": "0d1afc56",
   "metadata": {},
   "source": [
    "## Functions\n",
    "Functions perform tasks in R. They take in inputs called arguments and return outputs. You can either manually specify a function’s arguments or use the function’s default values.\n",
    "\n",
    "R has a large collection of built-in functions that are called like this:\n",
    "```{r eval=FALSE}\n",
    "function_name(arg1 = val1, arg2 = val2, ...)\n",
    "```\n",
    "\n",
    "\n",
    "Let’s try using `seq()` which makes regular sequences of numbers and, while we’re at it, learn more helpful features of RStudio. Type `se` and hit TAB. A popup shows you possible completions. \n",
    "\n",
    "\n",
    " ```{r}\n",
    " seq(1,10)\n",
    " ```\n",
    "If you want more help, type `? seq` to get all the details in the help tab in the lower right pane."
   ]
  },
  {
   "cell_type": "code",
   "execution_count": null,
   "id": "151a6bd5",
   "metadata": {},
   "outputs": [],
   "source": []
  },
  {
   "cell_type": "markdown",
   "id": "5e5d3e01",
   "metadata": {},
   "source": [
    " When there are more than one arguments for a function, we do not need to specify them in order, but need to write out the arguments names.\n",
    " \n",
    " ```{r}\n",
    " seq(1,4)\n",
    " seq(from = 4, to = 1)\n",
    " ```\n",
    " Here, we use `=` as a syntax token that signals named argument passing in a function call.\n",
    " "
   ]
  },
  {
   "cell_type": "code",
   "execution_count": null,
   "id": "156b5042",
   "metadata": {},
   "outputs": [],
   "source": []
  },
  {
   "cell_type": "markdown",
   "id": "38b0b2c3",
   "metadata": {},
   "source": [
    "In the help page of a function, the values of the arguments  are default values, which you do not have to specify when calling this function. If the argument does not have a value in the help page, then you need to specify it.\n",
    " \n",
    " We can then look at `sum` function.\n",
    " ```{r}\n",
    " sum(1,2,3,4)\n",
    " ```"
   ]
  },
  {
   "cell_type": "code",
   "execution_count": null,
   "id": "bab49832",
   "metadata": {},
   "outputs": [],
   "source": []
  },
  {
   "cell_type": "markdown",
   "id": "ae2814af",
   "metadata": {},
   "source": [
    "Carl Friedrich Gauss-who, as an elementary student in the late 1700s, amazed his teacher with how quickly he found the sum of the integers from 1 to 100. We can do it as well, using R.\n",
    "```{r}\n",
    "sum(seq(1,100))\n",
    "```\n",
    " "
   ]
  },
  {
   "cell_type": "code",
   "execution_count": null,
   "id": "25d3a685",
   "metadata": {},
   "outputs": [],
   "source": []
  },
  {
   "cell_type": "markdown",
   "id": "d0613752",
   "metadata": {},
   "source": [
    "Quotation marks and parentheses must always come in a pair. RStudio does its best to help you, but it is still possible to mess up and end up with a mismatch. If this happens, R will show you the continuation character `+`:\n",
    " ```{r eval=FALSE}\n",
    " x <- seq(1,3\n",
    " ```\n",
    " \n",
    " The `+` tells you that R is waiting for more input; it does not think you are done yet. Either add the missing pair, or press ESCAPE to abort the expression and try again.\n",
    " \n",
    " Now look at your environment in the upper right pane. You can see all of the objects that you have created. You can remove objects from environment using `rm()`, and remove all the objects using `rm(list=ls())`\n",
    " \n",
    " You can clear the console using `Ctrl+l`."
   ]
  },
  {
   "cell_type": "markdown",
   "id": "e24fc3ec",
   "metadata": {},
   "source": [
    "### Your turn\n",
    " \n",
    " * Press  Alt + Shift + K. What happens?\n",
    " \n",
    " * Here are some examples appear in the  help page of `seq()`, explain the results.\n",
    " ```{r eval=FALSE}\n",
    " seq(0, 1, length.out = 11)\n",
    " seq(1, 6, by = 3)\n",
    " ```\n",
    " \n",
    " * Generate sequence  `1, 1.5, 2, 2.5, ..., 5`. \n",
    " \n",
    " * Calculate  $1^3+2^3+\\cdots+20^3$ and $(1+2+\\cdots+20)^2$\n",
    " "
   ]
  },
  {
   "cell_type": "code",
   "execution_count": null,
   "id": "f0493901",
   "metadata": {},
   "outputs": [],
   "source": []
  },
  {
   "cell_type": "markdown",
   "id": "b92b3b90",
   "metadata": {},
   "source": [
    "## Other useful functions\n",
    "\n",
    "`sqrt()` computes the square root \n",
    "```{r}\n",
    "sqrt(4)\n",
    "```\n",
    "\n",
    "`log()` and `exp()` compute the logarithm and expoential \n",
    "```{r}\n",
    "log(2.718)\n",
    "exp(1)\n",
    "```\n",
    "\n",
    "\n",
    "`mean()` computes the mean of a vector\n",
    "```{r}\n",
    "mean(1:100)\n",
    "```\n",
    "\n",
    "`min()` and `max()` computes the maximum and minimun\n",
    "\n",
    "```{r}\n",
    "min(1:100)\n",
    "max(c(1,2,3,5,5))\n",
    "```\n",
    "\n",
    "`range()`\n",
    "\n",
    "```{r}\n",
    "range(1:100)\n",
    "```\n",
    "\n"
   ]
  },
  {
   "cell_type": "code",
   "execution_count": null,
   "id": "210a35a0",
   "metadata": {},
   "outputs": [],
   "source": []
  },
  {
   "cell_type": "markdown",
   "id": "e7337e75",
   "metadata": {},
   "source": [
    "## Scripts\n",
    "To have more room to work, we can use the script editor. Open it up either by clicking the File menu, and selecting New File, then R script, or using the keyboard shortcut Cmd/Ctrl + Shift + N. Now you’ll see four panes.\n",
    "\n",
    "The script editor is a great place to put code you care about. Keep experimenting in the console, but once you have written code that works and does what you want, put it in the script editor. RStudio will automatically save the contents of the editor when you quit RStudio, and will automatically load it when you re-open. Nevertheless,  save your scripts regularly to back them up.\n",
    "\n",
    "The script editor will also highlight syntax errors with a red squiggly line and a cross in the sidebar. Hover over the cross to see what the problem is.\n",
    "RStudio will also let you know about potential problems. Read\n",
    "https://support.rstudio.com/hc/en-us/articles/205753617-Code-Diagnostics to find out common mistakes in RStudio diagnostics report.\n",
    "\n",
    "## Your turn\n",
    "* Create a script in RStudio and do the following step by step\n",
    "\n",
    "1. calculate $\\frac{\\pi^2}{6}$ and save it in `x`\n",
    "\n",
    "2. culculate $\\frac{1}{1}+\\frac{1}{2^2}+\\cdots+\\frac{1}{10^2}$\n",
    "\n",
    "3. take the difference between the two numbers obtained from the last two steps, save it in `d1`\n",
    "\n",
    "4. replace $10$ with $20$ in step 2 and do step 3 again, save the difference in `d2`\n",
    "\n",
    "5. replace $20$ with larger numbers, do the same calculation and save them in `d3`, `d4`,`d5`...\n",
    "\n",
    "6. combine `d1`,`d2`,`d3`.. in a vector `d`, did you find anything interesting in `d`?\n",
    "\n"
   ]
  },
  {
   "cell_type": "code",
   "execution_count": null,
   "id": "0a0de9e2",
   "metadata": {},
   "outputs": [],
   "source": []
  },
  {
   "cell_type": "markdown",
   "id": "b3b967b3",
   "metadata": {},
   "source": [
    "## Errors, warnings, and messages\n",
    "\n",
    "R reports errors, warnings, and messages in a glaring red font, which makes it seem like it is scolding you. R will show red text in the console pane in three different situations:\n",
    "\n",
    "* **Errors**: When the red text is a legitimate error, it will be prefaced with “Error in…” and will try to explain what went wrong. Generally when there’s an error, the code will not run.\n",
    "\n",
    "* **Warnings**: When the red text is a warning, it will be prefaced with “Warning:” and R will try to explain why there’s a warning. Generally your code will still work, but with some caveats\n",
    "\n",
    "* **Messages**: When the red text doesn’t start with either “Error” or “Warning”, it’s just a friendly message.\n",
    "\n",
    "\n",
    "***\n",
    "* If the text starts with “Error”, figure out what’s causing it\n",
    "\n",
    "* If the text starts with “Warning”, figure out if it’s something to worry about.\n",
    "\n",
    "* Otherwise, the text is just a message. Read it, and thank it for talking to you.\n"
   ]
  },
  {
   "cell_type": "code",
   "execution_count": null,
   "id": "4346b6bf",
   "metadata": {},
   "outputs": [],
   "source": []
  }
 ],
 "metadata": {
  "kernelspec": {
   "display_name": "R",
   "language": "R",
   "name": "ir"
  },
  "language_info": {
   "codemirror_mode": "r",
   "file_extension": ".r",
   "mimetype": "text/x-r-source",
   "name": "R",
   "pygments_lexer": "r",
   "version": "3.6.2"
  }
 },
 "nbformat": 4,
 "nbformat_minor": 5
}
