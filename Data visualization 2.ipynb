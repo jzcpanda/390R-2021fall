{
 "cells": [
  {
   "cell_type": "markdown",
   "id": "1171edb4",
   "metadata": {},
   "source": [
    "\n",
    "# Multiple plots\n",
    "Using aesthetics, we can separetely show the cars with different colors and sizes in one graph. \n",
    "\n",
    "Another way to do this is to split your plot into facets, subplots that each display one type of cars.\n",
    "\n",
    "To facet your plot by a single variable, use `facet_wrap()`. The first argument of `facet_wrap()` should be a formula, which you create with `~` followed by a variable name (here `formula` is the name of a data structure in R, not a synonym for equation). The variable that you pass to `facet_wrap()` should be discrete.\n",
    "\n",
    "\n",
    "```r\n",
    "ggplot(data = mpg) +\n",
    "  geom_point(mapping = aes(x = displ, y = hwy))+\n",
    "  facet_wrap(~class, nrow=2)\n",
    "```"
   ]
  },
  {
   "cell_type": "code",
   "execution_count": null,
   "id": "b854b4d8",
   "metadata": {},
   "outputs": [],
   "source": []
  },
  {
   "cell_type": "markdown",
   "id": "c37a3ce9",
   "metadata": {},
   "source": [
    "To facet your plot on the combination of two variables, add `facet_grid()` to your plot call. The first argument of `facet_grid()` is also a formula. This time the formula should contain two variable names separated by a `~`.\n",
    "\n",
    "```r\n",
    "ggplot(data = mpg) +\n",
    "  geom_point(mapping = aes(x = displ, y = hwy))+\n",
    "  facet_grid(drv ~ cyl)\n",
    "```\n",
    "\n",
    "```r\n",
    "ggplot(data = mpg) +\n",
    "  geom_point(mapping = aes(x = displ, y = hwy))+\n",
    "  facet_grid(. ~ cyl)\n",
    "```"
   ]
  },
  {
   "cell_type": "code",
   "execution_count": null,
   "id": "5e9a8c8e",
   "metadata": {},
   "outputs": [],
   "source": []
  },
  {
   "cell_type": "markdown",
   "id": "8fc5aa5f",
   "metadata": {},
   "source": [
    "## Your turn\n",
    "\n",
    "* What happens if you facet on a numerical variable? (e.g., `cty`)\n",
    "\n",
    "<!--```{r eval=FALSE,echo=FALSE}\n",
    "ggplot(mpg, aes(x = displ, y = hwy)) +\n",
    "  geom_point() +\n",
    "  facet_grid(. ~ cty)\n",
    "```-->\n",
    "\n",
    "* Read `?facet_wrap` and try the `scales` argument.\n",
    "\n",
    "\n",
    "* What are the advantages to using faceting instead of the color aesthetic? What are the disadvantages? How might the balance change if you had a larger dataset?\n",
    "\n",
    "\n",
    "* When using `facet_grid()`, you can put the variable with more unique levels in the columns or rows. Which is better? (try facet with `class` and `cyl` in two different ways )\n"
   ]
  },
  {
   "cell_type": "code",
   "execution_count": null,
   "id": "4e5ad1d5",
   "metadata": {},
   "outputs": [],
   "source": []
  },
  {
   "cell_type": "markdown",
   "id": "516459c4",
   "metadata": {},
   "source": [
    "# Five graphs\n",
    "\n",
    "In ggplot2 syntax, different geom functions uses a different visual object to represent the data.  A `geom` is the geometrical object that a plot uses to represent data. \n",
    "\n",
    "We will focus five important graphs\n",
    "\n",
    "1. scatterplots\n",
    "2. linegraphs\n",
    "3. histograms\n",
    "4. boxplots\n",
    "5. barplots\n",
    "\n",
    "\n",
    "## Scatterplots\n",
    "\n",
    "Scatterplots allow you to visualize the relationship between two numerical variables. \n",
    "```r\n",
    "ggplot(data = mpg) +\n",
    "  geom_point(mapping = aes(x = displ, y = hwy))\n",
    "```"
   ]
  },
  {
   "cell_type": "code",
   "execution_count": null,
   "id": "500ab131",
   "metadata": {},
   "outputs": [],
   "source": []
  },
  {
   "cell_type": "markdown",
   "id": "3b53d674",
   "metadata": {},
   "source": [
    "One problem with the scatterplot of `hwy` and `displ` is that \n",
    "the values of `hwy` and `displ` are rounded so the points appear on a grid and many points overlap each other. \n",
    "\n",
    "When overplotting occurs, it is difficult to know the number of points being plotted. There are two methods to address the issue of overplotting. Either by\n",
    "\n",
    "1. Adjusting the transparency of the points or\n",
    "2. Adding a little random “jitter”, or random “nudges”, to each of the points.\n",
    "\n",
    "###  Changing the transparency\n",
    "We can change the transparency by the argument `alpha` in `geom_point()`.  The argument can take any value between 0 and 1, where 0 sets the points to be 100% transparent and 1 sets the points to be 100% opaque.\n",
    "```r\n",
    "ggplot(data = mpg) +\n",
    "  geom_point(mapping = aes(x = displ, y = hwy),alpha=0.2)\n",
    "```\n",
    "\n",
    "\n",
    "The key feature to note in the plot is that the transparency of the points is cumulative: areas with a high-degree of overplotting are darker, whereas areas with a lower degree are less dark."
   ]
  },
  {
   "cell_type": "code",
   "execution_count": null,
   "id": "19a7c5bc",
   "metadata": {},
   "outputs": [],
   "source": []
  },
  {
   "cell_type": "markdown",
   "id": "0603c7e3",
   "metadata": {},
   "source": [
    "### Jittering the points\n",
    "The second way of addressing overplotting is by jittering all the points. This means giving each point a small “nudge” in a random direction.\n",
    "\n",
    "\n",
    "```r\n",
    "ggplot(data = mpg) +\n",
    "  geom_point(mapping = aes(x = displ, y = hwy),  position=\"jitter\")\n",
    "```\n",
    "\n",
    "\n",
    "Keep in mind jittering is strictly a visualization tool; even after creating a jittered scatterplot, the original values saved in the data frame remain unchanged.\n",
    "\n"
   ]
  },
  {
   "cell_type": "code",
   "execution_count": null,
   "id": "e15bcba5",
   "metadata": {},
   "outputs": [],
   "source": []
  },
  {
   "cell_type": "markdown",
   "id": "c26f305c",
   "metadata": {},
   "source": [
    "### Your turn\n",
    "*  `position=\"jitter\"` cannot specify how much noise to add. Another way of jittering is to use  `geom_jitter()` instead of `geom_point()` \n",
    "Try the following code and use help page to find how to control the amount of jittering?\n",
    "\n",
    "<!--\n",
    " ```{r eval=FALSE}\n",
    "ggplot(data = mpg) +\n",
    "  geom_jitter(mapping = aes(x = displ, y = hwy))\n",
    "```\n",
    "Note that the height and width arguments are in the units of the data. Thus height = 1 (width = 1) corresponds to different relative amounts of jittering depending on the scale of the y (x) variable. The default values of height and width are defined to be 80% of the resolution() of the data, which is the smallest non-zero distance between adjacent values of a variable. When x and y are discrete variables, their resolutions are both equal to 1, and height = 0.4 and width = 0.4 since the jitter moves points in both positive and negative directions. -->\n",
    "* Compare and contrast `geom_jitter()` with `geom_count()`\n",
    "\n",
    "<!--ggplot(data = mpg) +\n",
    "  geom_count(mapping = aes(x = displ, y = hwy))-->"
   ]
  },
  {
   "cell_type": "code",
   "execution_count": null,
   "id": "6c10b257",
   "metadata": {},
   "outputs": [],
   "source": []
  },
  {
   "cell_type": "markdown",
   "id": "c8dc2ab4",
   "metadata": {},
   "source": [
    "## Linegraphs\n",
    "\n",
    "Linegraphs show the relationship between two numerical variables when the variable on the x-axis, also called the *explanatory* variable, is of a sequential nature. In other words, there is an inherent ordering to the variable.\n",
    "\n",
    "\n",
    "### `geom_line`\n",
    "`geom_line` connects the point in the order of the variable on the `x`-axis. It visulizes the trend of the data and thus is frequently used when time is the explanatory variable on the `x`-axis\n",
    "```r\n",
    "ggplot(data = mpg) +\n",
    "  geom_line(mapping = aes(x = displ, y = hwy))\n",
    "```"
   ]
  },
  {
   "cell_type": "code",
   "execution_count": null,
   "id": "67d66d9b",
   "metadata": {},
   "outputs": [],
   "source": []
  },
  {
   "cell_type": "markdown",
   "id": "c3f1a5fb",
   "metadata": {},
   "source": [
    "### Your turn\n",
    "* Replace `geom_line()` with `geom_path()` to see what happens. Explain the difference"
   ]
  },
  {
   "cell_type": "code",
   "execution_count": null,
   "id": "f419c34a",
   "metadata": {},
   "outputs": [],
   "source": []
  },
  {
   "cell_type": "markdown",
   "id": "9aa0275e",
   "metadata": {},
   "source": [
    "### `geom_smooth()`\n",
    "We can plot a smooth line fitted to the data using `geom_smooth`\n",
    "```r\n",
    "ggplot(data = mpg) +\n",
    "  geom_smooth(mapping = aes(x = displ, y = hwy))\n",
    "```\n"
   ]
  },
  {
   "cell_type": "code",
   "execution_count": null,
   "id": "ec324841",
   "metadata": {},
   "outputs": [],
   "source": []
  },
  {
   "cell_type": "markdown",
   "id": "f7cd0521",
   "metadata": {},
   "source": [
    "Every geom function in ggplot2 takes a mapping argument. However, not every aesthetic works with every geom.  `geom_smooth()` will draw a different line, with a different `linetype`, for each unique value of the variable that you map to linetype.\n",
    "\n",
    "```r\n",
    "ggplot(data = mpg) +\n",
    "  geom_smooth(mapping = aes(x = displ, y = hwy,linetype = drv))\n",
    "```"
   ]
  },
  {
   "cell_type": "code",
   "execution_count": null,
   "id": "b2b4008b",
   "metadata": {},
   "outputs": [],
   "source": []
  },
  {
   "cell_type": "markdown",
   "id": "24b82264",
   "metadata": {},
   "source": [
    "### Your turn\n",
    "\n",
    "*  Create a graph with both points and smoothed lines and coloring everything (both the points and lines) according to `drv`\n",
    "\n",
    "<!--```{r eval=FALSE, echo=FALSE}\n",
    "ggplot(data = mpg) +\n",
    "   geom_point(mapping = aes(x = displ, y = hwy,color = drv))+\n",
    "  geom_smooth(mapping = aes(x = displ, y = hwy,color = drv))\n",
    "```-->\n",
    "\n",
    "* Compare the following two plots\n",
    "\n",
    "```r\n",
    "ggplot(data = mpg) +\n",
    "  geom_smooth(mapping = aes(x = displ, y = hwy,linetype = drv))\n",
    "\n",
    "ggplot(data = mpg) +\n",
    "  geom_smooth(mapping = aes(x = displ, y = hwy,group = drv))\n",
    "```"
   ]
  },
  {
   "cell_type": "code",
   "execution_count": null,
   "id": "b17766d9",
   "metadata": {},
   "outputs": [],
   "source": []
  },
  {
   "cell_type": "markdown",
   "id": "a2545886",
   "metadata": {},
   "source": [
    "## Histrograms\n",
    "We can plot a  histogram if we only care about how the values of one variable distribution:\n",
    "\n",
    "1. What are the smallest and largest values?\n",
    "2. What is the “center” or “most typical” value?\n",
    "3. How do the values spread out?\n",
    "4. What are frequent and infrequent values?\n",
    "\n",
    "A histogram is a plot that visualizes the distribution of a numerical value as follows:\n",
    "\n",
    "1. We first cut up the x-axis into a series of bins, where each bin represents a range of values.\n",
    "2. For each bin, we count the number of observations that fall in the range corresponding to that bin.\n",
    "3. Then for each bin, we draw a bar whose height marks the corresponding count.\n",
    "\n",
    "### `geom_histogram()`\n",
    "\n",
    "\n",
    "```r\n",
    "ggplot(mpg)+\n",
    "  geom_histogram(mapping = aes(x=hwy))\n",
    "```\n",
    "\n",
    "\n",
    "Unlikescatterplots and linegraphs, there is now only one variable being mapped in `aes()`: the single numerical variable `hwy`. The y-aesthetic of a histogram, the count of the observations in each bin, gets computed for you automatically.\n",
    "\n",
    "Question: what is the requirement for the type of variable in `x`?\n",
    "\n",
    "It is hard to distinguish each bin. We can use the `color` argument to add  borders.\n",
    "```r\n",
    "ggplot(mpg)+\n",
    "  geom_histogram(mapping = aes(x=hwy),color=\"white\")\n",
    "```\n",
    "\n",
    "You can use the `fill` argument to change the color of the bars\n",
    "```r\n",
    "ggplot(mpg)+\n",
    "  geom_histogram(mapping = aes(x=hwy),color=\"white\", fill =\"steelblue\")\n",
    "```\n",
    "\n",
    "If you’re curious, run `colors()` to see all possible choice of colors in R."
   ]
  },
  {
   "cell_type": "code",
   "execution_count": null,
   "id": "e495ff01",
   "metadata": {},
   "outputs": [],
   "source": []
  },
  {
   "cell_type": "markdown",
   "id": "021974d3",
   "metadata": {},
   "source": [
    "###  Adjusting the bins\n",
    "In the plot above, there are 30 bins in the range  3-45. Thus each bin has about width 42/30, which is not easy to interpret.\n",
    "We can improve this by adjusting the number of bins in our histogram in one of three ways:\n",
    "\n",
    "1. By adjusting the number of bins via the `bins` argument to `geom_histogram()`.\n",
    "2. By adjusting the width of the bins via the `binwidth` argument to `geom_histogram()`.\n",
    "3. By providing the bin bounderies via the `breaks` argument to `geom_histogram()`\n",
    "\n",
    "For the first method, we can use the `bins` argument specify how many bins we would like to cut the x-axis up in.\n",
    "\n",
    "```r\n",
    "ggplot(mpg)+\n",
    "  geom_histogram(mapping = aes(x=hwy),color=\"white\",bins=40)\n",
    "```\n",
    "\n",
    "For the second method, we can use the `binwidth` argument to specify the width of the bins.\n",
    "```r\n",
    "ggplot(mpg)+\n",
    "  geom_histogram(mapping = aes(x=hwy),color=\"white\",binwidth=1)\n",
    "```\n",
    "\n",
    "For the third method, we can use the `breaks` argument to specify the boundaries of the bins.\n",
    "```r\n",
    "ggplot(mpg)+\n",
    "  geom_histogram(mapping = aes(x=hwy),color=\"white\",breaks=10:45)\n",
    "```\n"
   ]
  },
  {
   "cell_type": "code",
   "execution_count": null,
   "id": "d695fb97",
   "metadata": {},
   "outputs": [],
   "source": []
  },
  {
   "cell_type": "markdown",
   "id": "7c4da5cf",
   "metadata": {},
   "source": [
    "You can describe the distribution based on the histogram. The spread is the range of the data. The shape describes the type of graph. \n",
    "\n",
    "Determining the shape of your variable is essential before any further analysis is done. Statistical methods used for inference often require your data to be distributed in a certain manner before they can be applied to the data.\n",
    "You can describe shape in terms of whether it is symmetric, how many peaks it has, if it is skewed to the left or right, and whether it is uniform.\n",
    "\n",
    "**Normal distribution**  (also referred to as the Gaussian distribution) is a very common distribution and is often described as a bell-shaped curve. In this distribution, the values are symmetric around the central value with a high density of the values falling right around the central value.\n",
    "\n",
    "<img src=\"./figures/visualization/normal.jpg\" alt=\"ds\" style=\"width: 750px;\"/>\n",
    "\n",
    "A variable can be described as normally distributed if:   \n",
    "\n",
    "* There is a strong tendency for data to take a central value --- many of the observations are centered around the middle of the range.  \n",
    "\n",
    "* Deviations away from the central value are equally likely in both directions --- the frequency of these deviations away form the central value occurs at the same rate on either side of the central value.\n",
    "\n",
    "\n",
    "**Skewed distribution**:  most of the values fall to one end of the range, leaving a tail off to the other side.\n",
    "\n",
    "<img src=\"./figures/visualization/skew.jpg\" alt=\"ds\" style=\"width: 750px;\"/>\n",
    "\n",
    "**Uniform distribution**: values for a variable are equally likely to be found along any portion of the distribution. \n",
    "\n",
    "**Outliers**: are observations that fall far away from the rest of the observations in the distribution.\n",
    "\n",
    "<img src=\"./figures/visualization/outlier.jpg\" alt=\"ds\" style=\"width: 750px;\"/>\n"
   ]
  },
  {
   "cell_type": "markdown",
   "id": "292fd65e",
   "metadata": {},
   "source": [
    "### Your turn\n",
    "\n",
    "* Create histograms for `cty` and `displ` respectively. Describe how the variables distribute."
   ]
  },
  {
   "cell_type": "code",
   "execution_count": null,
   "id": "5790d420",
   "metadata": {},
   "outputs": [],
   "source": []
  },
  {
   "cell_type": "markdown",
   "id": "43a12ab4",
   "metadata": {},
   "source": [
    "### `geom_freqpoly()`\n",
    "`geom_freqpoly()`displays the counts with lines instead of bars.\n",
    "```r\n",
    "ggplot(mpg)+\n",
    "  geom_freqpoly(mapping = aes(x=hwy))\n",
    "ggplot(mpg)+\n",
    "  geom_freqpoly(mapping = aes(x=hwy,color=drv))\n",
    "```\n"
   ]
  },
  {
   "cell_type": "code",
   "execution_count": null,
   "id": "939c332c",
   "metadata": {},
   "outputs": [],
   "source": []
  },
  {
   "cell_type": "markdown",
   "id": "f9ba3789",
   "metadata": {},
   "source": [
    "## Boxplots\n",
    " \n",
    "### `geom_boxplot()`\n",
    " What if we want to compare the distribution of a numerical variable split by the values of another variable? For example, suppose we want to know the distribution of `hwy` in each value of `drv`. We can use freqpoly or  faceted histograms.\n",
    "```r\n",
    " ggplot(mpg)+\n",
    "  geom_freqpoly(mapping = aes(x=hwy,color = drv))\n",
    "\n",
    " ggplot(mpg)+\n",
    "  geom_histogram(mapping = aes(x=hwy),color=\"white\")+\n",
    "  facet_wrap(~drv)\n",
    "```\n"
   ]
  },
  {
   "cell_type": "code",
   "execution_count": null,
   "id": "cdf8b185",
   "metadata": {},
   "outputs": [],
   "source": []
  },
  {
   "cell_type": "markdown",
   "id": "b6ff06e3",
   "metadata": {},
   "source": [
    "Another type of visualization that achieves this same goal is a side-by-side boxplot.\n",
    "It compactly displays the distribution of a numerical variable by visualizing several **summary statistics** (e.g. minimum, maximum, median,quartiles). \n",
    "\n",
    "```r\n",
    "ggplot(mpg)+\n",
    "  geom_boxplot(mapping = aes(y=hwy))\n",
    "```"
   ]
  },
  {
   "cell_type": "code",
   "execution_count": null,
   "id": "fff1c17c",
   "metadata": {},
   "outputs": [],
   "source": []
  },
  {
   "cell_type": "markdown",
   "id": "efc3a84b",
   "metadata": {},
   "source": [
    "The boxplot summarizes the 234 points by cutting them into quartiles at the dashed lines, where each quartile contains roughly `234/5=47` observations. Thus\n",
    "\n",
    "1. 25% of points fall below the bottom edge of the box, which is the first quartile of 18. In other words, 25% of observations were below 18 miles per gallon.\n",
    "\n",
    "2. 25% of points fall between the bottom edge of the box and the solid middle line, which is the median of 24. Thus, 25% of observations were between 18 and 24 and 50% of observations were below 24.\n",
    "\n",
    "3. 25% of points fall between the solid middle line and the top edge of the box, which is the third quartile of 27. It follows that 25% of observations were between 24 and 27 and 75% of observations were below 27.\n",
    "\n",
    "4. 25% of points fall above the top edge of the box. In other words, 25% of observations were above 27.\n",
    "\n",
    "The middle 50% of points lie within the interquartile range (IQR) between the first and third quartile. Thus, the IQR for this example is 27 - 18 = 9. The interquartile range is a measure of a numerical variable’s spread.\n",
    "\n",
    "Furthermore,  we see the whiskers of the boxplot. The whiskers stick out from either end of the box all the way to the minimum and maximum observed temperatures of 12 and  44, respectively. However, the whiskers don’t always extend to the smallest and largest observed values. They in fact extend no more than  $1.5\\times$ the interquartile range from either end of the box. In this case, no more than $1.5 \\times 9 =13.5$ from either end of the box. Any observed values outside this range get marked with points called outliers.  These can be thought of as anomalous values.\n",
    "\n",
    "\n",
    "We can create a side-by-side boxplot of `hwy` split by `drv`. We do this by mapping `drv` to the `x`-position aesthetic, `hwy` to the `y`-position aesthetic\n",
    "\n",
    "```r\n",
    "ggplot(mpg)+\n",
    "  geom_boxplot(mapping = aes(x=drv,y=hwy))\n",
    "\n",
    "```\n"
   ]
  },
  {
   "cell_type": "code",
   "execution_count": null,
   "id": "5509496d",
   "metadata": {},
   "outputs": [],
   "source": []
  },
  {
   "cell_type": "markdown",
   "id": "d6adf78f",
   "metadata": {},
   "source": [
    "### Your turn\n",
    "* Can the variable in `x`-position be numerical?\n",
    "\n",
    "* Create a boxplot  of `hwy` split by `class`. Interpret your findings.\n",
    "\n"
   ]
  },
  {
   "cell_type": "code",
   "execution_count": null,
   "id": "d8801dab",
   "metadata": {},
   "outputs": [],
   "source": []
  },
  {
   "cell_type": "markdown",
   "id": "18596256",
   "metadata": {},
   "source": [
    "### Violin plots\n",
    "A violin plot displays  the distribution of a numerical variable. You can view it as a blend of boxplots and histograms.\n",
    "\n",
    "```r\n",
    "ggplot(mpg)+\n",
    "  geom_violin(mapping = aes(x=class,y=hwy))\n",
    "\n",
    "```"
   ]
  },
  {
   "cell_type": "code",
   "execution_count": null,
   "id": "d04c9ef7",
   "metadata": {},
   "outputs": [],
   "source": []
  },
  {
   "cell_type": "markdown",
   "id": "b67a0517",
   "metadata": {},
   "source": [
    "## Barplots\n",
    " Both histograms and boxplots are tools to visualize the distribution of numerical variables.\n",
    " Another commonly desired task is to visualize the distribution of a categorical variable. This is a simpler task, as we can simply count different categories within a categorical variable.\n",
    " \n",
    "### `geom_bar()`\n",
    "\n",
    "\n",
    "A bar chart or bar graph is a chart or graph that presents categorical data with rectangular bars with heights or lengths proportional to the values that they represent. \n",
    "```r\n",
    "ggplot(mpg)+\n",
    "  geom_bar(mapping = aes(x=drv))\n",
    "\n",
    "ggplot(mpg)+\n",
    "  geom_bar(mapping = aes(x=trans))\n",
    "```\n"
   ]
  },
  {
   "cell_type": "code",
   "execution_count": null,
   "id": "fd6fb938",
   "metadata": {},
   "outputs": [],
   "source": []
  },
  {
   "cell_type": "markdown",
   "id": "787e0ec4",
   "metadata": {},
   "source": [
    "### Two categorical variables\n",
    "Another use of barplots is to visualize the joint distribution of two categorical variables at the same time. \n",
    "\n",
    "Suppose we want to know the distribution of `trans` split by `drv`\n",
    "We can now map the additional variable `drv` by adding a `fill = drv` inside the `aes()` aesthetic mapping.\n",
    "\n",
    "```r\n",
    "ggplot(mpg)+\n",
    "  geom_bar(mapping = aes(x=trans,fill = drv ))\n",
    "\n",
    "```\n",
    "\n",
    "The `fill` argument controls the color of the bars, while the `color` argument controls the color of the outline of the bars.\n",
    "\n",
    "```r\n",
    "ggplot(mpg)+\n",
    "  geom_bar(mapping = aes(x=trans,color = drv ))\n",
    "```\n",
    "\n",
    "\n",
    "It is difficult to compare the heights of the different colors between the bars. We can use the position adjustment (we will learn more about this later)\n",
    "```r\n",
    "ggplot(mpg)+\n",
    "  geom_bar(mapping = aes(x=trans,fill = drv ),position = \"dodge\")\n",
    "\n",
    "```\n"
   ]
  },
  {
   "cell_type": "code",
   "execution_count": null,
   "id": "568778ab",
   "metadata": {},
   "outputs": [],
   "source": []
  },
  {
   "cell_type": "markdown",
   "id": "bbc7a46e",
   "metadata": {},
   "source": [
    "## Summary\n",
    "<img src=\"./figures/visualization/summary_fivegraphs.jpg\" alt=\"ds\" style=\"width: 750px;\"/>"
   ]
  },
  {
   "cell_type": "markdown",
   "id": "b449fbd4",
   "metadata": {},
   "source": [
    "## Global mappings\n",
    "To display multiple geoms in the same plot, add multiple geom functions to `ggplot()`\n",
    "```r\n",
    "ggplot(data = mpg) + \n",
    "  geom_point(mapping = aes(x = displ, y = hwy)) +\n",
    "  geom_smooth(mapping = aes(x = displ, y = hwy))\n",
    "```\n",
    "\n",
    "This introduces some duplication in our code. You can avoid this type of repetition by passing a set of mappings to `ggplot()`. ggplot2 will treat these mappings as global mappings that apply to each geom in the graph.  The following code will produce the same plot as the previous code:\n",
    "\n",
    "```r\n",
    "ggplot(data = mpg,mapping = aes(x = displ, y = hwy)) + \n",
    "  geom_point() +\n",
    "  geom_smooth()\n",
    "```"
   ]
  },
  {
   "cell_type": "code",
   "execution_count": null,
   "id": "bd6368f6",
   "metadata": {},
   "outputs": [],
   "source": []
  },
  {
   "cell_type": "markdown",
   "id": "c9403835",
   "metadata": {},
   "source": [
    "If you place mappings in a geom function, `ggplot2` will treat them as local mappings for the layer. It will use these mappings to extend or overwrite the global mappings for that layer only. \n",
    "```r\n",
    "ggplot(data = mpg, mapping = aes(x = displ, y = hwy)) + \n",
    "  geom_point(mapping = aes(color = class)) + \n",
    "  geom_smooth()\n",
    "```"
   ]
  },
  {
   "cell_type": "code",
   "execution_count": null,
   "id": "8aaab34d",
   "metadata": {},
   "outputs": [],
   "source": []
  },
  {
   "cell_type": "markdown",
   "id": "4bc58d27",
   "metadata": {},
   "source": [
    "You can use the same idea to specify different data for each layer. In the followingn code, the smooth line displays just a subset of the mpg dataset, the subcompact cars. The local data argument in `geom_smooth()` overrides the global data argument in `ggplot()` for that layer only.\n",
    "```r\n",
    "ggplot(data = mpg, mapping = aes(x = displ, y = hwy)) + \n",
    "  geom_point(mapping = aes(color = class)) + \n",
    "  geom_smooth(data = filter(mpg, class == \"subcompact\"), se = FALSE)\n",
    "```\n"
   ]
  },
  {
   "cell_type": "code",
   "execution_count": null,
   "id": "0b702e5c",
   "metadata": {},
   "outputs": [],
   "source": []
  },
  {
   "cell_type": "markdown",
   "id": "cd474568",
   "metadata": {},
   "source": [
    "## Your turn\n",
    "* Run this code in your head and predict what the output will look like. Then, run the code in R and check your predictions.\n",
    "\n",
    "```r\n",
    "ggplot(data = mpg, mapping = aes(x = displ, y = hwy, color = drv)) +\n",
    "  geom_point() +\n",
    "  geom_smooth(se = FALSE)\n",
    "```\n",
    "\n",
    "* Run the following codes and explain what they do \n",
    "\n",
    "```r\n",
    "ggplot(mpg, aes(x = displ, y = hwy)) +\n",
    "  geom_point(aes(color = drv)) +\n",
    "  geom_smooth(aes(linetype = drv), se = FALSE)\n",
    "\n",
    "ggplot(mpg, aes(x = displ, y = hwy)) +\n",
    "  geom_point(size = 4, color = \"white\") +\n",
    "  geom_point(aes(color = drv))\n",
    "```\n"
   ]
  },
  {
   "cell_type": "code",
   "execution_count": null,
   "id": "023d32be",
   "metadata": {},
   "outputs": [],
   "source": []
  }
 ],
 "metadata": {
  "kernelspec": {
   "display_name": "R",
   "language": "R",
   "name": "ir"
  },
  "language_info": {
   "codemirror_mode": "r",
   "file_extension": ".r",
   "mimetype": "text/x-r-source",
   "name": "R",
   "pygments_lexer": "r",
   "version": "3.6.2"
  }
 },
 "nbformat": 4,
 "nbformat_minor": 5
}
