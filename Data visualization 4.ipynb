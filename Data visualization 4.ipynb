{
 "cells": [
  {
   "cell_type": "markdown",
   "id": "1c4cf151",
   "metadata": {},
   "source": [
    "You need to communicate your understanding to others. Your audience will likely not share your background knowledge and will not be deeply invested in the data. To help others quickly build up a good mental model of the data, you will need to invest considerable effort in making your plots as self-explanatory as possible.\n",
    "\n",
    "# Label\n",
    "The easiest place to start when turning an exploratory graphic into an expository graphic is with good labels. You can add labels with the `labs()` function.\n",
    "```r\n",
    "ggplot(mpg, aes(displ, hwy)) +\n",
    "  geom_point(aes(color = class)) +\n",
    "  geom_smooth(se = FALSE)+\n",
    "   labs(title = \"Fuel efficiency generally decreases with engine size\")\n",
    "```"
   ]
  },
  {
   "cell_type": "code",
   "execution_count": null,
   "id": "01b83f40",
   "metadata": {},
   "outputs": [],
   "source": []
  },
  {
   "cell_type": "markdown",
   "id": "01387f92",
   "metadata": {},
   "source": [
    "If you need to add more text, there are two other useful labels that you can use: \n",
    "\n",
    "* `subtitle` adds additional detail in a smaller font beneath the title.\n",
    "\n",
    "* `caption` adds text at the bottom right of the plot, often used to describe the source of the data.\n",
    "```r\n",
    "ggplot(mpg, aes(displ, hwy)) +\n",
    "  geom_point(aes(color = class)) +\n",
    "  geom_smooth(se = FALSE) +\n",
    "  labs(\n",
    "    title = \"Fuel efficiency generally decreases with engine size\",\n",
    "    subtitle = \"Two seaters (sports cars) are an exception because of their light weight\",\n",
    "    caption = \"Data from fueleconomy.gov\"\n",
    "  )\n",
    "```"
   ]
  },
  {
   "cell_type": "code",
   "execution_count": null,
   "id": "2c7d622d",
   "metadata": {},
   "outputs": [],
   "source": []
  },
  {
   "cell_type": "markdown",
   "id": "af5733ca",
   "metadata": {},
   "source": [
    "***\n",
    "You can also use `labs()` to replace the axis and legend titles. It’s usually a good idea to replace short variable names with more detailed descriptions, and to include the units.\n",
    "\n",
    "```r\n",
    "ggplot(mpg, aes(displ, hwy)) +\n",
    "  geom_point(aes(color = class)) +\n",
    "  geom_smooth(se = FALSE) +\n",
    "  labs(\n",
    "    x = \"Engine displacement (L)\",\n",
    "    y = \"Highway fuel economy (mpg)\",\n",
    "    color = \"Car type\"\n",
    "  )\n",
    "```"
   ]
  },
  {
   "cell_type": "code",
   "execution_count": null,
   "id": "2df341d3",
   "metadata": {},
   "outputs": [],
   "source": []
  },
  {
   "cell_type": "markdown",
   "id": "ab609b79",
   "metadata": {},
   "source": [
    "*** \n",
    "It’s possible to use mathematical equations instead of text strings. Just switch \"\" out for `quote()` and read about the available options in `? plotmath`\n",
    "\n",
    "```r\n",
    "ggplot(mpg, aes(displ, hwy)) +\n",
    "  geom_point(aes(color = class)) +\n",
    "  geom_smooth(se = FALSE)+\n",
    "  labs(\n",
    "    x = quote(sum(x[i] ^ 2, i == 1, n)),\n",
    "    y = quote(alpha + beta + frac(delta, theta))\n",
    "  )\n",
    "```"
   ]
  },
  {
   "cell_type": "code",
   "execution_count": null,
   "id": "715ab064",
   "metadata": {},
   "outputs": [],
   "source": []
  },
  {
   "cell_type": "markdown",
   "id": "6e9b4ad8",
   "metadata": {},
   "source": [
    "## Your turn\n",
    "\n",
    "* Create one plot using `diamonds` or `mpg` data with customized `title`, `subtitle`, `x`, `y`, and `color` labels."
   ]
  },
  {
   "cell_type": "code",
   "execution_count": null,
   "id": "824f2768",
   "metadata": {},
   "outputs": [],
   "source": []
  },
  {
   "cell_type": "markdown",
   "id": "dd97f5c2",
   "metadata": {},
   "source": [
    "# Annotations\n",
    "In addition to labelling major components of your plot, it’s often useful to label individual observations or groups of observations.\n",
    "\n",
    "You can use `geom_text()` or `geom_label()`. They are similar to `geom_point()`, but have an additional aesthetic: `label`.  `geom_text()` adds text directly to the plot; `geom_label()` draws a rectangle behind the text, making it easier to read.\n",
    "\n",
    "```r\n",
    "mpg_label <- tibble(\n",
    "  displ = 4,\n",
    "  hwy = 30,\n",
    "  label = \"a label at (4,30)\"\n",
    ")\n",
    "\n",
    "ggplot(mpg, aes(x= displ, y=hwy)) +\n",
    "  geom_point() +\n",
    "  geom_label(data = mpg_label, aes(label=label),vjust = \"top\", hjust = \"right\")\n",
    " \n",
    "```"
   ]
  },
  {
   "cell_type": "code",
   "execution_count": null,
   "id": "bfb23145",
   "metadata": {},
   "outputs": [],
   "source": []
  },
  {
   "cell_type": "markdown",
   "id": "035ed8f5",
   "metadata": {},
   "source": [
    "\n",
    "If you want to place the text exactly on the borders of the plot, you can use `+Inf` and `-Inf`.\n",
    "Use of hjust and vjust to control the alignment of the label.\n",
    "\n",
    "You have many other geoms in ggplot2 available to help annotate your plot. A few ideas:\n",
    "\n",
    "* Use `geom_hline()` and `geom_vline()` to add reference lines. \n",
    "\n",
    "* Use `geom_rect()` to draw a rectangle around points of interest. The boundaries of the rectangle are defined by aesthetics `xmin`, `xmax`, `ymin`, `ymax`.\n",
    "\n",
    "* Use `geom_segment()` with the arrow argument to draw attention to a point with an arrow. Use aesthetics x and y to define the starting location, and xend and yend to define the end location.\n",
    "\n"
   ]
  },
  {
   "cell_type": "markdown",
   "id": "187132f3",
   "metadata": {},
   "source": [
    "## Your turn\n",
    "* Use `geom_text()` with infinite positions to place text at the four corners of the plot.\n",
    "\n",
    "* How do labels with `geom_text()` interact with faceting? How can you add a label to a single facet? How can you put a different label in each facet? (Hint: think about the underlying data.)\n",
    "\n",
    "* Try `geom_segment` to add an arrow to your plot"
   ]
  },
  {
   "cell_type": "code",
   "execution_count": null,
   "id": "f61b8420",
   "metadata": {},
   "outputs": [],
   "source": []
  },
  {
   "cell_type": "markdown",
   "id": "c5594452",
   "metadata": {},
   "source": [
    "# Scales\n",
    " Scales control the mapping from data values to things that you can perceive. Normally, ggplot2 automatically adds scales for you.\n",
    "```r\n",
    " ggplot(mpg, aes(displ, hwy)) +\n",
    "  geom_point(aes(color = class)) +\n",
    "  scale_x_continuous() +\n",
    "  scale_y_continuous() +\n",
    " scale_color_discrete()\n",
    "```\n",
    " \n",
    " Note the naming scheme for scales: `scale_` followed by the name of the aesthetic, then `_`, then the type of the scale: continuous, discrete, datetime, or date."
   ]
  },
  {
   "cell_type": "code",
   "execution_count": null,
   "id": "34e1045f",
   "metadata": {},
   "outputs": [],
   "source": []
  },
  {
   "cell_type": "markdown",
   "id": "c8d22f11",
   "metadata": {},
   "source": [
    "## Axis ticks and legend keys\n",
    "There are two primary arguments that affect the appearance of the ticks on the axes and the keys on the legend: `breaks` and `labels`.\n",
    "\n",
    "`breaks` controls the position of the ticks, or the values associated with the keys. `labels` controls the text label associated with each tick/key.\n",
    "\n",
    "```r\n",
    "ggplot(mpg, aes(displ, hwy)) +\n",
    "  geom_point() +\n",
    "  scale_y_continuous(breaks = seq(15, 40, by = 5))\n",
    "```\n",
    "\n",
    "You can use labels in the same way (a character vector the same length as breaks), but you can also set it to `NULL` to suppress the labels altogether. \n",
    "\n",
    "```r\n",
    "ggplot(mpg, aes(displ, hwy)) +\n",
    "  geom_point() +\n",
    "  scale_x_continuous(labels = NULL) +\n",
    "  scale_y_continuous(labels = NULL)\n",
    "```\n"
   ]
  },
  {
   "cell_type": "code",
   "execution_count": null,
   "id": "8a554a8b",
   "metadata": {},
   "outputs": [],
   "source": []
  },
  {
   "cell_type": "markdown",
   "id": "fe4ed96a",
   "metadata": {},
   "source": [
    "# Legend layout\n",
    "\n",
    "To control the overall position of the legend, you need to use a `theme()` setting. In brief, it controls the non-data parts of the plot.\n",
    "\n",
    "```r\n",
    "base <- ggplot(mpg, aes(displ, hwy)) +\n",
    "  geom_point(aes(color = class))\n",
    "\n",
    "base + theme(legend.position = \"left\")\n",
    "base+theme(axis.text.x = element_text(angle = 90))\n",
    "\n",
    "```"
   ]
  },
  {
   "cell_type": "code",
   "execution_count": null,
   "id": "4f209b7d",
   "metadata": {},
   "outputs": [],
   "source": []
  },
  {
   "cell_type": "markdown",
   "id": "2b96d526",
   "metadata": {},
   "source": [
    "You can also use `legend.position = \"none\"` to suppress the display of the legend.\n",
    "\n",
    "To control the display of individual legends, use `guides()` along with `guide_legend()` or `guide_colorbar()`.\n",
    "\n",
    "```r\n",
    "ggplot(mpg, aes(displ, hwy)) +\n",
    "  geom_point(aes(color = class)) +\n",
    "  geom_smooth(se = FALSE) +\n",
    "  theme(legend.position = \"bottom\") +\n",
    "  guides(color = guide_legend(nrow = 1))\n",
    "\n",
    "```"
   ]
  },
  {
   "cell_type": "code",
   "execution_count": null,
   "id": "51aaf811",
   "metadata": {},
   "outputs": [],
   "source": []
  },
  {
   "cell_type": "markdown",
   "id": "aa1480a5",
   "metadata": {},
   "source": [
    "## Your turn\n",
    "\n",
    "\n",
    "* Move the legend to the bottom (1 row), change the scale of `y` from 10 to 50 and the scale of `x` from 1 to 10 (Check `limits` argument if you find `breaks` does not work)\n",
    "\n",
    "```r\n",
    "ggplot(mpg, aes(displ, hwy)) +\n",
    "  geom_point(aes(color = class))\n",
    "```"
   ]
  },
  {
   "cell_type": "code",
   "execution_count": null,
   "id": "340395c7",
   "metadata": {},
   "outputs": [],
   "source": []
  },
  {
   "cell_type": "markdown",
   "id": "e29b7999",
   "metadata": {},
   "source": [
    "# Zooming\n",
    "\n",
    "To zoom in on a region of the plot, it’s generally best to use `coord_cartesian()`. Compare the following two plots.\n",
    "\n",
    "```r\n",
    "ggplot(mpg, mapping = aes(displ, hwy)) +\n",
    "  geom_point(aes(color = class)) +\n",
    "  geom_smooth() +\n",
    "  coord_cartesian(xlim = c(5, 7), ylim = c(10, 30))\n",
    "\n",
    "\n",
    "\n",
    "ggplot(mpg, mapping = aes(displ, hwy)) +\n",
    "  geom_point(aes(color = class)) +\n",
    "  geom_smooth() +\n",
    "  scale_x_continuous(limits=c(5,7))+\n",
    "  scale_y_continuous(limits=c(10,30))\n",
    "```"
   ]
  },
  {
   "cell_type": "code",
   "execution_count": null,
   "id": "36a100d7",
   "metadata": {},
   "outputs": [],
   "source": []
  },
  {
   "cell_type": "markdown",
   "id": "7786e9fa",
   "metadata": {},
   "source": [
    "# Themes\n",
    "\n",
    "You can customise the non-data elements of your plot with a theme.\n",
    "```r\n",
    "ggplot(mpg, aes(displ, hwy)) +\n",
    "  geom_point(aes(color = class)) +\n",
    "  geom_smooth(se = FALSE) +\n",
    "  theme_bw()\n",
    "```"
   ]
  },
  {
   "cell_type": "code",
   "execution_count": null,
   "id": "30c0e1fc",
   "metadata": {},
   "outputs": [],
   "source": []
  },
  {
   "cell_type": "markdown",
   "id": "47b65473",
   "metadata": {},
   "source": [
    "<img src=\"./figures/visualization/visualization-themes.png\" alt=\"ds\" style=\"width: 750px;\"/>\n",
    "\n",
    "It’s also possible to control individual components of each theme, like the size and color of the font used for the y axis.\n",
    "\n",
    "# Saving your plots\n",
    "There are two main ways to get your plots out of R and into your final write-up: `ggsave()` and knitr. `ggsave()` will save the most recent plot to disk:\n",
    "```r\n",
    "ggplot(mpg, aes(displ, hwy)) + geom_point()\n",
    "ggsave(\"my-plot.pdf\")\n",
    "\n",
    "```\n",
    "\n",
    "If you don’t specify the `width` and `height` they will be taken from the dimensions of the current plotting device. For reproducible code, you’ll want to specify them.\n",
    "\n"
   ]
  },
  {
   "cell_type": "markdown",
   "id": "8522fd8b",
   "metadata": {},
   "source": [
    "# Summary \n",
    "\n",
    "## How ggplot2 builds a graph\n",
    "\n",
    "<img src=\"./figures/visualization/flowchart.png\" alt=\"ds\" style=\"width: 1000px;\"/>\n",
    "\n",
    "\n",
    "## The layered grammar of graphics\n",
    "```r\n",
    "ggplot(data = <DATA>) + \n",
    "  <GEOM_FUNCTION>(\n",
    "     mapping = aes(<MAPPINGS>),\n",
    "     stat = <STAT>, \n",
    "     position = <POSITION>\n",
    "  ) +\n",
    "  <COORDINATE_FUNCTION> +\n",
    "  <FACET_FUNCTION>\n",
    "```\n",
    "\n",
    "\n",
    "\n",
    "#  Learning more\n",
    "\n",
    "Book `ggplot2: Elegant graphics for data analysis` goes into much more depth about the underlying theory, and has many more examples of how to combine the individual pieces to solve practical problems. You can find the source code at <https://github.com/hadley/ggplot2-book>.\n",
    "\n",
    "Another great resource is the ggplot2 extensions gallery <https://exts.ggplot2.tidyverse.org/gallery/>. This site lists many of the packages that extend ggplot2 with new geoms and scales. "
   ]
  }
 ],
 "metadata": {
  "kernelspec": {
   "display_name": "R",
   "language": "R",
   "name": "ir"
  },
  "language_info": {
   "codemirror_mode": "r",
   "file_extension": ".r",
   "mimetype": "text/x-r-source",
   "name": "R",
   "pygments_lexer": "r",
   "version": "3.6.2"
  }
 },
 "nbformat": 4,
 "nbformat_minor": 5
}
