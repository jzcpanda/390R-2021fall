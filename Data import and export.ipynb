{
 "cells": [
  {
   "cell_type": "markdown",
   "id": "6db11429",
   "metadata": {},
   "source": [
    "We will learn how to load files in R with the `readr` package, which is part of the core tidyverse.\n",
    "\n",
    "# Functions for data import\n",
    "\n",
    "Most of `readr`’s functions are concerned with turning flat files into data frames:\n",
    "\n",
    "* `read_csv()` reads comma delimited files, `read_csv2()` reads semicolon separated files (common in countries where `, `is used as the decimal place), `read_tsv()` reads tab delimited files, and `read_delim()` reads in files with any delimiter.\n",
    "\n",
    "* `read_fwf()` reads fixed width files. You can specify fields either by their widths with `fwf_widths()` or their position with `fwf_positions()`. `read_table()` reads a common variation of fixed width files where columns are separated by white space.\n",
    "\n",
    "* `read_log()` reads Apache style log files. (But also check out webreadr which is built on top of `read_log()` and provides many more helpful tools.)\n",
    "\n",
    "These functions all have similar syntax: once you have mastered one, you can use the others with ease. We will focus on `read_csv()`, one of the most common forms of data storage.\n",
    "\n",
    "The first argument to `read_csv()` is the most important: it is the path to the file to read.\n",
    "\n",
    "```\n",
    "heights <- read_csv(\"data/heights.csv\")\n",
    "```\n",
    "\n",
    "You can also supply an inline csv file. This is useful for experimenting with readr and for creating reproducible examples to share with others:\n",
    "\n",
    "```r\n",
    "read_csv(\"a,b,c\n",
    "1,2,3\n",
    "4,5,6\")\n",
    "```"
   ]
  },
  {
   "cell_type": "code",
   "execution_count": null,
   "id": "5d50e092",
   "metadata": {},
   "outputs": [],
   "source": []
  },
  {
   "cell_type": "markdown",
   "id": "fdbd3108",
   "metadata": {},
   "source": [
    "`read_csv()` uses the first line of the data for the column names, which is a very common convention. There are two cases where you might want to tweak this behaviour:\n",
    "\n",
    "1. Sometimes there are a few lines of metadata at the top of the file. You can use `skip = n` to skip the first `n` lines; or use `comment = \"#\"` to drop all lines that start with `#`.\n",
    "```r\n",
    "read_csv(\"The first line of metadata\n",
    "  The second line of metadata\n",
    "  x,y,z\n",
    "  1,2,3\", skip = 2)\n",
    "```\n"
   ]
  },
  {
   "cell_type": "markdown",
   "id": "c5146569",
   "metadata": {},
   "source": [
    "The data might not have column names. You can use `col_names = FALSE` to tell `read_csv()` not to treat the first row as headings, and instead label them sequentially from `X1` to `Xn`:\n",
    "```r\n",
    "read_csv(\"1,2,3\\n4,5,6\", col_names = FALSE)\n",
    "```\n",
    "\n",
    "Alternatively you can pass col_names a character vector which will be used as the column names:\n",
    "```r\n",
    "read_csv(\"1,2,3\\n4,5,6\", col_names = c(\"x\", \"y\", \"z\"))\n",
    "```\n",
    "\n",
    "\n",
    "Another option that commonly needs tweaking is `na`: this specifies the value (or values) that are used to represent missing values in your file:\n",
    "\n",
    "```r\n",
    "read_csv(\"a,b,c\\n1,2,.\", na = \".\")\n",
    "```"
   ]
  },
  {
   "cell_type": "code",
   "execution_count": null,
   "id": "80756ee1",
   "metadata": {},
   "outputs": [],
   "source": []
  },
  {
   "cell_type": "markdown",
   "id": "418af1d9",
   "metadata": {},
   "source": [
    "## Your turn\n",
    "* What function would you use to read a file where fields were separated with\n",
    "“|”, e.g. `\"1|2|3\\n4|5|6\"`? (check `read_delim()`)\n",
    "\n",
    "\n",
    "* Identify what is wrong with each of the following inline CSV files. What happens when you run the code? \n",
    "\n",
    "```r\n",
    "read_csv(\"a,b\\n1,2,3\\n4,5,6\")\n",
    "read_csv(\"a,b,c\\n1,2\\n1,2,3,4\")\n",
    "read_csv(\"a,b\\n1,2\\na,b\")\n",
    "read_csv(\"a;b\\n1;3\")\n",
    "```\n"
   ]
  },
  {
   "cell_type": "code",
   "execution_count": null,
   "id": "4bce9e28",
   "metadata": {},
   "outputs": [],
   "source": []
  },
  {
   "cell_type": "markdown",
   "id": "d9215456",
   "metadata": {},
   "source": [
    "## Parsing a vector\n",
    " The `parse_*()` functions take a character vector and return a more specialized vector like a logical, integer, or date.\n",
    "Like all functions in the tidyverse, the `parse_*()` functions are uniform: the first argument is a character vector to parse, and the `na` argument specifies which strings should be treated as missing:\n",
    "\n",
    "```r\n",
    "parse_integer(c(\"1\", \"231\", \".\", \"456\"), na = \".\")\n",
    "```\n",
    "\n",
    "If parsing fails, you’ll get a warning:\n",
    "```r\n",
    "x <- parse_integer(c(\"123\", \"345\", \"abc\", \"123.45\"))\n",
    "```\n"
   ]
  },
  {
   "cell_type": "code",
   "execution_count": null,
   "id": "e93321e2",
   "metadata": {},
   "outputs": [],
   "source": []
  },
  {
   "cell_type": "markdown",
   "id": "9f88b6fc",
   "metadata": {},
   "source": [
    "Using parsers is mostly a matter of understanding what’s available and how they deal with different types of input. There are eight particularly important parsers:\n",
    "\n",
    "1. `parse_logical()` and `parse_integer()` parse logicals and integers respectively. \n",
    "\n",
    "2. `parse_double()` is a strict numeric parser, and `parse_number()` is a flexible numeric parser. These are more complicated than you might expect because different parts of the world write numbers in different ways.\n",
    "\n",
    "3. `parse_character()`  There is one complication: character encodings.\n",
    "\n",
    "4. `parse_factor()` create factor\n",
    "\n",
    "5. `parse_datetime()`, `parse_date()`, and `parse_time()` allow you to parse various date and time specifications. These are the most complicated because there are so many different ways of writing dates."
   ]
  },
  {
   "cell_type": "markdown",
   "id": "a86197a6",
   "metadata": {},
   "source": [
    "## Parsing a file\n",
    "`readr` uses a heuristic to figure out the type of each column: it reads the first 1000 rows and uses some  heuristics to figure out the type of each column. You can emulate this process with a character vector using `guess_parser()`, which returns readr’s best guess, and `parse_guess()` which uses that guess to parse the column:\n",
    "```r\n",
    "guess_parser(\"2010-10-01\")\n",
    "guess_parser(\"15:01\")\n",
    "guess_parser(c(\"TRUE\", \"FALSE\"))\n",
    "```\n",
    "\n",
    "These defaults may not  work for larger files. There are two basic problems:\n",
    "\n",
    "The first thousand rows might be a special case, and readr guesses a type that is not sufficiently general. For example, you might have a column of doubles that only contains integers in the first 1000 rows.\n",
    "\n",
    "The column might contain a lot of missing values. If the first 1000 rows contain only NAs, readr will guess that it’s a logical vector, whereas you probably want to parse it as something more specific.\n"
   ]
  },
  {
   "cell_type": "code",
   "execution_count": null,
   "id": "af20921a",
   "metadata": {},
   "outputs": [],
   "source": []
  },
  {
   "cell_type": "markdown",
   "id": "8e85141c",
   "metadata": {},
   "source": [
    "# Writing to a file\n",
    "`readr` also comes with two useful functions for writing data back to disk: `write_csv()` and `write_tsv()`. Both functions increase the chances of the output file being read back in correctly by:\n",
    "\n",
    "* Always encoding strings in UTF-8.\n",
    "\n",
    "* Saving dates and date-times in ISO8601 format so they are easily parsed elsewhere.\n",
    "\n",
    "<!-- If you want to export a csv file to Excel, use `write_excel_csv()` — this writes a special character (a “byte order mark”) at the start of the file which tells Excel that you’re using the UTF-8 encoding. -->\n",
    "\n",
    "The most important arguments are `x` (the data to save), and `path` (the location to save it). You can also specify how missing values are written with `na`\n",
    "```r\n",
    "write_csv(name_of_data, \"path_to_save\")\n",
    "```\n",
    "\n",
    "Note that the type information is lost when you save to `csv`. To include the type information, you can use `write_rds() and read_rds().  These store data in R’s custom binary format called RDS.\n",
    "```r\n",
    "write_rds(name_of_data, \"path_to_save.rds\")\n",
    "read_rds(\"path_to_read.rds\")\n",
    "```\n",
    "\n",
    "RDS saves only one object. If you want to save multiple objects, you can use RData format:\n",
    "```r\n",
    "save(a,b,c,file = \"path_to_save.RData\")\n",
    "load(file = \"path_to_load.RData\")\n",
    "```"
   ]
  },
  {
   "cell_type": "code",
   "execution_count": 1,
   "id": "06e61621",
   "metadata": {},
   "outputs": [
    {
     "data": {
      "text/html": [
       "'/Users/Zhichao/Dropbox/courses/UMass/R course/2021 Fall/lectures/390R-2021Fall'"
      ],
      "text/latex": [
       "'/Users/Zhichao/Dropbox/courses/UMass/R course/2021 Fall/lectures/390R-2021Fall'"
      ],
      "text/markdown": [
       "'/Users/Zhichao/Dropbox/courses/UMass/R course/2021 Fall/lectures/390R-2021Fall'"
      ],
      "text/plain": [
       "[1] \"/Users/Zhichao/Dropbox/courses/UMass/R course/2021 Fall/lectures/390R-2021Fall\""
      ]
     },
     "metadata": {},
     "output_type": "display_data"
    }
   ],
   "source": []
  },
  {
   "cell_type": "markdown",
   "id": "b7df0787",
   "metadata": {},
   "source": [
    "# Save figures\n",
    "\n",
    "ggsave() is a convenient function for saving a plot. It defaults to saving the last plot that you displayed, using the size of the current graphics device. It also guesses the type of graphics device from the extension.\n",
    "\n",
    "```r\n",
    "ggplot(mtcars, aes(mpg, wt)) + geom_point()\n",
    "\n",
    "ggsave(\"mtcars.pdf\")\n",
    "ggsave(\"mtcars.png\")\n",
    "\n",
    "ggsave(\"mtcars.pdf\", width = 4, height = 4)\n",
    "ggsave(\"mtcars.pdf\", width = 20, height = 20, units = \"cm\")\n",
    "```"
   ]
  },
  {
   "cell_type": "code",
   "execution_count": null,
   "id": "97967d8f",
   "metadata": {},
   "outputs": [],
   "source": []
  }
 ],
 "metadata": {
  "kernelspec": {
   "display_name": "R",
   "language": "R",
   "name": "ir"
  },
  "language_info": {
   "codemirror_mode": "r",
   "file_extension": ".r",
   "mimetype": "text/x-r-source",
   "name": "R",
   "pygments_lexer": "r",
   "version": "3.6.2"
  }
 },
 "nbformat": 4,
 "nbformat_minor": 5
}
